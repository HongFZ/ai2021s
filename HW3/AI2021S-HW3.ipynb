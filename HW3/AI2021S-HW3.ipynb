{
 "cells": [
  {
   "cell_type": "markdown",
   "metadata": {},
   "source": [
    "# 作业3：深度学习框架实践"
   ]
  },
  {
   "cell_type": "markdown",
   "metadata": {},
   "source": [
    "本次作业将练习深度学习框架的使用，大部分内容用 PyTorch 实现。第1题利用卷积层和全连接层实现手写数字的识别，第2题利用 RNN 来实现英文名的自动生成，第3题是算法题，利用卷积运算实现任意大整数的乘法。"
   ]
  },
  {
   "cell_type": "markdown",
   "metadata": {},
   "source": [
    "### 第1题"
   ]
  },
  {
   "cell_type": "markdown",
   "metadata": {},
   "source": [
    "1. 目标：通过对 MNIST 数据进行训练，构建一个简单的图像分类模型，对图片中的数字进行识别。你将利用该模型对自己真实手写出的数字进行预测，观察模型效果。"
   ]
  },
  {
   "cell_type": "markdown",
   "metadata": {},
   "source": [
    "2. 主要步骤：获取数据，创建模型结构，定义损失函数，编写训练循环，实施预测。"
   ]
  },
  {
   "cell_type": "markdown",
   "metadata": {},
   "source": [
    "3. 获取数据。我们使用知名的 MNIST 数据集，它可以从 PyTorch 中利用工具函数下载得到。原始的 MNIST 数据训练集大小为60000，我们随机抽取其中的10000个观测进行简单的训练。以下函数会在当前目录建立一个名为 data 的文件夹，其中会包含下载得到的数据集。"
   ]
  },
  {
   "cell_type": "markdown",
   "metadata": {},
   "source": [
    "**注意：请在任何程序的最开始加上随机数种子的设置。请保持这一习惯。**"
   ]
  },
  {
   "cell_type": "code",
   "execution_count": 1,
   "metadata": {
    "scrolled": true
   },
   "outputs": [
    {
     "data": {
      "text/plain": [
       "<torch._C.Generator at 0x1ee4731da30>"
      ]
     },
     "execution_count": 1,
     "metadata": {},
     "output_type": "execute_result"
    }
   ],
   "source": [
    "import numpy as np\n",
    "import torch\n",
    "from torchvision import datasets\n",
    "from torchvision.transforms import ToTensor\n",
    "from torch.utils.data import DataLoader\n",
    "\n",
    "np.random.seed(123)\n",
    "torch.manual_seed(123)"
   ]
  },
  {
   "cell_type": "code",
   "execution_count": 2,
   "metadata": {
    "scrolled": true
   },
   "outputs": [],
   "source": [
    "mnist = datasets.MNIST(\n",
    "    root=\"data\",\n",
    "    train=True,\n",
    "    download=True,\n",
    "    transform=ToTensor()\n",
    ")\n",
    "loader = DataLoader(mnist, batch_size=10000, shuffle=True)"
   ]
  },
  {
   "cell_type": "markdown",
   "metadata": {},
   "source": [
    "我们一次性取出随机抽取到的10000个观测，其中 x 是图片数据，y 是图片对应的数字。"
   ]
  },
  {
   "cell_type": "code",
   "execution_count": 3,
   "metadata": {},
   "outputs": [],
   "source": [
    "x, y = next(iter(loader))"
   ]
  },
  {
   "cell_type": "markdown",
   "metadata": {},
   "source": [
    "一个习惯性动作是查看数据的大小和维度。"
   ]
  },
  {
   "cell_type": "code",
   "execution_count": 4,
   "metadata": {},
   "outputs": [
    {
     "name": "stdout",
     "output_type": "stream",
     "text": [
      "torch.Size([10000, 1, 28, 28])\n",
      "torch.Size([10000])\n"
     ]
    }
   ],
   "source": [
    "print(x.shape)\n",
    "print(y.shape)"
   ]
  },
  {
   "cell_type": "markdown",
   "metadata": {},
   "source": [
    "我们可以利用下面的函数展示图片的内容。如选择第一张图片，先将其转换成 Numpy 数组，再绘制图形："
   ]
  },
  {
   "cell_type": "code",
   "execution_count": 5,
   "metadata": {
    "scrolled": true
   },
   "outputs": [
    {
     "name": "stdout",
     "output_type": "stream",
     "text": [
      "(28, 28)\n"
     ]
    },
    {
     "data": {
      "image/png": "[encoded data removed]",
      "text/plain": [
       "<Figure size 432x288 with 1 Axes>"
      ]
     },
     "metadata": {
      "needs_background": "light"
     },
     "output_type": "display_data"
    }
   ],
   "source": [
    "import matplotlib.pyplot as plt\n",
    "\n",
    "img = x[0].squeeze().cpu().numpy()\n",
    "print(img.shape)\n",
    "plt.imshow(img, cmap=\"gray\")\n",
    "plt.show()"
   ]
  },
  {
   "cell_type": "markdown",
   "metadata": {},
   "source": [
    "接下来请你选择5个你喜欢的数字（10000以下），然后取出对应位置的图片，并画出它们的内容。"
   ]
  },
  {
   "cell_type": "code",
   "execution_count": 6,
   "metadata": {},
   "outputs": [
    {
     "name": "stdout",
     "output_type": "stream",
     "text": [
      "(28, 28)\n"
     ]
    },
    {
     "data": {
      "image/png": "[encoded data removed]",
      "text/plain": [
       "<Figure size 432x288 with 1 Axes>"
      ]
     },
     "metadata": {
      "needs_background": "light"
     },
     "output_type": "display_data"
    },
    {
     "name": "stdout",
     "output_type": "stream",
     "text": [
      "(28, 28)\n"
     ]
    },
    {
     "data": {
      "image/png": "[encoded data removed]",
      "text/plain": [
       "<Figure size 432x288 with 1 Axes>"
      ]
     },
     "metadata": {
      "needs_background": "light"
     },
     "output_type": "display_data"
    },
    {
     "name": "stdout",
     "output_type": "stream",
     "text": [
      "(28, 28)\n"
     ]
    },
    {
     "data": {
      "image/png": "[encoded data removed]",
      "text/plain": [
       "<Figure size 432x288 with 1 Axes>"
      ]
     },
     "metadata": {
      "needs_background": "light"
     },
     "output_type": "display_data"
    },
    {
     "name": "stdout",
     "output_type": "stream",
     "text": [
      "(28, 28)\n"
     ]
    },
    {
     "data": {
      "image/png": "[encoded data removed]",
      "text/plain": [
       "<Figure size 432x288 with 1 Axes>"
      ]
     },
     "metadata": {
      "needs_background": "light"
     },
     "output_type": "display_data"
    },
    {
     "name": "stdout",
     "output_type": "stream",
     "text": [
      "(28, 28)\n"
     ]
    },
    {
     "data": {
      "image/png": "[encoded data removed]",
      "text/plain": [
       "<Figure size 432x288 with 1 Axes>"
      ]
     },
     "metadata": {
      "needs_background": "light"
     },
     "output_type": "display_data"
    }
   ],
   "source": [
    "for num in [111,222,333,444,555]:\n",
    "    img = x[num].squeeze().cpu().numpy()\n",
    "    print(img.shape)\n",
    "    plt.imshow(img, cmap=\"gray\")\n",
    "    plt.show()"
   ]
  },
  {
   "cell_type": "markdown",
   "metadata": {},
   "source": [
    "4. 搭建模型。我们搭建一个类似于 LeNet-5 的网络，结构如下："
   ]
  },
  {
   "cell_type": "markdown",
   "metadata": {},
   "source": [
    "![](https://pic1.zhimg.com/80/v2-82eabb4c17e90d467197d013f7629f3c_720w.jpg)"
   ]
  },
  {
   "cell_type": "markdown",
   "metadata": {},
   "source": [
    "我们需要创建2个卷积层、2个汇聚层（池化层）和2个全连接层，**暂时忽略所有的激活函数**。所有隐藏层的函数细节都可以在[官方文档](https://pytorch.org/docs/stable/nn.html)中按分类找到。每一个隐藏层本质上都是将一个数组变换成另一个数组的函数，因此为了确认编写的模型是正确的，可以先用一个小数据进行测试，观察输入和输出的维度。例如，我们先取出前10个观测，此时输入的维度是 `[10, 1, 28, 28]`："
   ]
  },
  {
   "cell_type": "code",
   "execution_count": 7,
   "metadata": {},
   "outputs": [
    {
     "name": "stdout",
     "output_type": "stream",
     "text": [
      "torch.Size([10, 1, 28, 28])\n",
      "torch.Size([10])\n"
     ]
    }
   ],
   "source": [
    "smallx = x[0:10]\n",
    "smally = y[0:10]\n",
    "print(smallx.shape)\n",
    "print(smally.shape)"
   ]
  },
  {
   "cell_type": "markdown",
   "metadata": {},
   "source": [
    "接下来创建第1个卷积层，并测试输出的维度。注意到我们可以直接将隐藏层当成一个函数来调用。"
   ]
  },
  {
   "cell_type": "code",
   "execution_count": 8,
   "metadata": {},
   "outputs": [
    {
     "name": "stdout",
     "output_type": "stream",
     "text": [
      "torch.Size([10, 20, 24, 24])\n"
     ]
    }
   ],
   "source": [
    "conv1 = torch.nn.Conv2d(in_channels=1, out_channels=20, kernel_size=5, stride=1)\n",
    "res = conv1(smallx)\n",
    "print(res.shape)"
   ]
  },
  {
   "cell_type": "markdown",
   "metadata": {},
   "source": [
    "可以看到，输出的维度为 `[20, 24, 24]`（不包括第1位的数据批次维度），与之前图中的结果吻合。"
   ]
  },
  {
   "cell_type": "markdown",
   "metadata": {},
   "source": [
    "接下来，请按照图中提示编写层对象 `pool1`、`conv2`、`pool2`、`fc1` 和 `fc2`，并顺次测试输入与输出的维度，使其与上图匹配。注意，在将一个大小为 `[10, 50, 4, 4]` 的数组（假设叫 `somearray`）传递给 `fc1` 之前，需要先将其变形为只有两个维度的数组，做法是 `somearray.view(-1, 50*4*4)`，其中 -1 表示该位置的大小不变。"
   ]
  },
  {
   "cell_type": "code",
   "execution_count": 9,
   "metadata": {},
   "outputs": [
    {
     "name": "stdout",
     "output_type": "stream",
     "text": [
      "torch.Size([10, 20, 12, 12])\n",
      "torch.Size([10, 50, 8, 8])\n",
      "torch.Size([10, 50, 4, 4])\n",
      "torch.Size([10, 500])\n",
      "torch.Size([10, 500])\n",
      "torch.Size([10, 10])\n",
      "torch.Size([10, 10])\n"
     ]
    }
   ],
   "source": [
    "pool1 = torch.nn.MaxPool2d(kernel_size=2, stride=2)\n",
    "res = pool1(res)\n",
    "print(res.shape)\n",
    "\n",
    "conv2 = torch.nn.Conv2d(in_channels=20, out_channels=50, kernel_size=5, stride=1)\n",
    "res = conv2(res)\n",
    "print(res.shape)\n",
    "\n",
    "pool2 = torch.nn.MaxPool2d(kernel_size=2, stride=2)\n",
    "res = pool2(res)\n",
    "print(res.shape)\n",
    "\n",
    "fc1 = torch.nn.Linear(50 * 4 * 4, 500)\n",
    "res = fc1(res.view(-1, 50 * 4 * 4))\n",
    "print(res.shape)\n",
    "\n",
    "relu = torch.nn.ReLU()\n",
    "res = relu(res)\n",
    "print(res.shape)\n",
    "\n",
    "fc2 = torch.nn.Linear(500, 10)\n",
    "res = fc2(res)\n",
    "print(res.shape)\n",
    "\n",
    "softmax = torch.nn.Softmax(dim=1)\n",
    "res = softmax(res)\n",
    "print(res.shape)"
   ]
  },
  {
   "cell_type": "markdown",
   "metadata": {},
   "source": [
    "5. 创建模型类。在确保隐藏层维度都正确后，将所有的隐藏层封装到一个模型类中，其中模型结构在 `__init__()` 中定义，具体的计算过程在 `forward()` 中实现。此时需要加入激活函数。在本模型中，**请在 `conv1`、`conv2` 和 `fc1` 后加入 ReLU 激活函数，并在 `fc2` 后加入 Softmax 激活函数**。"
   ]
  },
  {
   "cell_type": "code",
   "execution_count": 10,
   "metadata": {},
   "outputs": [],
   "source": [
    "class MyModel(torch.nn.Module):\n",
    "    def __init__(self):\n",
    "        super().__init__()\n",
    "        self.conv1 = torch.nn.Conv2d(in_channels=1, out_channels=20, kernel_size=5, stride=1)\n",
    "        self.pool1 = torch.nn.MaxPool2d(kernel_size=2, stride=2)\n",
    "        self.conv2 = torch.nn.Conv2d(in_channels=20, out_channels=50, kernel_size=5, stride=1)\n",
    "        self.pool2 = torch.nn.MaxPool2d(kernel_size=2, stride=2)\n",
    "        self.fc1 = torch.nn.Linear(50 * 4 * 4, 500)\n",
    "        self.fc2 = torch.nn.Linear(500, 10)\n",
    "\n",
    "    def forward(self, x):\n",
    "        x = self.conv1(x)\n",
    "        x = torch.relu(x)\n",
    "        x = self.pool1(x)\n",
    "        x = self.conv2(x)\n",
    "        x = torch.relu(x)\n",
    "        x = self.pool2(x)\n",
    "        x = self.fc1(x.view(-1, 50 * 4 * 4))\n",
    "        x = torch.relu(x)\n",
    "        x = self.fc2(x)\n",
    "        x = torch.softmax(x, dim=1)\n",
    "        return x"
   ]
  },
  {
   "cell_type": "markdown",
   "metadata": {},
   "source": [
    "再次测试输入输出的维度是否正确。如果模型编写正确，输出的维度应该是 `[10, 10]`，且输出结果为0到1之间的概率值。"
   ]
  },
  {
   "cell_type": "code",
   "execution_count": 12,
   "metadata": {},
   "outputs": [
    {
     "name": "stdout",
     "output_type": "stream",
     "text": [
      "torch.Size([10, 10])\n",
      "tensor([[0.0992, 0.0989, 0.0982, 0.1089, 0.0943, 0.0912, 0.0996, 0.1020, 0.1021,\n",
      "         0.1056],\n",
      "        [0.0997, 0.1004, 0.0978, 0.1085, 0.0938, 0.0907, 0.0982, 0.1045, 0.1020,\n",
      "         0.1045],\n",
      "        [0.0990, 0.0993, 0.0979, 0.1081, 0.0913, 0.0921, 0.0976, 0.1088, 0.1030,\n",
      "         0.1031],\n",
      "        [0.0955, 0.0996, 0.1010, 0.1081, 0.0931, 0.0913, 0.0988, 0.1044, 0.1031,\n",
      "         0.1051],\n",
      "        [0.0995, 0.0988, 0.0985, 0.1091, 0.0919, 0.0918, 0.0980, 0.1059, 0.1017,\n",
      "         0.1049],\n",
      "        [0.0977, 0.0994, 0.0996, 0.1073, 0.0924, 0.0922, 0.1018, 0.1019, 0.1040,\n",
      "         0.1038],\n",
      "        [0.0972, 0.1011, 0.1010, 0.1062, 0.0931, 0.0908, 0.1006, 0.1048, 0.1037,\n",
      "         0.1016],\n",
      "        [0.0996, 0.0984, 0.0987, 0.1068, 0.0904, 0.0900, 0.0992, 0.1076, 0.1020,\n",
      "         0.1075],\n",
      "        [0.0972, 0.0998, 0.1012, 0.1084, 0.0925, 0.0905, 0.1022, 0.1014, 0.1023,\n",
      "         0.1045],\n",
      "        [0.0979, 0.0998, 0.0985, 0.1080, 0.0959, 0.0910, 0.0979, 0.1049, 0.1027,\n",
      "         0.1033]], grad_fn=<SoftmaxBackward>)\n",
      "tensor([7, 4, 5, 4, 0, 7, 1, 0, 7, 4])\n"
     ]
    }
   ],
   "source": [
    "np.random.seed(123)\n",
    "torch.manual_seed(123)\n",
    "\n",
    "model = MyModel()\n",
    "pred = model(smallx)\n",
    "print(pred.shape)\n",
    "print(pred)\n",
    "print(smally)"
   ]
  },
  {
   "cell_type": "markdown",
   "metadata": {},
   "source": [
    "`pred` 的每一行加总为1，其中每一个元素代表对应类别的预测概率。"
   ]
  },
  {
   "cell_type": "markdown",
   "metadata": {},
   "source": [
    "我们还可以直接打印模型对象，观察隐藏层的结构："
   ]
  },
  {
   "cell_type": "code",
   "execution_count": 13,
   "metadata": {},
   "outputs": [
    {
     "name": "stdout",
     "output_type": "stream",
     "text": [
      "MyModel(\n",
      "  (conv1): Conv2d(1, 20, kernel_size=(5, 5), stride=(1, 1))\n",
      "  (pool1): MaxPool2d(kernel_size=2, stride=2, padding=0, dilation=1, ceil_mode=False)\n",
      "  (conv2): Conv2d(20, 50, kernel_size=(5, 5), stride=(1, 1))\n",
      "  (pool2): MaxPool2d(kernel_size=2, stride=2, padding=0, dilation=1, ceil_mode=False)\n",
      "  (fc1): Linear(in_features=800, out_features=500, bias=True)\n",
      "  (fc2): Linear(in_features=500, out_features=10, bias=True)\n",
      ")\n"
     ]
    }
   ],
   "source": [
    "print(model)"
   ]
  },
  {
   "cell_type": "markdown",
   "metadata": {},
   "source": [
    "6. 损失函数。对于分类问题，损失函数通常选取为负对数似然函数。在 PyTorch 中，可以使用 `torch.nn.NLLLoss` 来完成计算。其用法是先定义一个损失函数对象，然后在预测值和真实标签上调用该函数对象。注意：损失函数对象的第一个参数是预测概率的**对数值**，第二个参数是真实的标签。[文档说明](https://pytorch.org/docs/stable/generated/torch.nn.NLLLoss.html)。"
   ]
  },
  {
   "cell_type": "code",
   "execution_count": 14,
   "metadata": {},
   "outputs": [
    {
     "data": {
      "text/plain": [
       "tensor(2.3231, grad_fn=<NllLossBackward>)"
      ]
     },
     "execution_count": 14,
     "metadata": {},
     "output_type": "execute_result"
    }
   ],
   "source": [
    "lossfn = torch.nn.NLLLoss()\n",
    "lossfn(torch.log(pred), smally)"
   ]
  },
  {
   "cell_type": "markdown",
   "metadata": {},
   "source": [
    "7. 利用课上介绍的循环模板和代码示例，对模型进行迭代训练。对于本数据，选取 mini-batch 大小为200，共遍历数据10遍，优化器选为 Adam，学习率为0.001。"
   ]
  },
  {
   "cell_type": "code",
   "execution_count": 63,
   "metadata": {},
   "outputs": [
    {
     "name": "stdout",
     "output_type": "stream",
     "text": [
      "epoch 0, batch 1, loss = 2.3062708377838135\n",
      "epoch 0, batch 2, loss = 2.2662487030029297\n",
      "epoch 0, batch 3, loss = 2.217352867126465\n",
      "epoch 0, batch 4, loss = 2.156526565551758\n",
      "epoch 0, batch 5, loss = 2.0445191860198975\n",
      "epoch 0, batch 6, loss = 1.9561676979064941\n",
      "epoch 0, batch 7, loss = 1.8460077047348022\n",
      "epoch 0, batch 8, loss = 1.7074928283691406\n",
      "epoch 0, batch 9, loss = 1.595689296722412\n",
      "epoch 0, batch 10, loss = 1.3743484020233154\n",
      "epoch 0, batch 11, loss = 1.2930766344070435\n",
      "epoch 0, batch 12, loss = 1.2297788858413696\n",
      "epoch 0, batch 13, loss = 1.0254333019256592\n",
      "epoch 0, batch 14, loss = 0.9789087176322937\n",
      "epoch 0, batch 15, loss = 0.8862656354904175\n",
      "epoch 0, batch 16, loss = 0.7562286257743835\n",
      "epoch 0, batch 17, loss = 0.8120880722999573\n",
      "epoch 0, batch 18, loss = 0.6880616545677185\n",
      "epoch 0, batch 19, loss = 0.6391095519065857\n",
      "epoch 0, batch 20, loss = 0.6934168934822083\n",
      "epoch 0, batch 21, loss = 0.5670079588890076\n",
      "epoch 0, batch 22, loss = 0.4876691401004791\n",
      "epoch 0, batch 23, loss = 0.49494481086730957\n",
      "epoch 0, batch 24, loss = 0.5368302464485168\n",
      "epoch 0, batch 25, loss = 0.5332321524620056\n",
      "epoch 0, batch 26, loss = 0.45893532037734985\n",
      "epoch 0, batch 27, loss = 0.6689633727073669\n",
      "epoch 0, batch 28, loss = 0.41956210136413574\n",
      "epoch 0, batch 29, loss = 0.4515537917613983\n",
      "epoch 0, batch 30, loss = 0.41342514753341675\n",
      "epoch 0, batch 31, loss = 0.5369466543197632\n",
      "epoch 0, batch 32, loss = 0.32673388719558716\n",
      "epoch 0, batch 33, loss = 0.4598439335823059\n",
      "epoch 0, batch 34, loss = 0.4351347088813782\n",
      "epoch 0, batch 35, loss = 0.3957277238368988\n",
      "epoch 0, batch 36, loss = 0.4207669794559479\n",
      "epoch 0, batch 37, loss = 0.3906921148300171\n",
      "epoch 0, batch 38, loss = 0.41566818952560425\n",
      "epoch 0, batch 39, loss = 0.3088740408420563\n",
      "epoch 0, batch 40, loss = 0.34124183654785156\n",
      "epoch 0, batch 41, loss = 0.32169830799102783\n",
      "epoch 0, batch 42, loss = 0.3168512284755707\n",
      "epoch 0, batch 43, loss = 0.4221283793449402\n",
      "epoch 0, batch 44, loss = 0.30699804425239563\n",
      "epoch 0, batch 45, loss = 0.29573798179626465\n",
      "epoch 0, batch 46, loss = 0.23625831305980682\n",
      "epoch 0, batch 47, loss = 0.22725297510623932\n",
      "epoch 0, batch 48, loss = 0.26540255546569824\n",
      "epoch 0, batch 49, loss = 0.24800966680049896\n",
      "epoch 0, batch 50, loss = 0.403260737657547\n",
      "epoch 0, batch 51, loss = 0.294903963804245\n",
      "epoch 0, batch 52, loss = 0.3435552716255188\n",
      "epoch 0, batch 53, loss = 0.31746184825897217\n",
      "epoch 0, batch 54, loss = 0.2752275764942169\n",
      "epoch 0, batch 55, loss = 0.2747398316860199\n",
      "epoch 0, batch 56, loss = 0.28251913189888\n",
      "epoch 0, batch 57, loss = 0.20410412549972534\n",
      "epoch 0, batch 58, loss = 0.40107783675193787\n",
      "epoch 0, batch 59, loss = 0.20453234016895294\n",
      "epoch 0, batch 60, loss = 0.35798537731170654\n",
      "epoch 0, batch 61, loss = 0.24193458259105682\n",
      "epoch 0, batch 62, loss = 0.20388808846473694\n",
      "epoch 0, batch 63, loss = 0.15370406210422516\n",
      "epoch 0, batch 64, loss = 0.2566589117050171\n",
      "epoch 0, batch 65, loss = 0.2364710569381714\n",
      "epoch 0, batch 66, loss = 0.2511358857154846\n",
      "epoch 0, batch 67, loss = 0.23293094336986542\n",
      "epoch 0, batch 68, loss = 0.22939178347587585\n",
      "epoch 0, batch 69, loss = 0.2200823277235031\n",
      "epoch 0, batch 70, loss = 0.1899711638689041\n",
      "epoch 0, batch 71, loss = 0.2777894139289856\n",
      "epoch 0, batch 72, loss = 0.14571085572242737\n",
      "epoch 0, batch 73, loss = 0.18971234560012817\n",
      "epoch 0, batch 74, loss = 0.1939767301082611\n",
      "epoch 0, batch 75, loss = 0.1974717527627945\n",
      "epoch 0, batch 76, loss = 0.1568111628293991\n",
      "epoch 0, batch 77, loss = 0.1818723827600479\n",
      "epoch 0, batch 78, loss = 0.21635429561138153\n",
      "epoch 0, batch 79, loss = 0.23256437480449677\n",
      "epoch 0, batch 80, loss = 0.11696405708789825\n",
      "epoch 0, batch 81, loss = 0.15916334092617035\n",
      "epoch 0, batch 82, loss = 0.20361287891864777\n",
      "epoch 0, batch 83, loss = 0.22859641909599304\n",
      "epoch 0, batch 84, loss = 0.17491839826107025\n",
      "epoch 0, batch 85, loss = 0.16175289452075958\n",
      "epoch 0, batch 86, loss = 0.21921318769454956\n",
      "epoch 0, batch 87, loss = 0.19688086211681366\n",
      "epoch 0, batch 88, loss = 0.17826960980892181\n",
      "epoch 0, batch 89, loss = 0.19893333315849304\n",
      "epoch 0, batch 90, loss = 0.14742080867290497\n",
      "epoch 0, batch 91, loss = 0.13311660289764404\n",
      "epoch 0, batch 92, loss = 0.1479545384645462\n",
      "epoch 0, batch 93, loss = 0.21008513867855072\n",
      "epoch 0, batch 94, loss = 0.2573048770427704\n",
      "epoch 0, batch 95, loss = 0.2011006772518158\n",
      "epoch 0, batch 96, loss = 0.24258847534656525\n",
      "epoch 0, batch 97, loss = 0.17715463042259216\n",
      "epoch 0, batch 98, loss = 0.1967153698205948\n",
      "epoch 0, batch 99, loss = 0.21393577754497528\n",
      "epoch 0, batch 100, loss = 0.14604058861732483\n",
      "epoch 0, batch 101, loss = 0.22050964832305908\n",
      "epoch 0, batch 102, loss = 0.12691524624824524\n",
      "epoch 0, batch 103, loss = 0.27334877848625183\n",
      "epoch 0, batch 104, loss = 0.2042587697505951\n",
      "epoch 0, batch 105, loss = 0.11476544290781021\n",
      "epoch 0, batch 106, loss = 0.1398109793663025\n",
      "epoch 0, batch 107, loss = 0.3071812391281128\n",
      "epoch 0, batch 108, loss = 0.20678867399692535\n",
      "epoch 0, batch 109, loss = 0.14415991306304932\n",
      "epoch 0, batch 110, loss = 0.11629557609558105\n",
      "epoch 0, batch 111, loss = 0.15270677208900452\n",
      "epoch 0, batch 112, loss = 0.16617488861083984\n",
      "epoch 0, batch 113, loss = 0.1612195372581482\n",
      "epoch 0, batch 114, loss = 0.18569828569889069\n",
      "epoch 0, batch 115, loss = 0.14015129208564758\n",
      "epoch 0, batch 116, loss = 0.20452548563480377\n",
      "epoch 0, batch 117, loss = 0.18715812265872955\n",
      "epoch 0, batch 118, loss = 0.09728574752807617\n",
      "epoch 0, batch 119, loss = 0.09844048321247101\n",
      "epoch 0, batch 120, loss = 0.10737375169992447\n",
      "epoch 0, batch 121, loss = 0.15469735860824585\n",
      "epoch 0, batch 122, loss = 0.18760377168655396\n",
      "epoch 0, batch 123, loss = 0.08570360392332077\n",
      "epoch 0, batch 124, loss = 0.10082390904426575\n",
      "epoch 0, batch 125, loss = 0.0951743870973587\n",
      "epoch 0, batch 126, loss = 0.13330315053462982\n",
      "epoch 0, batch 127, loss = 0.10725545138120651\n",
      "epoch 0, batch 128, loss = 0.17716176807880402\n",
      "epoch 0, batch 129, loss = 0.07738257199525833\n",
      "epoch 0, batch 130, loss = 0.1179819330573082\n",
      "epoch 0, batch 131, loss = 0.10017099976539612\n",
      "epoch 0, batch 132, loss = 0.12826775014400482\n",
      "epoch 0, batch 133, loss = 0.11106723546981812\n",
      "epoch 0, batch 134, loss = 0.13559867441654205\n",
      "epoch 0, batch 135, loss = 0.11260969191789627\n",
      "epoch 0, batch 136, loss = 0.14254385232925415\n",
      "epoch 0, batch 137, loss = 0.12864387035369873\n",
      "epoch 0, batch 138, loss = 0.14744903147220612\n",
      "epoch 0, batch 139, loss = 0.11887911707162857\n",
      "epoch 0, batch 140, loss = 0.1924353986978531\n",
      "epoch 0, batch 141, loss = 0.11412987112998962\n",
      "epoch 0, batch 142, loss = 0.1371350884437561\n",
      "epoch 0, batch 143, loss = 0.08984468132257462\n",
      "epoch 0, batch 144, loss = 0.10562669485807419\n",
      "epoch 0, batch 145, loss = 0.11828409880399704\n",
      "epoch 0, batch 146, loss = 0.12273185700178146\n",
      "epoch 0, batch 147, loss = 0.1186237558722496\n",
      "epoch 0, batch 148, loss = 0.18279273808002472\n",
      "epoch 0, batch 149, loss = 0.1420104056596756\n",
      "epoch 0, batch 150, loss = 0.11128678172826767\n",
      "epoch 0, batch 151, loss = 0.1768038123846054\n",
      "epoch 0, batch 152, loss = 0.050825268030166626\n",
      "epoch 0, batch 153, loss = 0.08631287515163422\n",
      "epoch 0, batch 154, loss = 0.1383943259716034\n",
      "epoch 0, batch 155, loss = 0.14939865469932556\n",
      "epoch 0, batch 156, loss = 0.11913326382637024\n",
      "epoch 0, batch 157, loss = 0.18603086471557617\n",
      "epoch 0, batch 158, loss = 0.13055077195167542\n",
      "epoch 0, batch 159, loss = 0.1157616674900055\n",
      "epoch 0, batch 160, loss = 0.08598930388689041\n",
      "epoch 0, batch 161, loss = 0.10109203308820724\n",
      "epoch 0, batch 162, loss = 0.13405334949493408\n",
      "epoch 0, batch 163, loss = 0.09761032462120056\n",
      "epoch 0, batch 164, loss = 0.09405449777841568\n",
      "epoch 0, batch 165, loss = 0.08012539148330688\n",
      "epoch 0, batch 166, loss = 0.07033656537532806\n",
      "epoch 0, batch 167, loss = 0.1277945339679718\n",
      "epoch 0, batch 168, loss = 0.05911718308925629\n",
      "epoch 0, batch 169, loss = 0.0896630585193634\n",
      "epoch 0, batch 170, loss = 0.08193781226873398\n",
      "epoch 0, batch 171, loss = 0.1085362359881401\n",
      "epoch 0, batch 172, loss = 0.04663095623254776\n",
      "epoch 0, batch 173, loss = 0.15920063853263855\n",
      "epoch 0, batch 174, loss = 0.11444271355867386\n",
      "epoch 0, batch 175, loss = 0.17252594232559204\n",
      "epoch 0, batch 176, loss = 0.10964465886354446\n",
      "epoch 0, batch 177, loss = 0.03453188017010689\n",
      "epoch 0, batch 178, loss = 0.07611694186925888\n",
      "epoch 0, batch 179, loss = 0.1141807809472084\n",
      "epoch 0, batch 180, loss = 0.18344055116176605\n"
     ]
    },
    {
     "name": "stdout",
     "output_type": "stream",
     "text": [
      "epoch 0, batch 181, loss = 0.06629195809364319\n",
      "epoch 0, batch 182, loss = 0.07971838116645813\n",
      "epoch 0, batch 183, loss = 0.10388351231813431\n",
      "epoch 0, batch 184, loss = 0.09996087104082108\n",
      "epoch 0, batch 185, loss = 0.07845267653465271\n",
      "epoch 0, batch 186, loss = 0.04842749238014221\n",
      "epoch 0, batch 187, loss = 0.0733163133263588\n",
      "epoch 0, batch 188, loss = 0.140195831656456\n",
      "epoch 0, batch 189, loss = 0.10690390318632126\n",
      "epoch 0, batch 190, loss = 0.06771335750818253\n",
      "epoch 0, batch 191, loss = 0.051959529519081116\n",
      "epoch 0, batch 192, loss = 0.12803632020950317\n",
      "epoch 0, batch 193, loss = 0.0887066051363945\n",
      "epoch 0, batch 194, loss = 0.06522863358259201\n",
      "epoch 0, batch 195, loss = 0.14818891882896423\n",
      "epoch 0, batch 196, loss = 0.07969710230827332\n",
      "epoch 0, batch 197, loss = 0.13492965698242188\n",
      "epoch 0, batch 198, loss = 0.08202555030584335\n",
      "epoch 0, batch 199, loss = 0.04681164398789406\n",
      "epoch 1, batch 1, loss = 0.08927862346172333\n",
      "epoch 1, batch 2, loss = 0.04046344384551048\n",
      "epoch 1, batch 3, loss = 0.07164601981639862\n",
      "epoch 1, batch 4, loss = 0.038762371987104416\n",
      "epoch 1, batch 5, loss = 0.038220569491386414\n",
      "epoch 1, batch 6, loss = 0.12550988793373108\n",
      "epoch 1, batch 7, loss = 0.09319312870502472\n",
      "epoch 1, batch 8, loss = 0.1006212830543518\n",
      "epoch 1, batch 9, loss = 0.06676318496465683\n",
      "epoch 1, batch 10, loss = 0.05124830827116966\n",
      "epoch 1, batch 11, loss = 0.10378851741552353\n",
      "epoch 1, batch 12, loss = 0.10209045559167862\n",
      "epoch 1, batch 13, loss = 0.04147971048951149\n",
      "epoch 1, batch 14, loss = 0.03780880570411682\n",
      "epoch 1, batch 15, loss = 0.08836674690246582\n",
      "epoch 1, batch 16, loss = 0.042660053819417953\n",
      "epoch 1, batch 17, loss = 0.03476271778345108\n",
      "epoch 1, batch 18, loss = 0.05226915329694748\n",
      "epoch 1, batch 19, loss = 0.1250706911087036\n",
      "epoch 1, batch 20, loss = 0.07011720538139343\n",
      "epoch 1, batch 21, loss = 0.07051364332437515\n",
      "epoch 1, batch 22, loss = 0.05908776819705963\n",
      "epoch 1, batch 23, loss = 0.02645520493388176\n",
      "epoch 1, batch 24, loss = 0.042059965431690216\n",
      "epoch 1, batch 25, loss = 0.10921376943588257\n",
      "epoch 1, batch 26, loss = 0.03934653103351593\n",
      "epoch 1, batch 27, loss = 0.06705513596534729\n",
      "epoch 1, batch 28, loss = 0.05638689920306206\n",
      "epoch 1, batch 29, loss = 0.06248670071363449\n",
      "epoch 1, batch 30, loss = 0.14605194330215454\n",
      "epoch 1, batch 31, loss = 0.025606758892536163\n",
      "epoch 1, batch 32, loss = 0.035157572478055954\n",
      "epoch 1, batch 33, loss = 0.058721646666526794\n",
      "epoch 1, batch 34, loss = 0.02853524126112461\n",
      "epoch 1, batch 35, loss = 0.05265476554632187\n",
      "epoch 1, batch 36, loss = 0.04051194339990616\n",
      "epoch 1, batch 37, loss = 0.08796069025993347\n",
      "epoch 1, batch 38, loss = 0.11250728368759155\n",
      "epoch 1, batch 39, loss = 0.031766802072525024\n",
      "epoch 1, batch 40, loss = 0.08329732716083527\n",
      "epoch 1, batch 41, loss = 0.051079560071229935\n",
      "epoch 1, batch 42, loss = 0.08018819987773895\n",
      "epoch 1, batch 43, loss = 0.12520301342010498\n",
      "epoch 1, batch 44, loss = 0.049619074910879135\n",
      "epoch 1, batch 45, loss = 0.04948766157031059\n",
      "epoch 1, batch 46, loss = 0.053578633815050125\n",
      "epoch 1, batch 47, loss = 0.07623933255672455\n",
      "epoch 1, batch 48, loss = 0.057684797793626785\n",
      "epoch 1, batch 49, loss = 0.08390326797962189\n",
      "epoch 1, batch 50, loss = 0.12133019417524338\n",
      "epoch 1, batch 51, loss = 0.06931807100772858\n",
      "epoch 1, batch 52, loss = 0.10732545703649521\n",
      "epoch 1, batch 53, loss = 0.027578193694353104\n",
      "epoch 1, batch 54, loss = 0.05046037584543228\n",
      "epoch 1, batch 55, loss = 0.032972633838653564\n",
      "epoch 1, batch 56, loss = 0.10177526623010635\n",
      "epoch 1, batch 57, loss = 0.0860477164387703\n",
      "epoch 1, batch 58, loss = 0.02072994038462639\n",
      "epoch 1, batch 59, loss = 0.08011435717344284\n",
      "epoch 1, batch 60, loss = 0.08168084919452667\n",
      "epoch 1, batch 61, loss = 0.058411236852407455\n",
      "epoch 1, batch 62, loss = 0.08691324293613434\n",
      "epoch 1, batch 63, loss = 0.06550332903862\n",
      "epoch 1, batch 64, loss = 0.05601317435503006\n",
      "epoch 1, batch 65, loss = 0.04723091050982475\n",
      "epoch 1, batch 66, loss = 0.12850289046764374\n",
      "epoch 1, batch 67, loss = 0.046626023948192596\n",
      "epoch 1, batch 68, loss = 0.04519705846905708\n",
      "epoch 1, batch 69, loss = 0.056891538202762604\n",
      "epoch 1, batch 70, loss = 0.0643308162689209\n",
      "epoch 1, batch 71, loss = 0.026408467441797256\n",
      "epoch 1, batch 72, loss = 0.036354608833789825\n",
      "epoch 1, batch 73, loss = 0.024070344865322113\n",
      "epoch 1, batch 74, loss = 0.08752059191465378\n",
      "epoch 1, batch 75, loss = 0.052340272814035416\n",
      "epoch 1, batch 76, loss = 0.08051899820566177\n",
      "epoch 1, batch 77, loss = 0.04900078848004341\n",
      "epoch 1, batch 78, loss = 0.0445467010140419\n",
      "epoch 1, batch 79, loss = 0.036222074180841446\n",
      "epoch 1, batch 80, loss = 0.02522539161145687\n",
      "epoch 1, batch 81, loss = 0.09008049964904785\n",
      "epoch 1, batch 82, loss = 0.04487474262714386\n",
      "epoch 1, batch 83, loss = 0.055723611265420914\n",
      "epoch 1, batch 84, loss = 0.02863026224076748\n",
      "epoch 1, batch 85, loss = 0.10788523405790329\n",
      "epoch 1, batch 86, loss = 0.05371277406811714\n",
      "epoch 1, batch 87, loss = 0.0481996089220047\n",
      "epoch 1, batch 88, loss = 0.06348148733377457\n",
      "epoch 1, batch 89, loss = 0.0763779804110527\n",
      "epoch 1, batch 90, loss = 0.06811463832855225\n",
      "epoch 1, batch 91, loss = 0.07179218530654907\n",
      "epoch 1, batch 92, loss = 0.10908064246177673\n",
      "epoch 1, batch 93, loss = 0.029055984690785408\n",
      "epoch 1, batch 94, loss = 0.03777679055929184\n",
      "epoch 1, batch 95, loss = 0.03575460985302925\n",
      "epoch 1, batch 96, loss = 0.05916629359126091\n",
      "epoch 1, batch 97, loss = 0.0583382211625576\n",
      "epoch 1, batch 98, loss = 0.07844386249780655\n",
      "epoch 1, batch 99, loss = 0.037134915590286255\n",
      "epoch 1, batch 100, loss = 0.04719921573996544\n",
      "epoch 1, batch 101, loss = 0.03564470261335373\n",
      "epoch 1, batch 102, loss = 0.03639117255806923\n",
      "epoch 1, batch 103, loss = 0.0737547054886818\n",
      "epoch 1, batch 104, loss = 0.05326749384403229\n",
      "epoch 1, batch 105, loss = 0.03663737326860428\n",
      "epoch 1, batch 106, loss = 0.02295231632888317\n",
      "epoch 1, batch 107, loss = 0.06983306258916855\n",
      "epoch 1, batch 108, loss = 0.08318550139665604\n",
      "epoch 1, batch 109, loss = 0.06209883093833923\n",
      "epoch 1, batch 110, loss = 0.061813678592443466\n",
      "epoch 1, batch 111, loss = 0.042300015687942505\n",
      "epoch 1, batch 112, loss = 0.14788104593753815\n",
      "epoch 1, batch 113, loss = 0.0402936190366745\n",
      "epoch 1, batch 114, loss = 0.05635647475719452\n",
      "epoch 1, batch 115, loss = 0.04001389071345329\n",
      "epoch 1, batch 116, loss = 0.03666490688920021\n",
      "epoch 1, batch 117, loss = 0.04630642384290695\n",
      "epoch 1, batch 118, loss = 0.08333144336938858\n",
      "epoch 1, batch 119, loss = 0.04407307133078575\n",
      "epoch 1, batch 120, loss = 0.05819088965654373\n",
      "epoch 1, batch 121, loss = 0.06919882446527481\n",
      "epoch 1, batch 122, loss = 0.08421072363853455\n",
      "epoch 1, batch 123, loss = 0.05851689353585243\n",
      "epoch 1, batch 124, loss = 0.04929385706782341\n",
      "epoch 1, batch 125, loss = 0.09438861161470413\n",
      "epoch 1, batch 126, loss = 0.06768009066581726\n",
      "epoch 1, batch 127, loss = 0.0983128771185875\n",
      "epoch 1, batch 128, loss = 0.08663074672222137\n",
      "epoch 1, batch 129, loss = 0.022030169144272804\n",
      "epoch 1, batch 130, loss = 0.0370330773293972\n",
      "epoch 1, batch 131, loss = 0.04310254007577896\n",
      "epoch 1, batch 132, loss = 0.10284644365310669\n",
      "epoch 1, batch 133, loss = 0.044333506375551224\n",
      "epoch 1, batch 134, loss = 0.05117473751306534\n",
      "epoch 1, batch 135, loss = 0.07924956828355789\n",
      "epoch 1, batch 136, loss = 0.04697651416063309\n",
      "epoch 1, batch 137, loss = 0.057410284876823425\n",
      "epoch 1, batch 138, loss = 0.03439805656671524\n",
      "epoch 1, batch 139, loss = 0.01822442188858986\n",
      "epoch 1, batch 140, loss = 0.05610218644142151\n",
      "epoch 1, batch 141, loss = 0.043606650084257126\n",
      "epoch 1, batch 142, loss = 0.07059423625469208\n",
      "epoch 1, batch 143, loss = 0.045571520924568176\n",
      "epoch 1, batch 144, loss = 0.16773128509521484\n",
      "epoch 1, batch 145, loss = 0.07126489281654358\n",
      "epoch 1, batch 146, loss = 0.023341048508882523\n",
      "epoch 1, batch 147, loss = 0.06625818461179733\n",
      "epoch 1, batch 148, loss = 0.07971657067537308\n",
      "epoch 1, batch 149, loss = 0.06312116980552673\n",
      "epoch 1, batch 150, loss = 0.03350159525871277\n",
      "epoch 1, batch 151, loss = 0.06271279603242874\n",
      "epoch 1, batch 152, loss = 0.015293688513338566\n",
      "epoch 1, batch 153, loss = 0.04849739372730255\n",
      "epoch 1, batch 154, loss = 0.05090567469596863\n",
      "epoch 1, batch 155, loss = 0.05478980019688606\n",
      "epoch 1, batch 156, loss = 0.053948670625686646\n",
      "epoch 1, batch 157, loss = 0.04115690290927887\n",
      "epoch 1, batch 158, loss = 0.1158645749092102\n"
     ]
    },
    {
     "name": "stdout",
     "output_type": "stream",
     "text": [
      "epoch 1, batch 159, loss = 0.055864885449409485\n",
      "epoch 1, batch 160, loss = 0.03313896805047989\n",
      "epoch 1, batch 161, loss = 0.10791648179292679\n",
      "epoch 1, batch 162, loss = 0.06980407983064651\n",
      "epoch 1, batch 163, loss = 0.07742577791213989\n",
      "epoch 1, batch 164, loss = 0.07209393382072449\n",
      "epoch 1, batch 165, loss = 0.07283291220664978\n",
      "epoch 1, batch 166, loss = 0.03793560341000557\n",
      "epoch 1, batch 167, loss = 0.031333278864622116\n",
      "epoch 1, batch 168, loss = 0.027600280940532684\n",
      "epoch 1, batch 169, loss = 0.03445244953036308\n",
      "epoch 1, batch 170, loss = 0.04090753197669983\n",
      "epoch 1, batch 171, loss = 0.11447129398584366\n",
      "epoch 1, batch 172, loss = 0.07979805022478104\n",
      "epoch 1, batch 173, loss = 0.0435931496322155\n",
      "epoch 1, batch 174, loss = 0.026894161477684975\n",
      "epoch 1, batch 175, loss = 0.06435298174619675\n",
      "epoch 1, batch 176, loss = 0.0667998269200325\n",
      "epoch 1, batch 177, loss = 0.11154774576425552\n",
      "epoch 1, batch 178, loss = 0.04279303178191185\n",
      "epoch 1, batch 179, loss = 0.036438655108213425\n",
      "epoch 1, batch 180, loss = 0.028357993811368942\n",
      "epoch 1, batch 181, loss = 0.0815996378660202\n",
      "epoch 1, batch 182, loss = 0.03159407898783684\n",
      "epoch 1, batch 183, loss = 0.03492604196071625\n",
      "epoch 1, batch 184, loss = 0.07460486888885498\n",
      "epoch 1, batch 185, loss = 0.040300510823726654\n",
      "epoch 1, batch 186, loss = 0.09103579819202423\n",
      "epoch 1, batch 187, loss = 0.0353471115231514\n",
      "epoch 1, batch 188, loss = 0.04395736753940582\n",
      "epoch 1, batch 189, loss = 0.042791176587343216\n",
      "epoch 1, batch 190, loss = 0.042303845286369324\n",
      "epoch 1, batch 191, loss = 0.0657975971698761\n",
      "epoch 1, batch 192, loss = 0.04173325002193451\n",
      "epoch 1, batch 193, loss = 0.07579034566879272\n",
      "epoch 1, batch 194, loss = 0.02704308182001114\n",
      "epoch 1, batch 195, loss = 0.10108103603124619\n",
      "epoch 1, batch 196, loss = 0.04257215932011604\n",
      "epoch 1, batch 197, loss = 0.04982293024659157\n",
      "epoch 1, batch 198, loss = 0.11039260774850845\n",
      "epoch 1, batch 199, loss = 0.062260065227746964\n",
      "epoch 2, batch 1, loss = 0.015582595020532608\n",
      "epoch 2, batch 2, loss = 0.047363586723804474\n",
      "epoch 2, batch 3, loss = 0.0320681557059288\n",
      "epoch 2, batch 4, loss = 0.016299378126859665\n",
      "epoch 2, batch 5, loss = 0.03270665556192398\n",
      "epoch 2, batch 6, loss = 0.06447400152683258\n",
      "epoch 2, batch 7, loss = 0.07270004600286484\n",
      "epoch 2, batch 8, loss = 0.025709399953484535\n",
      "epoch 2, batch 9, loss = 0.053888678550720215\n",
      "epoch 2, batch 10, loss = 0.029771847650408745\n",
      "epoch 2, batch 11, loss = 0.05916571244597435\n",
      "epoch 2, batch 12, loss = 0.05019637942314148\n",
      "epoch 2, batch 13, loss = 0.04124227538704872\n",
      "epoch 2, batch 14, loss = 0.059092067182064056\n",
      "epoch 2, batch 15, loss = 0.0660933256149292\n",
      "epoch 2, batch 16, loss = 0.02659612149000168\n",
      "epoch 2, batch 17, loss = 0.019727855920791626\n",
      "epoch 2, batch 18, loss = 0.07663942128419876\n",
      "epoch 2, batch 19, loss = 0.06332836300134659\n",
      "epoch 2, batch 20, loss = 0.08807060122489929\n",
      "epoch 2, batch 21, loss = 0.015303649008274078\n",
      "epoch 2, batch 22, loss = 0.025879094377160072\n",
      "epoch 2, batch 23, loss = 0.0347772091627121\n",
      "epoch 2, batch 24, loss = 0.022402167320251465\n",
      "epoch 2, batch 25, loss = 0.024050021544098854\n",
      "epoch 2, batch 26, loss = 0.021833386272192\n",
      "epoch 2, batch 27, loss = 0.06098385155200958\n",
      "epoch 2, batch 28, loss = 0.04694473743438721\n",
      "epoch 2, batch 29, loss = 0.04279984533786774\n",
      "epoch 2, batch 30, loss = 0.014203221537172794\n",
      "epoch 2, batch 31, loss = 0.01684163324534893\n",
      "epoch 2, batch 32, loss = 0.03596964478492737\n",
      "epoch 2, batch 33, loss = 0.05557804927229881\n",
      "epoch 2, batch 34, loss = 0.09247014671564102\n",
      "epoch 2, batch 35, loss = 0.02132461965084076\n",
      "epoch 2, batch 36, loss = 0.0902113988995552\n",
      "epoch 2, batch 37, loss = 0.02065863087773323\n",
      "epoch 2, batch 38, loss = 0.03531407192349434\n",
      "epoch 2, batch 39, loss = 0.018032880499958992\n",
      "epoch 2, batch 40, loss = 0.030674373731017113\n",
      "epoch 2, batch 41, loss = 0.03379165381193161\n",
      "epoch 2, batch 42, loss = 0.026698686182498932\n",
      "epoch 2, batch 43, loss = 0.11304613202810287\n",
      "epoch 2, batch 44, loss = 0.03320559114217758\n",
      "epoch 2, batch 45, loss = 0.055581726133823395\n",
      "epoch 2, batch 46, loss = 0.01078744512051344\n",
      "epoch 2, batch 47, loss = 0.023501895368099213\n",
      "epoch 2, batch 48, loss = 0.08485643565654755\n",
      "epoch 2, batch 49, loss = 0.02842547930777073\n",
      "epoch 2, batch 50, loss = 0.03683415427803993\n",
      "epoch 2, batch 51, loss = 0.046923961490392685\n",
      "epoch 2, batch 52, loss = 0.011939375661313534\n",
      "epoch 2, batch 53, loss = 0.06126131862401962\n",
      "epoch 2, batch 54, loss = 0.09130746871232986\n",
      "epoch 2, batch 55, loss = 0.008193019777536392\n",
      "epoch 2, batch 56, loss = 0.03902120143175125\n",
      "epoch 2, batch 57, loss = 0.06355553865432739\n",
      "epoch 2, batch 58, loss = 0.05629467964172363\n",
      "epoch 2, batch 59, loss = 0.06166032329201698\n",
      "epoch 2, batch 60, loss = 0.048432379961013794\n",
      "epoch 2, batch 61, loss = 0.03164202347397804\n",
      "epoch 2, batch 62, loss = 0.03603195771574974\n",
      "epoch 2, batch 63, loss = 0.0568094365298748\n",
      "epoch 2, batch 64, loss = 0.013023171573877335\n",
      "epoch 2, batch 65, loss = 0.06497519463300705\n",
      "epoch 2, batch 66, loss = 0.03546827659010887\n",
      "epoch 2, batch 67, loss = 0.04548392444849014\n",
      "epoch 2, batch 68, loss = 0.04234899953007698\n",
      "epoch 2, batch 69, loss = 0.05960168316960335\n",
      "epoch 2, batch 70, loss = 0.03529639542102814\n",
      "epoch 2, batch 71, loss = 0.016268476843833923\n",
      "epoch 2, batch 72, loss = 0.01843281462788582\n",
      "epoch 2, batch 73, loss = 0.04304025322198868\n",
      "epoch 2, batch 74, loss = 0.03847429156303406\n",
      "epoch 2, batch 75, loss = 0.062333375215530396\n",
      "epoch 2, batch 76, loss = 0.08195391297340393\n",
      "epoch 2, batch 77, loss = 0.0699729472398758\n",
      "epoch 2, batch 78, loss = 0.05847230926156044\n",
      "epoch 2, batch 79, loss = 0.027555368840694427\n",
      "epoch 2, batch 80, loss = 0.07328428328037262\n",
      "epoch 2, batch 81, loss = 0.04661674052476883\n",
      "epoch 2, batch 82, loss = 0.05696311593055725\n",
      "epoch 2, batch 83, loss = 0.05401725694537163\n",
      "epoch 2, batch 84, loss = 0.051269423216581345\n",
      "epoch 2, batch 85, loss = 0.017324453219771385\n",
      "epoch 2, batch 86, loss = 0.05892414227128029\n",
      "epoch 2, batch 87, loss = 0.07133208960294724\n",
      "epoch 2, batch 88, loss = 0.015579048544168472\n",
      "epoch 2, batch 89, loss = 0.016323663294315338\n",
      "epoch 2, batch 90, loss = 0.015214609913527966\n",
      "epoch 2, batch 91, loss = 0.05710567161440849\n",
      "epoch 2, batch 92, loss = 0.06124695762991905\n",
      "epoch 2, batch 93, loss = 0.024474993348121643\n",
      "epoch 2, batch 94, loss = 0.044165391474962234\n",
      "epoch 2, batch 95, loss = 0.045983992516994476\n",
      "epoch 2, batch 96, loss = 0.06820768117904663\n",
      "epoch 2, batch 97, loss = 0.02816159650683403\n",
      "epoch 2, batch 98, loss = 0.028702320531010628\n",
      "epoch 2, batch 99, loss = 0.046356528997421265\n",
      "epoch 2, batch 100, loss = 0.03985140472650528\n",
      "epoch 2, batch 101, loss = 0.03829739987850189\n",
      "epoch 2, batch 102, loss = 0.039128631353378296\n",
      "epoch 2, batch 103, loss = 0.05527720972895622\n",
      "epoch 2, batch 104, loss = 0.041777607053518295\n",
      "epoch 2, batch 105, loss = 0.06102539226412773\n",
      "epoch 2, batch 106, loss = 0.07773027569055557\n",
      "epoch 2, batch 107, loss = 0.02971235103905201\n",
      "epoch 2, batch 108, loss = 0.04257844388484955\n",
      "epoch 2, batch 109, loss = 0.012945476919412613\n",
      "epoch 2, batch 110, loss = 0.031396061182022095\n",
      "epoch 2, batch 111, loss = 0.02503856271505356\n",
      "epoch 2, batch 112, loss = 0.037566713988780975\n",
      "epoch 2, batch 113, loss = 0.08488655090332031\n",
      "epoch 2, batch 114, loss = 0.03554060310125351\n",
      "epoch 2, batch 115, loss = 0.03298131376504898\n",
      "epoch 2, batch 116, loss = 0.0161213930696249\n",
      "epoch 2, batch 117, loss = 0.015417573042213917\n",
      "epoch 2, batch 118, loss = 0.04672640934586525\n",
      "epoch 2, batch 119, loss = 0.042236872017383575\n",
      "epoch 2, batch 120, loss = 0.02295357547700405\n",
      "epoch 2, batch 121, loss = 0.018787872046232224\n",
      "epoch 2, batch 122, loss = 0.05582050234079361\n",
      "epoch 2, batch 123, loss = 0.046006713062524796\n",
      "epoch 2, batch 124, loss = 0.06299734115600586\n",
      "epoch 2, batch 125, loss = 0.05726432800292969\n",
      "epoch 2, batch 126, loss = 0.046287402510643005\n",
      "epoch 2, batch 127, loss = 0.05078372359275818\n",
      "epoch 2, batch 128, loss = 0.08194369077682495\n",
      "epoch 2, batch 129, loss = 0.03739925101399422\n",
      "epoch 2, batch 130, loss = 0.035409584641456604\n",
      "epoch 2, batch 131, loss = 0.03291601315140724\n",
      "epoch 2, batch 132, loss = 0.01591290906071663\n",
      "epoch 2, batch 133, loss = 0.030788114294409752\n",
      "epoch 2, batch 134, loss = 0.05982256308197975\n",
      "epoch 2, batch 135, loss = 0.029927680268883705\n",
      "epoch 2, batch 136, loss = 0.053957499563694\n"
     ]
    },
    {
     "name": "stdout",
     "output_type": "stream",
     "text": [
      "epoch 2, batch 137, loss = 0.027026213705539703\n",
      "epoch 2, batch 138, loss = 0.04867221415042877\n",
      "epoch 2, batch 139, loss = 0.021680451929569244\n",
      "epoch 2, batch 140, loss = 0.020601162686944008\n",
      "epoch 2, batch 141, loss = 0.049203887581825256\n",
      "epoch 2, batch 142, loss = 0.0136695746332407\n",
      "epoch 2, batch 143, loss = 0.07444575428962708\n",
      "epoch 2, batch 144, loss = 0.023060068488121033\n",
      "epoch 2, batch 145, loss = 0.0644705593585968\n",
      "epoch 2, batch 146, loss = 0.0720953494310379\n",
      "epoch 2, batch 147, loss = 0.052084263414144516\n",
      "epoch 2, batch 148, loss = 0.07969390600919724\n",
      "epoch 2, batch 149, loss = 0.041005924344062805\n",
      "epoch 2, batch 150, loss = 0.037279583513736725\n",
      "epoch 2, batch 151, loss = 0.03731745108962059\n",
      "epoch 2, batch 152, loss = 0.047995977103710175\n",
      "epoch 2, batch 153, loss = 0.04410340264439583\n",
      "epoch 2, batch 154, loss = 0.012542725540697575\n",
      "epoch 2, batch 155, loss = 0.037221573293209076\n",
      "epoch 2, batch 156, loss = 0.04350011795759201\n",
      "epoch 2, batch 157, loss = 0.05626704543828964\n",
      "epoch 2, batch 158, loss = 0.030768664553761482\n",
      "epoch 2, batch 159, loss = 0.13031937181949615\n",
      "epoch 2, batch 160, loss = 0.03108265809714794\n",
      "epoch 2, batch 161, loss = 0.052300915122032166\n",
      "epoch 2, batch 162, loss = 0.042995620518922806\n",
      "epoch 2, batch 163, loss = 0.03670840337872505\n",
      "epoch 2, batch 164, loss = 0.03692883253097534\n",
      "epoch 2, batch 165, loss = 0.08526213467121124\n",
      "epoch 2, batch 166, loss = 0.04803186282515526\n",
      "epoch 2, batch 167, loss = 0.006857031490653753\n",
      "epoch 2, batch 168, loss = 0.041169118136167526\n",
      "epoch 2, batch 169, loss = 0.04944370687007904\n",
      "epoch 2, batch 170, loss = 0.06141720712184906\n",
      "epoch 2, batch 171, loss = 0.05112417787313461\n",
      "epoch 2, batch 172, loss = 0.05123327299952507\n",
      "epoch 2, batch 173, loss = 0.06948228180408478\n",
      "epoch 2, batch 174, loss = 0.05793265998363495\n",
      "epoch 2, batch 175, loss = 0.018232418224215508\n",
      "epoch 2, batch 176, loss = 0.059495959430933\n",
      "epoch 2, batch 177, loss = 0.053215157240629196\n",
      "epoch 2, batch 178, loss = 0.10287889838218689\n",
      "epoch 2, batch 179, loss = 0.0656747817993164\n",
      "epoch 2, batch 180, loss = 0.054777372628450394\n",
      "epoch 2, batch 181, loss = 0.032626260071992874\n",
      "epoch 2, batch 182, loss = 0.04905106499791145\n",
      "epoch 2, batch 183, loss = 0.03262830525636673\n",
      "epoch 2, batch 184, loss = 0.01947355456650257\n",
      "epoch 2, batch 185, loss = 0.047457050532102585\n",
      "epoch 2, batch 186, loss = 0.029879944398999214\n",
      "epoch 2, batch 187, loss = 0.036905352026224136\n",
      "epoch 2, batch 188, loss = 0.03607172891497612\n",
      "epoch 2, batch 189, loss = 0.05361529439687729\n",
      "epoch 2, batch 190, loss = 0.06237855926156044\n",
      "epoch 2, batch 191, loss = 0.08028969168663025\n",
      "epoch 2, batch 192, loss = 0.05032295361161232\n",
      "epoch 2, batch 193, loss = 0.04792136326432228\n",
      "epoch 2, batch 194, loss = 0.06459483504295349\n",
      "epoch 2, batch 195, loss = 0.019216015934944153\n",
      "epoch 2, batch 196, loss = 0.03516145795583725\n",
      "epoch 2, batch 197, loss = 0.04749342054128647\n",
      "epoch 2, batch 198, loss = 0.06302905827760696\n",
      "epoch 2, batch 199, loss = 0.020623354241251945\n",
      "epoch 3, batch 1, loss = 0.017915192991495132\n",
      "epoch 3, batch 2, loss = 0.007282068021595478\n",
      "epoch 3, batch 3, loss = 0.03731047362089157\n",
      "epoch 3, batch 4, loss = 0.02690812386572361\n",
      "epoch 3, batch 5, loss = 0.05518142133951187\n",
      "epoch 3, batch 6, loss = 0.02187608927488327\n",
      "epoch 3, batch 7, loss = 0.03100827895104885\n",
      "epoch 3, batch 8, loss = 0.02605508826673031\n",
      "epoch 3, batch 9, loss = 0.06537142395973206\n",
      "epoch 3, batch 10, loss = 0.04314904659986496\n",
      "epoch 3, batch 11, loss = 0.03392917290329933\n",
      "epoch 3, batch 12, loss = 0.018907181918621063\n",
      "epoch 3, batch 13, loss = 0.004844577517360449\n",
      "epoch 3, batch 14, loss = 0.02095635235309601\n",
      "epoch 3, batch 15, loss = 0.011882994323968887\n",
      "epoch 3, batch 16, loss = 0.013550860807299614\n",
      "epoch 3, batch 17, loss = 0.01511801965534687\n",
      "epoch 3, batch 18, loss = 0.03778546303510666\n",
      "epoch 3, batch 19, loss = 0.058881066739559174\n",
      "epoch 3, batch 20, loss = 0.007278934121131897\n",
      "epoch 3, batch 21, loss = 0.035253629088401794\n",
      "epoch 3, batch 22, loss = 0.01634673774242401\n",
      "epoch 3, batch 23, loss = 0.010464758612215519\n",
      "epoch 3, batch 24, loss = 0.01937299221754074\n",
      "epoch 3, batch 25, loss = 0.013502896763384342\n",
      "epoch 3, batch 26, loss = 0.04099171981215477\n",
      "epoch 3, batch 27, loss = 0.02065356820821762\n",
      "epoch 3, batch 28, loss = 0.011634862050414085\n",
      "epoch 3, batch 29, loss = 0.045158710330724716\n",
      "epoch 3, batch 30, loss = 0.03631444275379181\n",
      "epoch 3, batch 31, loss = 0.036326225847005844\n",
      "epoch 3, batch 32, loss = 0.04179879650473595\n",
      "epoch 3, batch 33, loss = 0.0341905876994133\n",
      "epoch 3, batch 34, loss = 0.01290915161371231\n",
      "epoch 3, batch 35, loss = 0.044133201241493225\n",
      "epoch 3, batch 36, loss = 0.03154800832271576\n",
      "epoch 3, batch 37, loss = 0.05059976875782013\n",
      "epoch 3, batch 38, loss = 0.06249959394335747\n",
      "epoch 3, batch 39, loss = 0.014163803309202194\n",
      "epoch 3, batch 40, loss = 0.018711643293499947\n",
      "epoch 3, batch 41, loss = 0.01872633770108223\n",
      "epoch 3, batch 42, loss = 0.04623120278120041\n",
      "epoch 3, batch 43, loss = 0.014261234551668167\n",
      "epoch 3, batch 44, loss = 0.03885521739721298\n",
      "epoch 3, batch 45, loss = 0.04426729679107666\n",
      "epoch 3, batch 46, loss = 0.016805794090032578\n",
      "epoch 3, batch 47, loss = 0.011264758184552193\n",
      "epoch 3, batch 48, loss = 0.03755604475736618\n",
      "epoch 3, batch 49, loss = 0.044463444501161575\n",
      "epoch 3, batch 50, loss = 0.009024478495121002\n",
      "epoch 3, batch 51, loss = 0.021293863654136658\n",
      "epoch 3, batch 52, loss = 0.026911258697509766\n",
      "epoch 3, batch 53, loss = 0.012651351280510426\n",
      "epoch 3, batch 54, loss = 0.016727475449442863\n",
      "epoch 3, batch 55, loss = 0.03234122693538666\n",
      "epoch 3, batch 56, loss = 0.040006957948207855\n",
      "epoch 3, batch 57, loss = 0.038563475012779236\n",
      "epoch 3, batch 58, loss = 0.039767391979694366\n",
      "epoch 3, batch 59, loss = 0.04234864562749863\n",
      "epoch 3, batch 60, loss = 0.05060674250125885\n",
      "epoch 3, batch 61, loss = 0.006771655287593603\n",
      "epoch 3, batch 62, loss = 0.01609566994011402\n",
      "epoch 3, batch 63, loss = 0.018103448674082756\n",
      "epoch 3, batch 64, loss = 0.05152947083115578\n",
      "epoch 3, batch 65, loss = 0.05654611438512802\n",
      "epoch 3, batch 66, loss = 0.015539049170911312\n",
      "epoch 3, batch 67, loss = 0.02662930078804493\n",
      "epoch 3, batch 68, loss = 0.03511535003781319\n",
      "epoch 3, batch 69, loss = 0.01778247393667698\n",
      "epoch 3, batch 70, loss = 0.05563652142882347\n",
      "epoch 3, batch 71, loss = 0.05601784586906433\n",
      "epoch 3, batch 72, loss = 0.008438230492174625\n",
      "epoch 3, batch 73, loss = 0.03526150807738304\n",
      "epoch 3, batch 74, loss = 0.02869531325995922\n",
      "epoch 3, batch 75, loss = 0.00540970079600811\n",
      "epoch 3, batch 76, loss = 0.11390787363052368\n",
      "epoch 3, batch 77, loss = 0.01401243545114994\n",
      "epoch 3, batch 78, loss = 0.01777397096157074\n",
      "epoch 3, batch 79, loss = 0.06613568216562271\n",
      "epoch 3, batch 80, loss = 0.01901097036898136\n",
      "epoch 3, batch 81, loss = 0.014113891869783401\n",
      "epoch 3, batch 82, loss = 0.027070311829447746\n",
      "epoch 3, batch 83, loss = 0.028407728299498558\n",
      "epoch 3, batch 84, loss = 0.08636634051799774\n",
      "epoch 3, batch 85, loss = 0.03834009915590286\n",
      "epoch 3, batch 86, loss = 0.017581207677721977\n",
      "epoch 3, batch 87, loss = 0.02542591653764248\n",
      "epoch 3, batch 88, loss = 0.037476055324077606\n",
      "epoch 3, batch 89, loss = 0.02339947782456875\n",
      "epoch 3, batch 90, loss = 0.011298415251076221\n",
      "epoch 3, batch 91, loss = 0.027999911457300186\n",
      "epoch 3, batch 92, loss = 0.01674525812268257\n",
      "epoch 3, batch 93, loss = 0.02452041395008564\n",
      "epoch 3, batch 94, loss = 0.049951132386922836\n",
      "epoch 3, batch 95, loss = 0.046124283224344254\n",
      "epoch 3, batch 96, loss = 0.01460288092494011\n",
      "epoch 3, batch 97, loss = 0.017906934022903442\n",
      "epoch 3, batch 98, loss = 0.025990372523665428\n",
      "epoch 3, batch 99, loss = 0.05604496970772743\n",
      "epoch 3, batch 100, loss = 0.016414407640695572\n",
      "epoch 3, batch 101, loss = 0.008963597007095814\n",
      "epoch 3, batch 102, loss = 0.02081637643277645\n",
      "epoch 3, batch 103, loss = 0.0255439355969429\n",
      "epoch 3, batch 104, loss = 0.022829782217741013\n",
      "epoch 3, batch 105, loss = 0.00844250526279211\n",
      "epoch 3, batch 106, loss = 0.016703927889466286\n",
      "epoch 3, batch 107, loss = 0.02456774190068245\n",
      "epoch 3, batch 108, loss = 0.05763824284076691\n",
      "epoch 3, batch 109, loss = 0.024423880502581596\n",
      "epoch 3, batch 110, loss = 0.03087650239467621\n",
      "epoch 3, batch 111, loss = 0.02069801278412342\n",
      "epoch 3, batch 112, loss = 0.020674176514148712\n",
      "epoch 3, batch 113, loss = 0.00901342649012804\n",
      "epoch 3, batch 114, loss = 0.019383614882826805\n"
     ]
    },
    {
     "name": "stdout",
     "output_type": "stream",
     "text": [
      "epoch 3, batch 115, loss = 0.0477493554353714\n",
      "epoch 3, batch 116, loss = 0.12459567189216614\n",
      "epoch 3, batch 117, loss = 0.058158788830041885\n",
      "epoch 3, batch 118, loss = 0.02026744931936264\n",
      "epoch 3, batch 119, loss = 0.0415709987282753\n",
      "epoch 3, batch 120, loss = 0.012301316484808922\n",
      "epoch 3, batch 121, loss = 0.01693156361579895\n",
      "epoch 3, batch 122, loss = 0.024768244475126266\n",
      "epoch 3, batch 123, loss = 0.045597635209560394\n",
      "epoch 3, batch 124, loss = 0.03111327812075615\n",
      "epoch 3, batch 125, loss = 0.016809113323688507\n",
      "epoch 3, batch 126, loss = 0.02474023588001728\n",
      "epoch 3, batch 127, loss = 0.02919384464621544\n",
      "epoch 3, batch 128, loss = 0.04111257568001747\n",
      "epoch 3, batch 129, loss = 0.03518546372652054\n",
      "epoch 3, batch 130, loss = 0.02593463845551014\n",
      "epoch 3, batch 131, loss = 0.020235631614923477\n",
      "epoch 3, batch 132, loss = 0.06135888025164604\n",
      "epoch 3, batch 133, loss = 0.04483520984649658\n",
      "epoch 3, batch 134, loss = 0.024643681943416595\n",
      "epoch 3, batch 135, loss = 0.024095673114061356\n",
      "epoch 3, batch 136, loss = 0.0063953702338039875\n",
      "epoch 3, batch 137, loss = 0.03142804279923439\n",
      "epoch 3, batch 138, loss = 0.052134837955236435\n",
      "epoch 3, batch 139, loss = 0.04021706059575081\n",
      "epoch 3, batch 140, loss = 0.038825586438179016\n",
      "epoch 3, batch 141, loss = 0.03823533654212952\n",
      "epoch 3, batch 142, loss = 0.027983596548438072\n",
      "epoch 3, batch 143, loss = 0.062163930386304855\n",
      "epoch 3, batch 144, loss = 0.037871263921260834\n",
      "epoch 3, batch 145, loss = 0.03996868059039116\n",
      "epoch 3, batch 146, loss = 0.027441972866654396\n",
      "epoch 3, batch 147, loss = 0.0129168089479208\n",
      "epoch 3, batch 148, loss = 0.028469925746321678\n",
      "epoch 3, batch 149, loss = 0.039485152810811996\n",
      "epoch 3, batch 150, loss = 0.07117996364831924\n",
      "epoch 3, batch 151, loss = 0.02733408845961094\n",
      "epoch 3, batch 152, loss = 0.030931077897548676\n",
      "epoch 3, batch 153, loss = 0.017221255227923393\n",
      "epoch 3, batch 154, loss = 0.0834645926952362\n",
      "epoch 3, batch 155, loss = 0.07833662629127502\n",
      "epoch 3, batch 156, loss = 0.02802460454404354\n",
      "epoch 3, batch 157, loss = 0.07272014021873474\n",
      "epoch 3, batch 158, loss = 0.05176122486591339\n",
      "epoch 3, batch 159, loss = 0.039657678455114365\n",
      "epoch 3, batch 160, loss = 0.020930631086230278\n",
      "epoch 3, batch 161, loss = 0.032417573034763336\n",
      "epoch 3, batch 162, loss = 0.029010366648435593\n",
      "epoch 3, batch 163, loss = 0.02687852643430233\n",
      "epoch 3, batch 164, loss = 0.05222729593515396\n",
      "epoch 3, batch 165, loss = 0.022898590192198753\n",
      "epoch 3, batch 166, loss = 0.03440166637301445\n",
      "epoch 3, batch 167, loss = 0.04102364182472229\n",
      "epoch 3, batch 168, loss = 0.019373107701539993\n",
      "epoch 3, batch 169, loss = 0.028879420831799507\n",
      "epoch 3, batch 170, loss = 0.049589306116104126\n",
      "epoch 3, batch 171, loss = 0.033037420362234116\n",
      "epoch 3, batch 172, loss = 0.021728361025452614\n",
      "epoch 3, batch 173, loss = 0.04952199012041092\n",
      "epoch 3, batch 174, loss = 0.019215790554881096\n",
      "epoch 3, batch 175, loss = 0.030354738235473633\n",
      "epoch 3, batch 176, loss = 0.019462408497929573\n",
      "epoch 3, batch 177, loss = 0.04734986275434494\n",
      "epoch 3, batch 178, loss = 0.022786982357501984\n",
      "epoch 3, batch 179, loss = 0.018590375781059265\n",
      "epoch 3, batch 180, loss = 0.04149109870195389\n",
      "epoch 3, batch 181, loss = 0.04261556267738342\n",
      "epoch 3, batch 182, loss = 0.024828186258673668\n",
      "epoch 3, batch 183, loss = 0.005223378073424101\n",
      "epoch 3, batch 184, loss = 0.0358242429792881\n",
      "epoch 3, batch 185, loss = 0.018580758944153786\n",
      "epoch 3, batch 186, loss = 0.02756463550031185\n",
      "epoch 3, batch 187, loss = 0.019369179382920265\n",
      "epoch 3, batch 188, loss = 0.020090598613023758\n",
      "epoch 3, batch 189, loss = 0.06042429432272911\n",
      "epoch 3, batch 190, loss = 0.01713729277253151\n",
      "epoch 3, batch 191, loss = 0.010393415577709675\n",
      "epoch 3, batch 192, loss = 0.018830586224794388\n",
      "epoch 3, batch 193, loss = 0.016261128708720207\n",
      "epoch 3, batch 194, loss = 0.04679335653781891\n",
      "epoch 3, batch 195, loss = 0.03102102130651474\n",
      "epoch 3, batch 196, loss = 0.017576681450009346\n",
      "epoch 3, batch 197, loss = 0.009831901639699936\n",
      "epoch 3, batch 198, loss = 0.026545356959104538\n",
      "epoch 3, batch 199, loss = 0.022599197924137115\n",
      "epoch 4, batch 1, loss = 0.04455107823014259\n",
      "epoch 4, batch 2, loss = 0.008597183972597122\n",
      "epoch 4, batch 3, loss = 0.01841720938682556\n",
      "epoch 4, batch 4, loss = 0.010455221869051456\n",
      "epoch 4, batch 5, loss = 0.03258765488862991\n",
      "epoch 4, batch 6, loss = 0.0334680899977684\n",
      "epoch 4, batch 7, loss = 0.018337421119213104\n",
      "epoch 4, batch 8, loss = 0.022255852818489075\n",
      "epoch 4, batch 9, loss = 0.024598898366093636\n",
      "epoch 4, batch 10, loss = 0.02885686419904232\n",
      "epoch 4, batch 11, loss = 0.022232020273804665\n",
      "epoch 4, batch 12, loss = 0.007757949642837048\n",
      "epoch 4, batch 13, loss = 0.008655345067381859\n",
      "epoch 4, batch 14, loss = 0.03675997629761696\n",
      "epoch 4, batch 15, loss = 0.02297121286392212\n",
      "epoch 4, batch 16, loss = 0.0068444120697677135\n",
      "epoch 4, batch 17, loss = 0.015364215709269047\n",
      "epoch 4, batch 18, loss = 0.03740505874156952\n",
      "epoch 4, batch 19, loss = 0.05834182724356651\n",
      "epoch 4, batch 20, loss = 0.04947328194975853\n",
      "epoch 4, batch 21, loss = 0.013012504205107689\n",
      "epoch 4, batch 22, loss = 0.011542867869138718\n",
      "epoch 4, batch 23, loss = 0.023293232545256615\n",
      "epoch 4, batch 24, loss = 0.027159078046679497\n",
      "epoch 4, batch 25, loss = 0.0067308261059224606\n",
      "epoch 4, batch 26, loss = 0.048518914729356766\n",
      "epoch 4, batch 27, loss = 0.01615135930478573\n",
      "epoch 4, batch 28, loss = 0.05335080623626709\n",
      "epoch 4, batch 29, loss = 0.019871510565280914\n",
      "epoch 4, batch 30, loss = 0.015552856959402561\n",
      "epoch 4, batch 31, loss = 0.026286225765943527\n",
      "epoch 4, batch 32, loss = 0.04589485004544258\n",
      "epoch 4, batch 33, loss = 0.0857711136341095\n",
      "epoch 4, batch 34, loss = 0.005225164350122213\n",
      "epoch 4, batch 35, loss = 0.019654342904686928\n",
      "epoch 4, batch 36, loss = 0.07495985925197601\n",
      "epoch 4, batch 37, loss = 0.009752001613378525\n",
      "epoch 4, batch 38, loss = 0.019122514873743057\n",
      "epoch 4, batch 39, loss = 0.019612597301602364\n",
      "epoch 4, batch 40, loss = 0.012919341214001179\n",
      "epoch 4, batch 41, loss = 0.005284852348268032\n",
      "epoch 4, batch 42, loss = 0.023473400622606277\n",
      "epoch 4, batch 43, loss = 0.046648744493722916\n",
      "epoch 4, batch 44, loss = 0.04907806217670441\n",
      "epoch 4, batch 45, loss = 0.0033912507351487875\n",
      "epoch 4, batch 46, loss = 0.009062591940164566\n",
      "epoch 4, batch 47, loss = 0.027951404452323914\n",
      "epoch 4, batch 48, loss = 0.012591680511832237\n",
      "epoch 4, batch 49, loss = 0.007818667218089104\n",
      "epoch 4, batch 50, loss = 0.013294953852891922\n",
      "epoch 4, batch 51, loss = 0.035620760172605515\n",
      "epoch 4, batch 52, loss = 0.024603690952062607\n",
      "epoch 4, batch 53, loss = 0.00457365857437253\n",
      "epoch 4, batch 54, loss = 0.028610367327928543\n",
      "epoch 4, batch 55, loss = 0.013940474018454552\n",
      "epoch 4, batch 56, loss = 0.03239043802022934\n",
      "epoch 4, batch 57, loss = 0.01878894865512848\n",
      "epoch 4, batch 58, loss = 0.007475763559341431\n",
      "epoch 4, batch 59, loss = 0.00986462365835905\n",
      "epoch 4, batch 60, loss = 0.009397772140800953\n",
      "epoch 4, batch 61, loss = 0.0165876355022192\n",
      "epoch 4, batch 62, loss = 0.018237609416246414\n",
      "epoch 4, batch 63, loss = 0.02275889925658703\n",
      "epoch 4, batch 64, loss = 0.02633049711585045\n",
      "epoch 4, batch 65, loss = 0.01239634770900011\n",
      "epoch 4, batch 66, loss = 0.027438394725322723\n",
      "epoch 4, batch 67, loss = 0.021201858296990395\n",
      "epoch 4, batch 68, loss = 0.020873522385954857\n",
      "epoch 4, batch 69, loss = 0.007665969897061586\n",
      "epoch 4, batch 70, loss = 0.0458119735121727\n",
      "epoch 4, batch 71, loss = 0.012926178984344006\n",
      "epoch 4, batch 72, loss = 0.011900922283530235\n",
      "epoch 4, batch 73, loss = 0.0041345651261508465\n",
      "epoch 4, batch 74, loss = 0.012956882826983929\n",
      "epoch 4, batch 75, loss = 0.01760493591427803\n",
      "epoch 4, batch 76, loss = 0.028503574430942535\n",
      "epoch 4, batch 77, loss = 0.0070913685485720634\n",
      "epoch 4, batch 78, loss = 0.05313153564929962\n",
      "epoch 4, batch 79, loss = 0.051376186311244965\n",
      "epoch 4, batch 80, loss = 0.035632096230983734\n",
      "epoch 4, batch 81, loss = 0.011363700963556767\n",
      "epoch 4, batch 82, loss = 0.004106891341507435\n",
      "epoch 4, batch 83, loss = 0.039389342069625854\n",
      "epoch 4, batch 84, loss = 0.011684413067996502\n",
      "epoch 4, batch 85, loss = 0.03300224244594574\n",
      "epoch 4, batch 86, loss = 0.02731601893901825\n",
      "epoch 4, batch 87, loss = 0.04886873811483383\n",
      "epoch 4, batch 88, loss = 0.028420288115739822\n",
      "epoch 4, batch 89, loss = 0.009341378696262836\n",
      "epoch 4, batch 90, loss = 0.020428700372576714\n"
     ]
    },
    {
     "name": "stdout",
     "output_type": "stream",
     "text": [
      "epoch 4, batch 91, loss = 0.029024654999375343\n",
      "epoch 4, batch 92, loss = 0.029478197917342186\n",
      "epoch 4, batch 93, loss = 0.020274769514799118\n",
      "epoch 4, batch 94, loss = 0.006607164163142443\n",
      "epoch 4, batch 95, loss = 0.052216872572898865\n",
      "epoch 4, batch 96, loss = 0.016406310722231865\n",
      "epoch 4, batch 97, loss = 0.01084564533084631\n",
      "epoch 4, batch 98, loss = 0.017590779811143875\n",
      "epoch 4, batch 99, loss = 0.0721297338604927\n",
      "epoch 4, batch 100, loss = 0.008654020726680756\n",
      "epoch 4, batch 101, loss = 0.048518262803554535\n",
      "epoch 4, batch 102, loss = 0.024308206513524055\n",
      "epoch 4, batch 103, loss = 0.015533163212239742\n",
      "epoch 4, batch 104, loss = 0.039200130850076675\n",
      "epoch 4, batch 105, loss = 0.020726921036839485\n",
      "epoch 4, batch 106, loss = 0.028920037671923637\n",
      "epoch 4, batch 107, loss = 0.004861426539719105\n",
      "epoch 4, batch 108, loss = 0.04189920425415039\n",
      "epoch 4, batch 109, loss = 0.05144326761364937\n",
      "epoch 4, batch 110, loss = 0.011166797019541264\n",
      "epoch 4, batch 111, loss = 0.029211824759840965\n",
      "epoch 4, batch 112, loss = 0.011390311643481255\n",
      "epoch 4, batch 113, loss = 0.017162183299660683\n",
      "epoch 4, batch 114, loss = 0.021204136312007904\n",
      "epoch 4, batch 115, loss = 0.03621891513466835\n",
      "epoch 4, batch 116, loss = 0.015917614102363586\n",
      "epoch 4, batch 117, loss = 0.02919619157910347\n",
      "epoch 4, batch 118, loss = 0.012199882417917252\n",
      "epoch 4, batch 119, loss = 0.02544247917830944\n",
      "epoch 4, batch 120, loss = 0.012959926389157772\n",
      "epoch 4, batch 121, loss = 0.01874723471701145\n",
      "epoch 4, batch 122, loss = 0.06358049064874649\n",
      "epoch 4, batch 123, loss = 0.012554261833429337\n",
      "epoch 4, batch 124, loss = 0.03525770083069801\n",
      "epoch 4, batch 125, loss = 0.049673911184072495\n",
      "epoch 4, batch 126, loss = 0.059557124972343445\n",
      "epoch 4, batch 127, loss = 0.005727915558964014\n",
      "epoch 4, batch 128, loss = 0.050438638776540756\n",
      "epoch 4, batch 129, loss = 0.005872875917702913\n",
      "epoch 4, batch 130, loss = 0.044014737010002136\n",
      "epoch 4, batch 131, loss = 0.021216245368123055\n",
      "epoch 4, batch 132, loss = 0.0030173086561262608\n",
      "epoch 4, batch 133, loss = 0.03181615471839905\n",
      "epoch 4, batch 134, loss = 0.020237445831298828\n",
      "epoch 4, batch 135, loss = 0.051237400621175766\n",
      "epoch 4, batch 136, loss = 0.05322856828570366\n",
      "epoch 4, batch 137, loss = 0.04157833009958267\n",
      "epoch 4, batch 138, loss = 0.013715684413909912\n",
      "epoch 4, batch 139, loss = 0.007144475355744362\n",
      "epoch 4, batch 140, loss = 0.007973214611411095\n",
      "epoch 4, batch 141, loss = 0.04354410991072655\n",
      "epoch 4, batch 142, loss = 0.011157236061990261\n",
      "epoch 4, batch 143, loss = 0.020028434693813324\n",
      "epoch 4, batch 144, loss = 0.016623780131340027\n",
      "epoch 4, batch 145, loss = 0.02672526426613331\n",
      "epoch 4, batch 146, loss = 0.04099659621715546\n",
      "epoch 4, batch 147, loss = 0.004765282850712538\n",
      "epoch 4, batch 148, loss = 0.02178405225276947\n",
      "epoch 4, batch 149, loss = 0.02011628821492195\n",
      "epoch 4, batch 150, loss = 0.04964151233434677\n",
      "epoch 4, batch 151, loss = 0.04832111671566963\n",
      "epoch 4, batch 152, loss = 0.026949502527713776\n",
      "epoch 4, batch 153, loss = 0.025241194292902946\n",
      "epoch 4, batch 154, loss = 0.1047084704041481\n",
      "epoch 4, batch 155, loss = 0.03782835975289345\n",
      "epoch 4, batch 156, loss = 0.01935650035738945\n",
      "epoch 4, batch 157, loss = 0.008920134045183659\n",
      "epoch 4, batch 158, loss = 0.02435353770852089\n",
      "epoch 4, batch 159, loss = 0.030149735510349274\n",
      "epoch 4, batch 160, loss = 0.022386258468031883\n",
      "epoch 4, batch 161, loss = 0.01659049466252327\n",
      "epoch 4, batch 162, loss = 0.008497173897922039\n",
      "epoch 4, batch 163, loss = 0.0034488525707274675\n",
      "epoch 4, batch 164, loss = 0.02529488131403923\n",
      "epoch 4, batch 165, loss = 0.006256397347897291\n",
      "epoch 4, batch 166, loss = 0.011927004903554916\n",
      "epoch 4, batch 167, loss = 0.006806637160480022\n",
      "epoch 4, batch 168, loss = 0.03398957476019859\n",
      "epoch 4, batch 169, loss = 0.030498232692480087\n",
      "epoch 4, batch 170, loss = 0.02803378738462925\n",
      "epoch 4, batch 171, loss = 0.03682270646095276\n",
      "epoch 4, batch 172, loss = 0.1037662997841835\n",
      "epoch 4, batch 173, loss = 0.016405470669269562\n",
      "epoch 4, batch 174, loss = 0.018954919651150703\n",
      "epoch 4, batch 175, loss = 0.02428770251572132\n",
      "epoch 4, batch 176, loss = 0.012339461594820023\n",
      "epoch 4, batch 177, loss = 0.003480305662378669\n",
      "epoch 4, batch 178, loss = 0.027915887534618378\n",
      "epoch 4, batch 179, loss = 0.011866927146911621\n",
      "epoch 4, batch 180, loss = 0.0242979284375906\n",
      "epoch 4, batch 181, loss = 0.00391819141805172\n",
      "epoch 4, batch 182, loss = 0.011792627163231373\n",
      "epoch 4, batch 183, loss = 0.0024815108627080917\n",
      "epoch 4, batch 184, loss = 0.005625277291983366\n",
      "epoch 4, batch 185, loss = 0.06394542008638382\n",
      "epoch 4, batch 186, loss = 0.015411347150802612\n",
      "epoch 4, batch 187, loss = 0.03627008944749832\n",
      "epoch 4, batch 188, loss = 0.01676810346543789\n",
      "epoch 4, batch 189, loss = 0.021815365180373192\n",
      "epoch 4, batch 190, loss = 0.02121649496257305\n",
      "epoch 4, batch 191, loss = 0.029336757957935333\n",
      "epoch 4, batch 192, loss = 0.052963268011808395\n",
      "epoch 4, batch 193, loss = 0.01339663751423359\n",
      "epoch 4, batch 194, loss = 0.025568325072526932\n",
      "epoch 4, batch 195, loss = 0.019319280982017517\n",
      "epoch 4, batch 196, loss = 0.02712179906666279\n",
      "epoch 4, batch 197, loss = 0.014723223634064198\n",
      "epoch 4, batch 198, loss = 0.03982965648174286\n",
      "epoch 4, batch 199, loss = 0.0037689898163080215\n",
      "epoch 5, batch 1, loss = 0.027100998908281326\n",
      "epoch 5, batch 2, loss = 0.007618842646479607\n",
      "epoch 5, batch 3, loss = 0.005270771216601133\n",
      "epoch 5, batch 4, loss = 0.04123925045132637\n",
      "epoch 5, batch 5, loss = 0.012517455033957958\n",
      "epoch 5, batch 6, loss = 0.02535763755440712\n",
      "epoch 5, batch 7, loss = 0.011235091835260391\n",
      "epoch 5, batch 8, loss = 0.008308113552629948\n",
      "epoch 5, batch 9, loss = 0.04192260280251503\n",
      "epoch 5, batch 10, loss = 0.00430232472717762\n",
      "epoch 5, batch 11, loss = 0.021375536918640137\n",
      "epoch 5, batch 12, loss = 0.022784315049648285\n",
      "epoch 5, batch 13, loss = 0.024977674707770348\n",
      "epoch 5, batch 14, loss = 0.009616853669285774\n",
      "epoch 5, batch 15, loss = 0.005168704781681299\n",
      "epoch 5, batch 16, loss = 0.018686873838305473\n",
      "epoch 5, batch 17, loss = 0.02739696577191353\n",
      "epoch 5, batch 18, loss = 0.029893185943365097\n",
      "epoch 5, batch 19, loss = 0.007003469858318567\n",
      "epoch 5, batch 20, loss = 0.028687987476587296\n",
      "epoch 5, batch 21, loss = 0.018823405727744102\n",
      "epoch 5, batch 22, loss = 0.02362753078341484\n",
      "epoch 5, batch 23, loss = 0.031249871477484703\n",
      "epoch 5, batch 24, loss = 0.015626955777406693\n",
      "epoch 5, batch 25, loss = 0.002344416920095682\n",
      "epoch 5, batch 26, loss = 0.019556866958737373\n",
      "epoch 5, batch 27, loss = 0.01949872262775898\n",
      "epoch 5, batch 28, loss = 0.016832171007990837\n",
      "epoch 5, batch 29, loss = 0.011659444309771061\n",
      "epoch 5, batch 30, loss = 0.008231470361351967\n",
      "epoch 5, batch 31, loss = 0.017314419150352478\n",
      "epoch 5, batch 32, loss = 0.05206519737839699\n",
      "epoch 5, batch 33, loss = 0.013988664373755455\n",
      "epoch 5, batch 34, loss = 0.010487599298357964\n",
      "epoch 5, batch 35, loss = 0.012548434548079967\n",
      "epoch 5, batch 36, loss = 0.005031665787100792\n",
      "epoch 5, batch 37, loss = 0.004307132679969072\n",
      "epoch 5, batch 38, loss = 0.02876119129359722\n",
      "epoch 5, batch 39, loss = 0.014409941621124744\n",
      "epoch 5, batch 40, loss = 0.011976134032011032\n",
      "epoch 5, batch 41, loss = 0.02192777395248413\n",
      "epoch 5, batch 42, loss = 0.011679332703351974\n",
      "epoch 5, batch 43, loss = 0.013998502865433693\n",
      "epoch 5, batch 44, loss = 0.018949851393699646\n",
      "epoch 5, batch 45, loss = 0.004553408361971378\n",
      "epoch 5, batch 46, loss = 0.013891246169805527\n",
      "epoch 5, batch 47, loss = 0.006892991252243519\n",
      "epoch 5, batch 48, loss = 0.013917185366153717\n",
      "epoch 5, batch 49, loss = 0.005759647116065025\n",
      "epoch 5, batch 50, loss = 0.022795259952545166\n",
      "epoch 5, batch 51, loss = 0.003939690999686718\n",
      "epoch 5, batch 52, loss = 0.031570419669151306\n",
      "epoch 5, batch 53, loss = 0.01905469410121441\n",
      "epoch 5, batch 54, loss = 0.002993494039401412\n",
      "epoch 5, batch 55, loss = 0.004910822957754135\n",
      "epoch 5, batch 56, loss = 0.007291642017662525\n",
      "epoch 5, batch 57, loss = 0.028785254806280136\n",
      "epoch 5, batch 58, loss = 0.031224798411130905\n",
      "epoch 5, batch 59, loss = 0.03812785446643829\n",
      "epoch 5, batch 60, loss = 0.010978901758790016\n",
      "epoch 5, batch 61, loss = 0.008919906802475452\n",
      "epoch 5, batch 62, loss = 0.02163994498550892\n",
      "epoch 5, batch 63, loss = 0.009936295449733734\n",
      "epoch 5, batch 64, loss = 0.0069427695125341415\n",
      "epoch 5, batch 65, loss = 0.024411683902144432\n",
      "epoch 5, batch 66, loss = 0.02469271421432495\n"
     ]
    },
    {
     "name": "stdout",
     "output_type": "stream",
     "text": [
      "epoch 5, batch 67, loss = 0.01848466880619526\n",
      "epoch 5, batch 68, loss = 0.014031586237251759\n",
      "epoch 5, batch 69, loss = 0.004739040974527597\n",
      "epoch 5, batch 70, loss = 0.016915950924158096\n",
      "epoch 5, batch 71, loss = 0.013273621909320354\n",
      "epoch 5, batch 72, loss = 0.014934947714209557\n",
      "epoch 5, batch 73, loss = 0.02793673239648342\n",
      "epoch 5, batch 74, loss = 0.002850265009328723\n",
      "epoch 5, batch 75, loss = 0.012759027071297169\n",
      "epoch 5, batch 76, loss = 0.006994262803345919\n",
      "epoch 5, batch 77, loss = 0.02281450293958187\n",
      "epoch 5, batch 78, loss = 0.008233216591179371\n",
      "epoch 5, batch 79, loss = 0.0067109293304383755\n",
      "epoch 5, batch 80, loss = 0.016501732170581818\n",
      "epoch 5, batch 81, loss = 0.019206224009394646\n",
      "epoch 5, batch 82, loss = 0.005740748252719641\n",
      "epoch 5, batch 83, loss = 0.0016255587106570601\n",
      "epoch 5, batch 84, loss = 0.01955419033765793\n",
      "epoch 5, batch 85, loss = 0.004384930711239576\n",
      "epoch 5, batch 86, loss = 0.00481990072876215\n",
      "epoch 5, batch 87, loss = 0.002317777369171381\n",
      "epoch 5, batch 88, loss = 0.01897651143372059\n",
      "epoch 5, batch 89, loss = 0.03501957282423973\n",
      "epoch 5, batch 90, loss = 0.040279027074575424\n",
      "epoch 5, batch 91, loss = 0.021193213760852814\n",
      "epoch 5, batch 92, loss = 0.0034887376241385937\n",
      "epoch 5, batch 93, loss = 0.024769235402345657\n",
      "epoch 5, batch 94, loss = 0.013977935537695885\n",
      "epoch 5, batch 95, loss = 0.004727061837911606\n",
      "epoch 5, batch 96, loss = 0.010406163521111012\n",
      "epoch 5, batch 97, loss = 0.1228499636054039\n",
      "epoch 5, batch 98, loss = 0.004868127405643463\n",
      "epoch 5, batch 99, loss = 0.01761203445494175\n",
      "epoch 5, batch 100, loss = 0.004341606516391039\n",
      "epoch 5, batch 101, loss = 0.0100655946880579\n",
      "epoch 5, batch 102, loss = 0.01507128681987524\n",
      "epoch 5, batch 103, loss = 0.007032326422631741\n",
      "epoch 5, batch 104, loss = 0.006250925827771425\n",
      "epoch 5, batch 105, loss = 0.05508192628622055\n",
      "epoch 5, batch 106, loss = 0.02505195140838623\n",
      "epoch 5, batch 107, loss = 0.009795553982257843\n",
      "epoch 5, batch 108, loss = 0.0029172345530241728\n",
      "epoch 5, batch 109, loss = 0.008914795704185963\n",
      "epoch 5, batch 110, loss = 0.018340900540351868\n",
      "epoch 5, batch 111, loss = 0.005190993659198284\n",
      "epoch 5, batch 112, loss = 0.005405044183135033\n",
      "epoch 5, batch 113, loss = 0.03769847750663757\n",
      "epoch 5, batch 114, loss = 0.0194780845195055\n",
      "epoch 5, batch 115, loss = 0.02995297871530056\n",
      "epoch 5, batch 116, loss = 0.030078481882810593\n",
      "epoch 5, batch 117, loss = 0.0343896709382534\n",
      "epoch 5, batch 118, loss = 0.0044317240826785564\n",
      "epoch 5, batch 119, loss = 0.029957078397274017\n",
      "epoch 5, batch 120, loss = 0.025214502587914467\n",
      "epoch 5, batch 121, loss = 0.018943393602967262\n",
      "epoch 5, batch 122, loss = 0.009641993790864944\n",
      "epoch 5, batch 123, loss = 0.026141129434108734\n",
      "epoch 5, batch 124, loss = 0.012784561142325401\n",
      "epoch 5, batch 125, loss = 0.013346782885491848\n",
      "epoch 5, batch 126, loss = 0.009519322775304317\n",
      "epoch 5, batch 127, loss = 0.021131861954927444\n",
      "epoch 5, batch 128, loss = 0.025008544325828552\n",
      "epoch 5, batch 129, loss = 0.01213774923235178\n",
      "epoch 5, batch 130, loss = 0.010501015931367874\n",
      "epoch 5, batch 131, loss = 0.00653713708743453\n",
      "epoch 5, batch 132, loss = 0.02216608077287674\n",
      "epoch 5, batch 133, loss = 0.03343243896961212\n",
      "epoch 5, batch 134, loss = 0.0411229282617569\n",
      "epoch 5, batch 135, loss = 0.013718713074922562\n",
      "epoch 5, batch 136, loss = 0.012098980136215687\n",
      "epoch 5, batch 137, loss = 0.005575247574597597\n",
      "epoch 5, batch 138, loss = 0.02360992692410946\n",
      "epoch 5, batch 139, loss = 0.00821419432759285\n",
      "epoch 5, batch 140, loss = 0.03513339161872864\n",
      "epoch 5, batch 141, loss = 0.006340915337204933\n",
      "epoch 5, batch 142, loss = 0.02333160676062107\n",
      "epoch 5, batch 143, loss = 0.012718481943011284\n",
      "epoch 5, batch 144, loss = 0.01456250436604023\n",
      "epoch 5, batch 145, loss = 0.007050675805658102\n",
      "epoch 5, batch 146, loss = 0.016239158809185028\n",
      "epoch 5, batch 147, loss = 0.012713300064206123\n",
      "epoch 5, batch 148, loss = 0.03302408382296562\n",
      "epoch 5, batch 149, loss = 0.016619736328721046\n",
      "epoch 5, batch 150, loss = 0.023604096844792366\n",
      "epoch 5, batch 151, loss = 0.034334681928157806\n",
      "epoch 5, batch 152, loss = 0.015249000862240791\n",
      "epoch 5, batch 153, loss = 0.0225087720900774\n",
      "epoch 5, batch 154, loss = 0.019304366782307625\n",
      "epoch 5, batch 155, loss = 0.0172997135668993\n",
      "epoch 5, batch 156, loss = 0.03808668255805969\n",
      "epoch 5, batch 157, loss = 0.012750841677188873\n",
      "epoch 5, batch 158, loss = 0.059937380254268646\n",
      "epoch 5, batch 159, loss = 0.054473549127578735\n",
      "epoch 5, batch 160, loss = 0.019116327166557312\n",
      "epoch 5, batch 161, loss = 0.009466526098549366\n",
      "epoch 5, batch 162, loss = 0.009541012346744537\n",
      "epoch 5, batch 163, loss = 0.010642925277352333\n",
      "epoch 5, batch 164, loss = 0.024235418066382408\n",
      "epoch 5, batch 165, loss = 0.008014869876205921\n",
      "epoch 5, batch 166, loss = 0.004083599429577589\n",
      "epoch 5, batch 167, loss = 0.028516728430986404\n",
      "epoch 5, batch 168, loss = 0.015904156491160393\n",
      "epoch 5, batch 169, loss = 0.02405332773923874\n",
      "epoch 5, batch 170, loss = 0.011288774199783802\n",
      "epoch 5, batch 171, loss = 0.004122053273022175\n",
      "epoch 5, batch 172, loss = 0.005317366681993008\n",
      "epoch 5, batch 173, loss = 0.0026705556083470583\n",
      "epoch 5, batch 174, loss = 0.0056348275393247604\n",
      "epoch 5, batch 175, loss = 0.028040152043104172\n",
      "epoch 5, batch 176, loss = 0.020958757027983665\n",
      "epoch 5, batch 177, loss = 0.029603583738207817\n",
      "epoch 5, batch 178, loss = 0.0085719283670187\n",
      "epoch 5, batch 179, loss = 0.002815983258187771\n",
      "epoch 5, batch 180, loss = 0.0048012807965278625\n",
      "epoch 5, batch 181, loss = 0.0036630723625421524\n",
      "epoch 5, batch 182, loss = 0.005616976413875818\n",
      "epoch 5, batch 183, loss = 0.0146824661642313\n",
      "epoch 5, batch 184, loss = 0.015810461714863777\n",
      "epoch 5, batch 185, loss = 0.051459889858961105\n",
      "epoch 5, batch 186, loss = 0.02785632386803627\n",
      "epoch 5, batch 187, loss = 0.009814941324293613\n",
      "epoch 5, batch 188, loss = 0.01230084989219904\n",
      "epoch 5, batch 189, loss = 0.0027714865282177925\n",
      "epoch 5, batch 190, loss = 0.030361078679561615\n",
      "epoch 5, batch 191, loss = 0.009314842522144318\n",
      "epoch 5, batch 192, loss = 0.029572736471891403\n",
      "epoch 5, batch 193, loss = 0.010751642286777496\n",
      "epoch 5, batch 194, loss = 0.004460952710360289\n",
      "epoch 5, batch 195, loss = 0.0043831802904605865\n",
      "epoch 5, batch 196, loss = 0.004704432096332312\n",
      "epoch 5, batch 197, loss = 0.028125979006290436\n",
      "epoch 5, batch 198, loss = 0.019368022680282593\n",
      "epoch 5, batch 199, loss = 0.02066558413207531\n",
      "epoch 6, batch 1, loss = 0.004559009801596403\n",
      "epoch 6, batch 2, loss = 0.006045004818588495\n",
      "epoch 6, batch 3, loss = 0.009464154951274395\n",
      "epoch 6, batch 4, loss = 0.008322209119796753\n",
      "epoch 6, batch 5, loss = 0.007334851194173098\n",
      "epoch 6, batch 6, loss = 0.030333952978253365\n",
      "epoch 6, batch 7, loss = 0.015934089198708534\n",
      "epoch 6, batch 8, loss = 0.0025095120072364807\n",
      "epoch 6, batch 9, loss = 0.0063644214533269405\n",
      "epoch 6, batch 10, loss = 0.008032944984734058\n",
      "epoch 6, batch 11, loss = 0.019995776936411858\n",
      "epoch 6, batch 12, loss = 0.011247273534536362\n",
      "epoch 6, batch 13, loss = 0.020774686709046364\n",
      "epoch 6, batch 14, loss = 0.018902486190199852\n",
      "epoch 6, batch 15, loss = 0.002289111725986004\n",
      "epoch 6, batch 16, loss = 0.011272363364696503\n",
      "epoch 6, batch 17, loss = 0.01939631812274456\n",
      "epoch 6, batch 18, loss = 0.04389852657914162\n",
      "epoch 6, batch 19, loss = 0.008505835197865963\n",
      "epoch 6, batch 20, loss = 0.016171785071492195\n",
      "epoch 6, batch 21, loss = 0.020610608160495758\n",
      "epoch 6, batch 22, loss = 0.034729164093732834\n",
      "epoch 6, batch 23, loss = 0.008300986140966415\n",
      "epoch 6, batch 24, loss = 0.020747115835547447\n",
      "epoch 6, batch 25, loss = 0.008455436676740646\n",
      "epoch 6, batch 26, loss = 0.010475789196789265\n",
      "epoch 6, batch 27, loss = 0.013996782712638378\n",
      "epoch 6, batch 28, loss = 0.028840575367212296\n",
      "epoch 6, batch 29, loss = 0.022322040051221848\n",
      "epoch 6, batch 30, loss = 0.014190074987709522\n",
      "epoch 6, batch 31, loss = 0.003925999626517296\n",
      "epoch 6, batch 32, loss = 0.008060376159846783\n",
      "epoch 6, batch 33, loss = 0.00596397090703249\n",
      "epoch 6, batch 34, loss = 0.00773338507860899\n",
      "epoch 6, batch 35, loss = 0.055205002427101135\n",
      "epoch 6, batch 36, loss = 0.028748268261551857\n",
      "epoch 6, batch 37, loss = 0.019452570006251335\n",
      "epoch 6, batch 38, loss = 0.01612081006169319\n",
      "epoch 6, batch 39, loss = 0.0060587553307414055\n",
      "epoch 6, batch 40, loss = 0.028977803885936737\n",
      "epoch 6, batch 41, loss = 0.010921191424131393\n",
      "epoch 6, batch 42, loss = 0.019517885521054268\n"
     ]
    },
    {
     "name": "stdout",
     "output_type": "stream",
     "text": [
      "epoch 6, batch 43, loss = 0.011533145792782307\n",
      "epoch 6, batch 44, loss = 0.008558295667171478\n",
      "epoch 6, batch 45, loss = 0.003262409009039402\n",
      "epoch 6, batch 46, loss = 0.017691288143396378\n",
      "epoch 6, batch 47, loss = 0.006784700322896242\n",
      "epoch 6, batch 48, loss = 0.02783006988465786\n",
      "epoch 6, batch 49, loss = 0.015650764107704163\n",
      "epoch 6, batch 50, loss = 0.017367849126458168\n",
      "epoch 6, batch 51, loss = 0.03812933340668678\n",
      "epoch 6, batch 52, loss = 0.014555769972503185\n",
      "epoch 6, batch 53, loss = 0.032908596098423004\n",
      "epoch 6, batch 54, loss = 0.009184044785797596\n",
      "epoch 6, batch 55, loss = 0.012117832899093628\n",
      "epoch 6, batch 56, loss = 0.004570022225379944\n",
      "epoch 6, batch 57, loss = 0.011664333753287792\n",
      "epoch 6, batch 58, loss = 0.005445196758955717\n",
      "epoch 6, batch 59, loss = 0.005537320859730244\n",
      "epoch 6, batch 60, loss = 0.00860249251127243\n",
      "epoch 6, batch 61, loss = 0.010495749302208424\n",
      "epoch 6, batch 62, loss = 0.007932706736028194\n",
      "epoch 6, batch 63, loss = 0.016348185017704964\n",
      "epoch 6, batch 64, loss = 0.0055487374775111675\n",
      "epoch 6, batch 65, loss = 0.0077836173586547375\n",
      "epoch 6, batch 66, loss = 0.013603019528090954\n",
      "epoch 6, batch 67, loss = 0.011151091195642948\n",
      "epoch 6, batch 68, loss = 0.01175791583955288\n",
      "epoch 6, batch 69, loss = 0.004459680989384651\n",
      "epoch 6, batch 70, loss = 0.008610156364738941\n",
      "epoch 6, batch 71, loss = 0.019681917503476143\n",
      "epoch 6, batch 72, loss = 0.0017711487598717213\n",
      "epoch 6, batch 73, loss = 0.0029144734144210815\n",
      "epoch 6, batch 74, loss = 0.016169385984539986\n",
      "epoch 6, batch 75, loss = 0.0031832861714065075\n",
      "epoch 6, batch 76, loss = 0.004267075564712286\n",
      "epoch 6, batch 77, loss = 0.0191251989454031\n",
      "epoch 6, batch 78, loss = 0.01517411321401596\n",
      "epoch 6, batch 79, loss = 0.010934213176369667\n",
      "epoch 6, batch 80, loss = 0.02430792525410652\n",
      "epoch 6, batch 81, loss = 0.0126519575715065\n",
      "epoch 6, batch 82, loss = 0.01997791789472103\n",
      "epoch 6, batch 83, loss = 0.010480381548404694\n",
      "epoch 6, batch 84, loss = 0.013332215137779713\n",
      "epoch 6, batch 85, loss = 0.00963388942182064\n",
      "epoch 6, batch 86, loss = 0.020572282373905182\n",
      "epoch 6, batch 87, loss = 0.004137458745390177\n",
      "epoch 6, batch 88, loss = 0.019031301140785217\n",
      "epoch 6, batch 89, loss = 0.03288383036851883\n",
      "epoch 6, batch 90, loss = 0.016689253970980644\n",
      "epoch 6, batch 91, loss = 0.003790981136262417\n",
      "epoch 6, batch 92, loss = 0.006363882217556238\n",
      "epoch 6, batch 93, loss = 0.004270858597010374\n",
      "epoch 6, batch 94, loss = 0.013633009046316147\n",
      "epoch 6, batch 95, loss = 0.03161201626062393\n",
      "epoch 6, batch 96, loss = 0.007128681521862745\n",
      "epoch 6, batch 97, loss = 0.004766025114804506\n",
      "epoch 6, batch 98, loss = 0.011451277881860733\n",
      "epoch 6, batch 99, loss = 0.019339239224791527\n",
      "epoch 6, batch 100, loss = 0.019738705828785896\n",
      "epoch 6, batch 101, loss = 0.051553841680288315\n",
      "epoch 6, batch 102, loss = 0.031189149245619774\n",
      "epoch 6, batch 103, loss = 0.007869228720664978\n",
      "epoch 6, batch 104, loss = 0.005411412101238966\n",
      "epoch 6, batch 105, loss = 0.02495744079351425\n",
      "epoch 6, batch 106, loss = 0.006006704177707434\n",
      "epoch 6, batch 107, loss = 0.025049857795238495\n",
      "epoch 6, batch 108, loss = 0.0585666187107563\n",
      "epoch 6, batch 109, loss = 0.015253627672791481\n",
      "epoch 6, batch 110, loss = 0.010539458133280277\n",
      "epoch 6, batch 111, loss = 0.007409790530800819\n",
      "epoch 6, batch 112, loss = 0.001641507027670741\n",
      "epoch 6, batch 113, loss = 0.010755414143204689\n",
      "epoch 6, batch 114, loss = 0.049703363329172134\n",
      "epoch 6, batch 115, loss = 0.01206541620194912\n",
      "epoch 6, batch 116, loss = 0.01959022879600525\n",
      "epoch 6, batch 117, loss = 0.012885655276477337\n",
      "epoch 6, batch 118, loss = 0.003765291767194867\n",
      "epoch 6, batch 119, loss = 0.015784122049808502\n",
      "epoch 6, batch 120, loss = 0.01472518127411604\n",
      "epoch 6, batch 121, loss = 0.016731860116124153\n",
      "epoch 6, batch 122, loss = 0.020867107436060905\n",
      "epoch 6, batch 123, loss = 0.025748498737812042\n",
      "epoch 6, batch 124, loss = 0.018224377185106277\n",
      "epoch 6, batch 125, loss = 0.012203690595924854\n",
      "epoch 6, batch 126, loss = 0.003899391507729888\n",
      "epoch 6, batch 127, loss = 0.017122186720371246\n",
      "epoch 6, batch 128, loss = 0.0038296275306493044\n",
      "epoch 6, batch 129, loss = 0.004900400526821613\n",
      "epoch 6, batch 130, loss = 0.03504495322704315\n",
      "epoch 6, batch 131, loss = 0.03288504108786583\n",
      "epoch 6, batch 132, loss = 0.028989411890506744\n",
      "epoch 6, batch 133, loss = 0.020787160843610764\n",
      "epoch 6, batch 134, loss = 0.020980769768357277\n",
      "epoch 6, batch 135, loss = 0.004250944126397371\n",
      "epoch 6, batch 136, loss = 0.009494731202721596\n",
      "epoch 6, batch 137, loss = 0.0025926646776497364\n",
      "epoch 6, batch 138, loss = 0.012260972522199154\n",
      "epoch 6, batch 139, loss = 0.00385872065089643\n",
      "epoch 6, batch 140, loss = 0.026634009554982185\n",
      "epoch 6, batch 141, loss = 0.005055778194218874\n",
      "epoch 6, batch 142, loss = 0.017049219459295273\n",
      "epoch 6, batch 143, loss = 0.012851256877183914\n",
      "epoch 6, batch 144, loss = 0.01341084111481905\n",
      "epoch 6, batch 145, loss = 0.03767189010977745\n",
      "epoch 6, batch 146, loss = 0.0035287512000650167\n",
      "epoch 6, batch 147, loss = 0.0038348124362528324\n",
      "epoch 6, batch 148, loss = 0.02569061517715454\n",
      "epoch 6, batch 149, loss = 0.049269918352365494\n",
      "epoch 6, batch 150, loss = 0.010747438296675682\n",
      "epoch 6, batch 151, loss = 0.0125651303678751\n",
      "epoch 6, batch 152, loss = 0.01063424814492464\n",
      "epoch 6, batch 153, loss = 0.019939633086323738\n",
      "epoch 6, batch 154, loss = 0.014694376848638058\n",
      "epoch 6, batch 155, loss = 0.025308405980467796\n",
      "epoch 6, batch 156, loss = 0.008457845076918602\n",
      "epoch 6, batch 157, loss = 0.0166893620043993\n",
      "epoch 6, batch 158, loss = 0.002162646735087037\n",
      "epoch 6, batch 159, loss = 0.011115455999970436\n",
      "epoch 6, batch 160, loss = 0.005468239076435566\n",
      "epoch 6, batch 161, loss = 0.006721107754856348\n",
      "epoch 6, batch 162, loss = 0.03229089826345444\n",
      "epoch 6, batch 163, loss = 0.009706846438348293\n",
      "epoch 6, batch 164, loss = 0.03839655965566635\n",
      "epoch 6, batch 165, loss = 0.009481903165578842\n",
      "epoch 6, batch 166, loss = 0.004233245737850666\n",
      "epoch 6, batch 167, loss = 0.030398542061448097\n",
      "epoch 6, batch 168, loss = 0.0009631739812903106\n",
      "epoch 6, batch 169, loss = 0.0027944522444158792\n",
      "epoch 6, batch 170, loss = 0.04260904714465141\n",
      "epoch 6, batch 171, loss = 0.03396294265985489\n",
      "epoch 6, batch 172, loss = 0.027723481878638268\n",
      "epoch 6, batch 173, loss = 0.026091687381267548\n",
      "epoch 6, batch 174, loss = 0.00788307748734951\n",
      "epoch 6, batch 175, loss = 0.004014871548861265\n",
      "epoch 6, batch 176, loss = 0.08878003805875778\n",
      "epoch 6, batch 177, loss = 0.01368365902453661\n",
      "epoch 6, batch 178, loss = 0.021651938557624817\n",
      "epoch 6, batch 179, loss = 0.019066890701651573\n",
      "epoch 6, batch 180, loss = 0.00905037671327591\n",
      "epoch 6, batch 181, loss = 0.02043919265270233\n",
      "epoch 6, batch 182, loss = 0.01626344956457615\n",
      "epoch 6, batch 183, loss = 0.005123307928442955\n",
      "epoch 6, batch 184, loss = 0.032421305775642395\n",
      "epoch 6, batch 185, loss = 0.007020759396255016\n",
      "epoch 6, batch 186, loss = 0.0040953559800982475\n",
      "epoch 6, batch 187, loss = 0.0015048625646159053\n",
      "epoch 6, batch 188, loss = 0.025377415120601654\n",
      "epoch 6, batch 189, loss = 0.005162854213267565\n",
      "epoch 6, batch 190, loss = 0.011755917221307755\n",
      "epoch 6, batch 191, loss = 0.01173089724034071\n",
      "epoch 6, batch 192, loss = 0.003525746753439307\n",
      "epoch 6, batch 193, loss = 0.0018668200355023146\n",
      "epoch 6, batch 194, loss = 0.03986843675374985\n",
      "epoch 6, batch 195, loss = 0.028819218277931213\n",
      "epoch 6, batch 196, loss = 0.010464790277183056\n",
      "epoch 6, batch 197, loss = 0.018957681953907013\n",
      "epoch 6, batch 198, loss = 0.003121868474408984\n",
      "epoch 6, batch 199, loss = 0.015650596469640732\n",
      "epoch 7, batch 1, loss = 0.007551522459834814\n",
      "epoch 7, batch 2, loss = 0.013242559507489204\n",
      "epoch 7, batch 3, loss = 0.003959356341511011\n",
      "epoch 7, batch 4, loss = 0.000708286534063518\n",
      "epoch 7, batch 5, loss = 0.019619790837168694\n",
      "epoch 7, batch 6, loss = 0.005595566239207983\n",
      "epoch 7, batch 7, loss = 0.006082210689783096\n",
      "epoch 7, batch 8, loss = 0.003940942697227001\n",
      "epoch 7, batch 9, loss = 0.006731313653290272\n",
      "epoch 7, batch 10, loss = 0.004727277439087629\n",
      "epoch 7, batch 11, loss = 0.0043946439400315285\n",
      "epoch 7, batch 12, loss = 0.007301427889615297\n",
      "epoch 7, batch 13, loss = 0.005754267796874046\n",
      "epoch 7, batch 14, loss = 0.015495682135224342\n",
      "epoch 7, batch 15, loss = 0.003459199098870158\n",
      "epoch 7, batch 16, loss = 0.003200938692316413\n"
     ]
    },
    {
     "name": "stdout",
     "output_type": "stream",
     "text": [
      "epoch 7, batch 17, loss = 0.025721250101923943\n",
      "epoch 7, batch 18, loss = 0.008245247416198254\n",
      "epoch 7, batch 19, loss = 0.003728794166818261\n",
      "epoch 7, batch 20, loss = 0.0008197352872230113\n",
      "epoch 7, batch 21, loss = 0.0026773614808917046\n",
      "epoch 7, batch 22, loss = 0.01460067369043827\n",
      "epoch 7, batch 23, loss = 0.004258529748767614\n",
      "epoch 7, batch 24, loss = 0.007351172622293234\n",
      "epoch 7, batch 25, loss = 0.001489975256845355\n",
      "epoch 7, batch 26, loss = 0.008558965288102627\n",
      "epoch 7, batch 27, loss = 0.00403332244604826\n",
      "epoch 7, batch 28, loss = 0.0013725783210247755\n",
      "epoch 7, batch 29, loss = 0.004795475397258997\n",
      "epoch 7, batch 30, loss = 0.011702162213623524\n",
      "epoch 7, batch 31, loss = 0.0010761817684397101\n",
      "epoch 7, batch 32, loss = 0.01057769451290369\n",
      "epoch 7, batch 33, loss = 0.005968935322016478\n",
      "epoch 7, batch 34, loss = 0.0019035206642001867\n",
      "epoch 7, batch 35, loss = 0.004637280013412237\n",
      "epoch 7, batch 36, loss = 0.0282047800719738\n",
      "epoch 7, batch 37, loss = 0.009536572732031345\n",
      "epoch 7, batch 38, loss = 0.0038851986173540354\n",
      "epoch 7, batch 39, loss = 0.008089731447398663\n",
      "epoch 7, batch 40, loss = 0.04379943758249283\n",
      "epoch 7, batch 41, loss = 0.023523574694991112\n",
      "epoch 7, batch 42, loss = 0.0016155572375282645\n",
      "epoch 7, batch 43, loss = 0.0037191971205174923\n",
      "epoch 7, batch 44, loss = 0.001330066006630659\n",
      "epoch 7, batch 45, loss = 0.0020991163328289986\n",
      "epoch 7, batch 46, loss = 0.003514418378472328\n",
      "epoch 7, batch 47, loss = 0.017295459285378456\n",
      "epoch 7, batch 48, loss = 0.009250663220882416\n",
      "epoch 7, batch 49, loss = 0.002583028981462121\n",
      "epoch 7, batch 50, loss = 0.00993277132511139\n",
      "epoch 7, batch 51, loss = 0.002064756816253066\n",
      "epoch 7, batch 52, loss = 0.014202742837369442\n",
      "epoch 7, batch 53, loss = 0.0036076826509088278\n",
      "epoch 7, batch 54, loss = 0.016332607716321945\n",
      "epoch 7, batch 55, loss = 0.01378520205616951\n",
      "epoch 7, batch 56, loss = 0.001490991679020226\n",
      "epoch 7, batch 57, loss = 0.0037048212252557278\n",
      "epoch 7, batch 58, loss = 0.005952413659542799\n",
      "epoch 7, batch 59, loss = 0.015341312624514103\n",
      "epoch 7, batch 60, loss = 0.011693017557263374\n",
      "epoch 7, batch 61, loss = 0.0018300064839422703\n",
      "epoch 7, batch 62, loss = 0.011970516294240952\n",
      "epoch 7, batch 63, loss = 0.007212400436401367\n",
      "epoch 7, batch 64, loss = 0.06467439979314804\n",
      "epoch 7, batch 65, loss = 0.016212161630392075\n",
      "epoch 7, batch 66, loss = 0.014825594611465931\n",
      "epoch 7, batch 67, loss = 0.015662282705307007\n",
      "epoch 7, batch 68, loss = 0.009924065321683884\n",
      "epoch 7, batch 69, loss = 0.00580584118142724\n",
      "epoch 7, batch 70, loss = 0.012629931792616844\n",
      "epoch 7, batch 71, loss = 0.011556928046047688\n",
      "epoch 7, batch 72, loss = 0.03101721964776516\n",
      "epoch 7, batch 73, loss = 0.011807712726294994\n",
      "epoch 7, batch 74, loss = 0.025421833619475365\n",
      "epoch 7, batch 75, loss = 0.033926814794540405\n",
      "epoch 7, batch 76, loss = 0.023493068292737007\n",
      "epoch 7, batch 77, loss = 0.016262372955679893\n",
      "epoch 7, batch 78, loss = 0.01998954266309738\n",
      "epoch 7, batch 79, loss = 0.045329559594392776\n",
      "epoch 7, batch 80, loss = 0.012485615909099579\n",
      "epoch 7, batch 81, loss = 0.0035132691264152527\n",
      "epoch 7, batch 82, loss = 0.014646022580564022\n",
      "epoch 7, batch 83, loss = 0.012209927663207054\n",
      "epoch 7, batch 84, loss = 0.05307507887482643\n",
      "epoch 7, batch 85, loss = 0.007092539221048355\n",
      "epoch 7, batch 86, loss = 0.015980232506990433\n",
      "epoch 7, batch 87, loss = 0.02479921095073223\n",
      "epoch 7, batch 88, loss = 0.014458706602454185\n",
      "epoch 7, batch 89, loss = 0.008983796462416649\n",
      "epoch 7, batch 90, loss = 0.013633210211992264\n",
      "epoch 7, batch 91, loss = 0.043190985918045044\n",
      "epoch 7, batch 92, loss = 0.060906168073415756\n",
      "epoch 7, batch 93, loss = 0.007798418402671814\n",
      "epoch 7, batch 94, loss = 0.07192966341972351\n",
      "epoch 7, batch 95, loss = 0.008892377838492393\n",
      "epoch 7, batch 96, loss = 0.01956317014992237\n",
      "epoch 7, batch 97, loss = 0.009820915758609772\n",
      "epoch 7, batch 98, loss = 0.000817715423181653\n",
      "epoch 7, batch 99, loss = 0.01702892780303955\n",
      "epoch 7, batch 100, loss = 0.014777356758713722\n",
      "epoch 7, batch 101, loss = 0.05507311224937439\n",
      "epoch 7, batch 102, loss = 0.004180066753178835\n",
      "epoch 7, batch 103, loss = 0.008313029073178768\n",
      "epoch 7, batch 104, loss = 0.010255349799990654\n",
      "epoch 7, batch 105, loss = 0.011670701205730438\n",
      "epoch 7, batch 106, loss = 0.014683102257549763\n",
      "epoch 7, batch 107, loss = 0.0020649635698646307\n",
      "epoch 7, batch 108, loss = 0.05775522068142891\n",
      "epoch 7, batch 109, loss = 0.005630165804177523\n",
      "epoch 7, batch 110, loss = 0.015010688453912735\n",
      "epoch 7, batch 111, loss = 0.0025877230800688267\n",
      "epoch 7, batch 112, loss = 0.012291821651160717\n",
      "epoch 7, batch 113, loss = 0.030928106978535652\n",
      "epoch 7, batch 114, loss = 0.004326615482568741\n",
      "epoch 7, batch 115, loss = 0.013019910082221031\n",
      "epoch 7, batch 116, loss = 0.014778795652091503\n",
      "epoch 7, batch 117, loss = 0.0019022506894543767\n",
      "epoch 7, batch 118, loss = 0.0046848817728459835\n",
      "epoch 7, batch 119, loss = 0.004723230842500925\n",
      "epoch 7, batch 120, loss = 0.008498822338879108\n",
      "epoch 7, batch 121, loss = 0.03984032943844795\n",
      "epoch 7, batch 122, loss = 0.011515054851770401\n",
      "epoch 7, batch 123, loss = 0.005082873627543449\n",
      "epoch 7, batch 124, loss = 0.004575430415570736\n",
      "epoch 7, batch 125, loss = 0.015238209627568722\n",
      "epoch 7, batch 126, loss = 0.009950312785804272\n",
      "epoch 7, batch 127, loss = 0.004241807386279106\n",
      "epoch 7, batch 128, loss = 0.019588300958275795\n",
      "epoch 7, batch 129, loss = 0.023903967812657356\n",
      "epoch 7, batch 130, loss = 0.018245810642838478\n",
      "epoch 7, batch 131, loss = 0.01053656730800867\n",
      "epoch 7, batch 132, loss = 0.0017172477673739195\n",
      "epoch 7, batch 133, loss = 0.024364329874515533\n",
      "epoch 7, batch 134, loss = 0.0026728513184934855\n",
      "epoch 7, batch 135, loss = 0.004205057397484779\n",
      "epoch 7, batch 136, loss = 0.0039782277308404446\n",
      "epoch 7, batch 137, loss = 0.0028927528765052557\n",
      "epoch 7, batch 138, loss = 0.0029095865320414305\n",
      "epoch 7, batch 139, loss = 0.016893861815333366\n",
      "epoch 7, batch 140, loss = 0.0043209209106862545\n",
      "epoch 7, batch 141, loss = 0.010749181732535362\n",
      "epoch 7, batch 142, loss = 0.009324710816144943\n",
      "epoch 7, batch 143, loss = 0.0034925201907753944\n",
      "epoch 7, batch 144, loss = 0.017475223168730736\n",
      "epoch 7, batch 145, loss = 0.012978869490325451\n",
      "epoch 7, batch 146, loss = 0.10094466805458069\n",
      "epoch 7, batch 147, loss = 0.011449432000517845\n",
      "epoch 7, batch 148, loss = 0.012257546186447144\n",
      "epoch 7, batch 149, loss = 0.001564821694046259\n",
      "epoch 7, batch 150, loss = 0.0038202712312340736\n",
      "epoch 7, batch 151, loss = 0.04285215213894844\n",
      "epoch 7, batch 152, loss = 0.003688942175358534\n",
      "epoch 7, batch 153, loss = 0.003764876164495945\n",
      "epoch 7, batch 154, loss = 0.008732059970498085\n",
      "epoch 7, batch 155, loss = 0.0022010058164596558\n",
      "epoch 7, batch 156, loss = 0.001526026288047433\n",
      "epoch 7, batch 157, loss = 0.026069335639476776\n",
      "epoch 7, batch 158, loss = 0.018130779266357422\n",
      "epoch 7, batch 159, loss = 0.027643311768770218\n",
      "epoch 7, batch 160, loss = 0.012636899016797543\n",
      "epoch 7, batch 161, loss = 0.006636868230998516\n",
      "epoch 7, batch 162, loss = 0.006884204223752022\n",
      "epoch 7, batch 163, loss = 0.026450490579009056\n",
      "epoch 7, batch 164, loss = 0.027970638126134872\n",
      "epoch 7, batch 165, loss = 0.007374567445367575\n",
      "epoch 7, batch 166, loss = 0.020353160798549652\n",
      "epoch 7, batch 167, loss = 0.010650279931724072\n",
      "epoch 7, batch 168, loss = 0.0017538825049996376\n",
      "epoch 7, batch 169, loss = 0.0023736923467367887\n",
      "epoch 7, batch 170, loss = 0.03453904017806053\n",
      "epoch 7, batch 171, loss = 0.010203398764133453\n",
      "epoch 7, batch 172, loss = 0.012561189942061901\n",
      "epoch 7, batch 173, loss = 0.013827375136315823\n",
      "epoch 7, batch 174, loss = 0.00576787581667304\n",
      "epoch 7, batch 175, loss = 0.0034445873461663723\n",
      "epoch 7, batch 176, loss = 0.031675562262535095\n",
      "epoch 7, batch 177, loss = 0.004316599573940039\n",
      "epoch 7, batch 178, loss = 0.0028440835885703564\n",
      "epoch 7, batch 179, loss = 0.006900560110807419\n",
      "epoch 7, batch 180, loss = 0.006968640256673098\n",
      "epoch 7, batch 181, loss = 0.0012751721078529954\n",
      "epoch 7, batch 182, loss = 0.004059336613863707\n",
      "epoch 7, batch 183, loss = 0.011995775625109673\n",
      "epoch 7, batch 184, loss = 0.008638749830424786\n",
      "epoch 7, batch 185, loss = 0.027467573061585426\n",
      "epoch 7, batch 186, loss = 0.0010487984400242567\n",
      "epoch 7, batch 187, loss = 0.04682714119553566\n",
      "epoch 7, batch 188, loss = 0.004065727349370718\n",
      "epoch 7, batch 189, loss = 0.016188181936740875\n",
      "epoch 7, batch 190, loss = 0.002784223295748234\n"
     ]
    },
    {
     "name": "stdout",
     "output_type": "stream",
     "text": [
      "epoch 7, batch 191, loss = 0.00551975704729557\n",
      "epoch 7, batch 192, loss = 0.009967400692403316\n",
      "epoch 7, batch 193, loss = 0.03917261213064194\n",
      "epoch 7, batch 194, loss = 0.010558944195508957\n",
      "epoch 7, batch 195, loss = 0.019697707146406174\n",
      "epoch 7, batch 196, loss = 0.01424079667776823\n",
      "epoch 7, batch 197, loss = 0.003653082065284252\n",
      "epoch 7, batch 198, loss = 0.02560737170279026\n",
      "epoch 7, batch 199, loss = 0.017873162403702736\n",
      "epoch 8, batch 1, loss = 0.00946273747831583\n",
      "epoch 8, batch 2, loss = 0.0055802310816943645\n",
      "epoch 8, batch 3, loss = 0.0071947770193219185\n",
      "epoch 8, batch 4, loss = 0.002527782227844\n",
      "epoch 8, batch 5, loss = 0.008624290116131306\n",
      "epoch 8, batch 6, loss = 0.003703777212649584\n",
      "epoch 8, batch 7, loss = 0.04587503522634506\n",
      "epoch 8, batch 8, loss = 0.016120806336402893\n",
      "epoch 8, batch 9, loss = 0.021120207384228706\n",
      "epoch 8, batch 10, loss = 0.004247056320309639\n",
      "epoch 8, batch 11, loss = 0.0011723182396963239\n",
      "epoch 8, batch 12, loss = 0.012121684849262238\n",
      "epoch 8, batch 13, loss = 0.0007964085671119392\n",
      "epoch 8, batch 14, loss = 0.004961587954312563\n",
      "epoch 8, batch 15, loss = 0.019618147984147072\n",
      "epoch 8, batch 16, loss = 0.04583123326301575\n",
      "epoch 8, batch 17, loss = 0.001415313920006156\n",
      "epoch 8, batch 18, loss = 0.00925436057150364\n",
      "epoch 8, batch 19, loss = 0.003767535788938403\n",
      "epoch 8, batch 20, loss = 0.005375072360038757\n",
      "epoch 8, batch 21, loss = 0.0035830005072057247\n",
      "epoch 8, batch 22, loss = 0.022271931171417236\n",
      "epoch 8, batch 23, loss = 0.00270292186178267\n",
      "epoch 8, batch 24, loss = 0.005833957344293594\n",
      "epoch 8, batch 25, loss = 0.0011722627095878124\n",
      "epoch 8, batch 26, loss = 0.01627417653799057\n",
      "epoch 8, batch 27, loss = 0.019454140216112137\n",
      "epoch 8, batch 28, loss = 0.015883516520261765\n",
      "epoch 8, batch 29, loss = 0.00609904108569026\n",
      "epoch 8, batch 30, loss = 0.008829193189740181\n",
      "epoch 8, batch 31, loss = 0.004959882237017155\n",
      "epoch 8, batch 32, loss = 0.0012680583167821169\n",
      "epoch 8, batch 33, loss = 0.0010952720185741782\n",
      "epoch 8, batch 34, loss = 0.008752749301493168\n",
      "epoch 8, batch 35, loss = 0.0013621674152091146\n",
      "epoch 8, batch 36, loss = 0.00414319010451436\n",
      "epoch 8, batch 37, loss = 0.004014867823570967\n",
      "epoch 8, batch 38, loss = 0.021622365340590477\n",
      "epoch 8, batch 39, loss = 0.011623868718743324\n",
      "epoch 8, batch 40, loss = 0.016880586743354797\n",
      "epoch 8, batch 41, loss = 0.0010020032059401274\n",
      "epoch 8, batch 42, loss = 0.0016789104556664824\n",
      "epoch 8, batch 43, loss = 0.007274629548192024\n",
      "epoch 8, batch 44, loss = 0.02623971737921238\n",
      "epoch 8, batch 45, loss = 0.006605298724025488\n",
      "epoch 8, batch 46, loss = 0.0064980941824615\n",
      "epoch 8, batch 47, loss = 0.004953353200107813\n",
      "epoch 8, batch 48, loss = 0.01740383543074131\n",
      "epoch 8, batch 49, loss = 0.013128685764968395\n",
      "epoch 8, batch 50, loss = 0.002199241193011403\n",
      "epoch 8, batch 51, loss = 0.005582497920840979\n",
      "epoch 8, batch 52, loss = 0.022133493795990944\n",
      "epoch 8, batch 53, loss = 0.011040592566132545\n",
      "epoch 8, batch 54, loss = 0.025123411789536476\n",
      "epoch 8, batch 55, loss = 0.0019648843444883823\n",
      "epoch 8, batch 56, loss = 0.0018977380823343992\n",
      "epoch 8, batch 57, loss = 0.015044916421175003\n",
      "epoch 8, batch 58, loss = 0.011153523810207844\n",
      "epoch 8, batch 59, loss = 0.006243591196835041\n",
      "epoch 8, batch 60, loss = 0.0045075323432683945\n",
      "epoch 8, batch 61, loss = 0.0009708255529403687\n",
      "epoch 8, batch 62, loss = 0.005203378852456808\n",
      "epoch 8, batch 63, loss = 0.0034838251303881407\n",
      "epoch 8, batch 64, loss = 0.009739329107105732\n",
      "epoch 8, batch 65, loss = 0.0021972942631691694\n",
      "epoch 8, batch 66, loss = 0.0035627412144094706\n",
      "epoch 8, batch 67, loss = 0.004579817410558462\n",
      "epoch 8, batch 68, loss = 0.027274684980511665\n",
      "epoch 8, batch 69, loss = 0.004996108822524548\n",
      "epoch 8, batch 70, loss = 0.01049474161118269\n",
      "epoch 8, batch 71, loss = 0.0035255602560937405\n",
      "epoch 8, batch 72, loss = 0.0070213996805250645\n",
      "epoch 8, batch 73, loss = 0.005804122891277075\n",
      "epoch 8, batch 74, loss = 0.014486143365502357\n",
      "epoch 8, batch 75, loss = 0.01722361333668232\n",
      "epoch 8, batch 76, loss = 0.0077096461318433285\n",
      "epoch 8, batch 77, loss = 0.0049506137147545815\n",
      "epoch 8, batch 78, loss = 0.013377835974097252\n",
      "epoch 8, batch 79, loss = 0.004211336839944124\n",
      "epoch 8, batch 80, loss = 0.00782514363527298\n",
      "epoch 8, batch 81, loss = 0.012735367752611637\n",
      "epoch 8, batch 82, loss = 0.008585128001868725\n",
      "epoch 8, batch 83, loss = 0.01147452276200056\n",
      "epoch 8, batch 84, loss = 0.0035843325313180685\n",
      "epoch 8, batch 85, loss = 0.008919987827539444\n",
      "epoch 8, batch 86, loss = 0.0069161029532551765\n",
      "epoch 8, batch 87, loss = 0.012598945759236813\n",
      "epoch 8, batch 88, loss = 0.0019059113692492247\n",
      "epoch 8, batch 89, loss = 0.006274152547121048\n",
      "epoch 8, batch 90, loss = 0.028317905962467194\n",
      "epoch 8, batch 91, loss = 0.018568620085716248\n",
      "epoch 8, batch 92, loss = 0.0008591979276388884\n",
      "epoch 8, batch 93, loss = 0.01830078288912773\n",
      "epoch 8, batch 94, loss = 0.005958092864602804\n",
      "epoch 8, batch 95, loss = 0.010343069210648537\n",
      "epoch 8, batch 96, loss = 0.011048109270632267\n",
      "epoch 8, batch 97, loss = 0.009250184521079063\n",
      "epoch 8, batch 98, loss = 0.019661974161863327\n",
      "epoch 8, batch 99, loss = 0.001253490336239338\n",
      "epoch 8, batch 100, loss = 0.007305092643946409\n",
      "epoch 8, batch 101, loss = 0.000818218570202589\n",
      "epoch 8, batch 102, loss = 0.01963849365711212\n",
      "epoch 8, batch 103, loss = 0.007735017687082291\n",
      "epoch 8, batch 104, loss = 0.011998637579381466\n",
      "epoch 8, batch 105, loss = 0.009357855655252934\n",
      "epoch 8, batch 106, loss = 0.009067476727068424\n",
      "epoch 8, batch 107, loss = 0.005535998847335577\n",
      "epoch 8, batch 108, loss = 0.00503932312130928\n",
      "epoch 8, batch 109, loss = 0.0023545967414975166\n",
      "epoch 8, batch 110, loss = 0.0045469412580132484\n",
      "epoch 8, batch 111, loss = 0.010766253806650639\n",
      "epoch 8, batch 112, loss = 0.06171926483511925\n",
      "epoch 8, batch 113, loss = 0.007410096935927868\n",
      "epoch 8, batch 114, loss = 0.005912857595831156\n",
      "epoch 8, batch 115, loss = 0.0016456524608656764\n",
      "epoch 8, batch 116, loss = 0.0017941485857591033\n",
      "epoch 8, batch 117, loss = 0.01268067117780447\n",
      "epoch 8, batch 118, loss = 0.0023406853433698416\n",
      "epoch 8, batch 119, loss = 0.0012529677478596568\n",
      "epoch 8, batch 120, loss = 0.00429990328848362\n",
      "epoch 8, batch 121, loss = 0.016029205173254013\n",
      "epoch 8, batch 122, loss = 0.0013437530724331737\n",
      "epoch 8, batch 123, loss = 0.006291279569268227\n",
      "epoch 8, batch 124, loss = 0.013937033712863922\n",
      "epoch 8, batch 125, loss = 0.06300150603055954\n",
      "epoch 8, batch 126, loss = 0.01600496843457222\n",
      "epoch 8, batch 127, loss = 0.005764912813901901\n",
      "epoch 8, batch 128, loss = 0.004991262219846249\n",
      "epoch 8, batch 129, loss = 0.002211285289376974\n",
      "epoch 8, batch 130, loss = 0.010180097073316574\n",
      "epoch 8, batch 131, loss = 0.006067685317248106\n",
      "epoch 8, batch 132, loss = 0.03932882845401764\n",
      "epoch 8, batch 133, loss = 0.03805242106318474\n",
      "epoch 8, batch 134, loss = 0.0024994141422212124\n",
      "epoch 8, batch 135, loss = 0.007944468408823013\n",
      "epoch 8, batch 136, loss = 0.02295793779194355\n",
      "epoch 8, batch 137, loss = 0.007040790747851133\n",
      "epoch 8, batch 138, loss = 0.009315866976976395\n",
      "epoch 8, batch 139, loss = 0.03580162674188614\n",
      "epoch 8, batch 140, loss = 0.009628456085920334\n",
      "epoch 8, batch 141, loss = 0.008019034750759602\n",
      "epoch 8, batch 142, loss = 0.004941256251186132\n",
      "epoch 8, batch 143, loss = 0.010032253339886665\n",
      "epoch 8, batch 144, loss = 0.0015371250919997692\n",
      "epoch 8, batch 145, loss = 0.031907323747873306\n",
      "epoch 8, batch 146, loss = 0.021492796018719673\n",
      "epoch 8, batch 147, loss = 0.01660914346575737\n",
      "epoch 8, batch 148, loss = 0.010369127616286278\n",
      "epoch 8, batch 149, loss = 0.0213624257594347\n",
      "epoch 8, batch 150, loss = 0.009433174505829811\n",
      "epoch 8, batch 151, loss = 0.05424022302031517\n",
      "epoch 8, batch 152, loss = 0.02215094491839409\n",
      "epoch 8, batch 153, loss = 0.0012600499903783202\n",
      "epoch 8, batch 154, loss = 0.07423578947782516\n",
      "epoch 8, batch 155, loss = 0.005112484097480774\n",
      "epoch 8, batch 156, loss = 0.0038330843672156334\n",
      "epoch 8, batch 157, loss = 0.005456309299916029\n",
      "epoch 8, batch 158, loss = 0.012472710572183132\n",
      "epoch 8, batch 159, loss = 0.0031748125329613686\n",
      "epoch 8, batch 160, loss = 0.037406012415885925\n",
      "epoch 8, batch 161, loss = 0.0027869439218193293\n",
      "epoch 8, batch 162, loss = 0.0031657994259148836\n",
      "epoch 8, batch 163, loss = 0.0017042052932083607\n",
      "epoch 8, batch 164, loss = 0.047940388321876526\n"
     ]
    },
    {
     "name": "stdout",
     "output_type": "stream",
     "text": [
      "epoch 8, batch 165, loss = 0.01542289461940527\n",
      "epoch 8, batch 166, loss = 0.004074546508491039\n",
      "epoch 8, batch 167, loss = 0.014107500202953815\n",
      "epoch 8, batch 168, loss = 0.00880275759845972\n",
      "epoch 8, batch 169, loss = 0.00836636871099472\n",
      "epoch 8, batch 170, loss = 0.031448207795619965\n",
      "epoch 8, batch 171, loss = 0.0031369617208838463\n",
      "epoch 8, batch 172, loss = 0.0017653168179094791\n",
      "epoch 8, batch 173, loss = 0.025235213339328766\n",
      "epoch 8, batch 174, loss = 0.00469308253377676\n",
      "epoch 8, batch 175, loss = 0.016915028914809227\n",
      "epoch 8, batch 176, loss = 0.015501029789447784\n",
      "epoch 8, batch 177, loss = 0.0034339982084929943\n",
      "epoch 8, batch 178, loss = 0.0026272835675626993\n",
      "epoch 8, batch 179, loss = 0.0012284711701795459\n",
      "epoch 8, batch 180, loss = 0.003773720934987068\n",
      "epoch 8, batch 181, loss = 0.0012126616202294827\n",
      "epoch 8, batch 182, loss = 0.014913086779415607\n",
      "epoch 8, batch 183, loss = 0.01408237311989069\n",
      "epoch 8, batch 184, loss = 0.009899918921291828\n",
      "epoch 8, batch 185, loss = 0.01129833236336708\n",
      "epoch 8, batch 186, loss = 0.06928539276123047\n",
      "epoch 8, batch 187, loss = 0.002139841904863715\n",
      "epoch 8, batch 188, loss = 0.009301075711846352\n",
      "epoch 8, batch 189, loss = 0.0012850031489506364\n",
      "epoch 8, batch 190, loss = 0.01105834636837244\n",
      "epoch 8, batch 191, loss = 0.004227328579872847\n",
      "epoch 8, batch 192, loss = 0.024519629776477814\n",
      "epoch 8, batch 193, loss = 0.005632725544273853\n",
      "epoch 8, batch 194, loss = 0.004877160768955946\n",
      "epoch 8, batch 195, loss = 0.006180033553391695\n",
      "epoch 8, batch 196, loss = 0.003362500574439764\n",
      "epoch 8, batch 197, loss = 0.009897042997181416\n",
      "epoch 8, batch 198, loss = 0.0059379399754107\n",
      "epoch 8, batch 199, loss = 0.02052418887615204\n",
      "epoch 9, batch 1, loss = 0.0005784594686701894\n",
      "epoch 9, batch 2, loss = 0.002100752666592598\n",
      "epoch 9, batch 3, loss = 0.0073557705618441105\n",
      "epoch 9, batch 4, loss = 0.016323409974575043\n",
      "epoch 9, batch 5, loss = 0.02600114792585373\n",
      "epoch 9, batch 6, loss = 0.0038811350241303444\n",
      "epoch 9, batch 7, loss = 0.0033326626289635897\n",
      "epoch 9, batch 8, loss = 0.0017805055249482393\n",
      "epoch 9, batch 9, loss = 0.0011137040564790368\n",
      "epoch 9, batch 10, loss = 0.011108324863016605\n",
      "epoch 9, batch 11, loss = 0.002064961241558194\n",
      "epoch 9, batch 12, loss = 0.003253028029575944\n",
      "epoch 9, batch 13, loss = 0.001959143904969096\n",
      "epoch 9, batch 14, loss = 0.005293985828757286\n",
      "epoch 9, batch 15, loss = 0.005176194943487644\n",
      "epoch 9, batch 16, loss = 0.006099258549511433\n",
      "epoch 9, batch 17, loss = 0.008312090300023556\n",
      "epoch 9, batch 18, loss = 0.000593458884395659\n",
      "epoch 9, batch 19, loss = 0.0033636607695370913\n",
      "epoch 9, batch 20, loss = 0.005543647333979607\n",
      "epoch 9, batch 21, loss = 0.005729621276259422\n",
      "epoch 9, batch 22, loss = 0.0009077323484234512\n",
      "epoch 9, batch 23, loss = 0.01325921155512333\n",
      "epoch 9, batch 24, loss = 0.0015358827076852322\n",
      "epoch 9, batch 25, loss = 0.00949777290225029\n",
      "epoch 9, batch 26, loss = 0.003856788855046034\n",
      "epoch 9, batch 27, loss = 0.006601123139262199\n",
      "epoch 9, batch 28, loss = 0.004818500950932503\n",
      "epoch 9, batch 29, loss = 0.0035431520082056522\n",
      "epoch 9, batch 30, loss = 0.00832496676594019\n",
      "epoch 9, batch 31, loss = 0.005804532207548618\n",
      "epoch 9, batch 32, loss = 0.004510119091719389\n",
      "epoch 9, batch 33, loss = 0.0002808714343700558\n",
      "epoch 9, batch 34, loss = 0.0017908589215949178\n",
      "epoch 9, batch 35, loss = 0.0023126788437366486\n",
      "epoch 9, batch 36, loss = 0.002291698707267642\n",
      "epoch 9, batch 37, loss = 0.002613913733512163\n",
      "epoch 9, batch 38, loss = 0.02420957386493683\n",
      "epoch 9, batch 39, loss = 0.0038290051743388176\n",
      "epoch 9, batch 40, loss = 0.0029690098017454147\n",
      "epoch 9, batch 41, loss = 0.0050806086510419846\n",
      "epoch 9, batch 42, loss = 0.004573088139295578\n",
      "epoch 9, batch 43, loss = 0.000482177798403427\n",
      "epoch 9, batch 44, loss = 0.006719483528286219\n",
      "epoch 9, batch 45, loss = 0.025783341377973557\n",
      "epoch 9, batch 46, loss = 0.0007318945717997849\n",
      "epoch 9, batch 47, loss = 0.02321820706129074\n",
      "epoch 9, batch 48, loss = 0.003843184793367982\n",
      "epoch 9, batch 49, loss = 0.012542967684566975\n",
      "epoch 9, batch 50, loss = 0.015923088416457176\n",
      "epoch 9, batch 51, loss = 0.002685596700757742\n",
      "epoch 9, batch 52, loss = 0.0008317199535667896\n",
      "epoch 9, batch 53, loss = 0.013348703272640705\n",
      "epoch 9, batch 54, loss = 0.0011937590315937996\n",
      "epoch 9, batch 55, loss = 0.00026208299095742404\n",
      "epoch 9, batch 56, loss = 0.006144234910607338\n",
      "epoch 9, batch 57, loss = 0.00449443468824029\n",
      "epoch 9, batch 58, loss = 0.00282043544575572\n",
      "epoch 9, batch 59, loss = 0.00296270614489913\n",
      "epoch 9, batch 60, loss = 0.011512283235788345\n",
      "epoch 9, batch 61, loss = 0.007570063695311546\n",
      "epoch 9, batch 62, loss = 0.0023521732073277235\n",
      "epoch 9, batch 63, loss = 0.0034563574008643627\n",
      "epoch 9, batch 64, loss = 0.023036515340209007\n",
      "epoch 9, batch 65, loss = 0.0020547627937048674\n",
      "epoch 9, batch 66, loss = 0.015976926311850548\n",
      "epoch 9, batch 67, loss = 0.004089269321411848\n",
      "epoch 9, batch 68, loss = 0.0023101388942450285\n",
      "epoch 9, batch 69, loss = 0.003616147907450795\n",
      "epoch 9, batch 70, loss = 0.0015453584492206573\n",
      "epoch 9, batch 71, loss = 0.01098846085369587\n",
      "epoch 9, batch 72, loss = 0.0011031756876036525\n",
      "epoch 9, batch 73, loss = 0.016892120242118835\n",
      "epoch 9, batch 74, loss = 0.00035248848143965006\n",
      "epoch 9, batch 75, loss = 0.0009902874007821083\n",
      "epoch 9, batch 76, loss = 0.007663697004318237\n",
      "epoch 9, batch 77, loss = 0.005067659541964531\n",
      "epoch 9, batch 78, loss = 0.0014774900628253818\n",
      "epoch 9, batch 79, loss = 0.0020960518158972263\n",
      "epoch 9, batch 80, loss = 0.004620173014700413\n",
      "epoch 9, batch 81, loss = 0.024752290919423103\n",
      "epoch 9, batch 82, loss = 0.009611135348677635\n",
      "epoch 9, batch 83, loss = 0.012319456785917282\n",
      "epoch 9, batch 84, loss = 0.009100638329982758\n",
      "epoch 9, batch 85, loss = 0.01768336445093155\n",
      "epoch 9, batch 86, loss = 0.006381219252943993\n",
      "epoch 9, batch 87, loss = 0.006665138527750969\n",
      "epoch 9, batch 88, loss = 0.006772887893021107\n",
      "epoch 9, batch 89, loss = 0.0013401658507063985\n",
      "epoch 9, batch 90, loss = 0.004393904935568571\n",
      "epoch 9, batch 91, loss = 0.00234051700681448\n",
      "epoch 9, batch 92, loss = 0.02107349783182144\n",
      "epoch 9, batch 93, loss = 0.0013544471003115177\n",
      "epoch 9, batch 94, loss = 0.04738481342792511\n",
      "epoch 9, batch 95, loss = 0.022970622405409813\n",
      "epoch 9, batch 96, loss = 0.01660912297666073\n",
      "epoch 9, batch 97, loss = 0.0027202977798879147\n",
      "epoch 9, batch 98, loss = 0.04718654975295067\n",
      "epoch 9, batch 99, loss = 0.0063093495555222034\n",
      "epoch 9, batch 100, loss = 0.04998102784156799\n",
      "epoch 9, batch 101, loss = 0.005738610401749611\n",
      "epoch 9, batch 102, loss = 0.011683560907840729\n",
      "epoch 9, batch 103, loss = 0.004926803521811962\n",
      "epoch 9, batch 104, loss = 0.013474148698151112\n",
      "epoch 9, batch 105, loss = 0.004222340881824493\n",
      "epoch 9, batch 106, loss = 0.004170835018157959\n",
      "epoch 9, batch 107, loss = 0.02204097993671894\n",
      "epoch 9, batch 108, loss = 0.0021192855201661587\n",
      "epoch 9, batch 109, loss = 0.00875052809715271\n",
      "epoch 9, batch 110, loss = 0.01322249136865139\n",
      "epoch 9, batch 111, loss = 0.01300803106278181\n",
      "epoch 9, batch 112, loss = 0.005147494841367006\n",
      "epoch 9, batch 113, loss = 0.011713550426065922\n",
      "epoch 9, batch 114, loss = 0.0115513876080513\n",
      "epoch 9, batch 115, loss = 0.0019582307431846857\n",
      "epoch 9, batch 116, loss = 0.004923906642943621\n",
      "epoch 9, batch 117, loss = 0.006258692126721144\n",
      "epoch 9, batch 118, loss = 0.004725588485598564\n",
      "epoch 9, batch 119, loss = 0.021364519372582436\n",
      "epoch 9, batch 120, loss = 0.00584074854850769\n",
      "epoch 9, batch 121, loss = 0.0009414811502210796\n",
      "epoch 9, batch 122, loss = 0.003273538313806057\n",
      "epoch 9, batch 123, loss = 0.014957567676901817\n",
      "epoch 9, batch 124, loss = 0.021069860085844994\n",
      "epoch 9, batch 125, loss = 0.006507007405161858\n",
      "epoch 9, batch 126, loss = 0.0042540221475064754\n",
      "epoch 9, batch 127, loss = 0.0012230472639203072\n",
      "epoch 9, batch 128, loss = 0.007175685837864876\n",
      "epoch 9, batch 129, loss = 0.031772810965776443\n",
      "epoch 9, batch 130, loss = 0.042779263108968735\n",
      "epoch 9, batch 131, loss = 0.04767860099673271\n",
      "epoch 9, batch 132, loss = 0.007433807477355003\n",
      "epoch 9, batch 133, loss = 0.0012224146630614996\n",
      "epoch 9, batch 134, loss = 0.003000490367412567\n",
      "epoch 9, batch 135, loss = 0.010953612625598907\n",
      "epoch 9, batch 136, loss = 0.007366834674030542\n",
      "epoch 9, batch 137, loss = 0.006333594210445881\n",
      "epoch 9, batch 138, loss = 0.0031896959990262985\n"
     ]
    },
    {
     "name": "stdout",
     "output_type": "stream",
     "text": [
      "epoch 9, batch 139, loss = 0.00876080896705389\n",
      "epoch 9, batch 140, loss = 0.03380126133561134\n",
      "epoch 9, batch 141, loss = 0.005965843331068754\n",
      "epoch 9, batch 142, loss = 0.03684099391102791\n",
      "epoch 9, batch 143, loss = 0.00867688748985529\n",
      "epoch 9, batch 144, loss = 0.020176200196146965\n",
      "epoch 9, batch 145, loss = 0.007272625342011452\n",
      "epoch 9, batch 146, loss = 0.021984029561281204\n",
      "epoch 9, batch 147, loss = 0.002843281254172325\n",
      "epoch 9, batch 148, loss = 0.0055556707084178925\n",
      "epoch 9, batch 149, loss = 0.0050965058617293835\n",
      "epoch 9, batch 150, loss = 0.0016503736842423677\n",
      "epoch 9, batch 151, loss = 0.006448377855122089\n",
      "epoch 9, batch 152, loss = 0.0063003432005643845\n",
      "epoch 9, batch 153, loss = 0.011766002513468266\n",
      "epoch 9, batch 154, loss = 0.02219957299530506\n",
      "epoch 9, batch 155, loss = 0.0025639499071985483\n",
      "epoch 9, batch 156, loss = 0.009619399905204773\n",
      "epoch 9, batch 157, loss = 0.007016408257186413\n",
      "epoch 9, batch 158, loss = 0.001873694476671517\n",
      "epoch 9, batch 159, loss = 0.0015640768688172102\n",
      "epoch 9, batch 160, loss = 0.002946163062006235\n",
      "epoch 9, batch 161, loss = 0.010069935582578182\n",
      "epoch 9, batch 162, loss = 0.0115329185500741\n",
      "epoch 9, batch 163, loss = 0.024438561871647835\n",
      "epoch 9, batch 164, loss = 0.007897789590060711\n",
      "epoch 9, batch 165, loss = 0.03998163715004921\n",
      "epoch 9, batch 166, loss = 0.0015091601526364684\n",
      "epoch 9, batch 167, loss = 0.01893078163266182\n",
      "epoch 9, batch 168, loss = 0.01775229722261429\n",
      "epoch 9, batch 169, loss = 0.0020259907469153404\n",
      "epoch 9, batch 170, loss = 0.005754159297794104\n",
      "epoch 9, batch 171, loss = 0.042823582887649536\n",
      "epoch 9, batch 172, loss = 0.0038366697262972593\n",
      "epoch 9, batch 173, loss = 0.005590474233031273\n",
      "epoch 9, batch 174, loss = 0.01830347813665867\n",
      "epoch 9, batch 175, loss = 0.007878548465669155\n",
      "epoch 9, batch 176, loss = 0.024645913392305374\n",
      "epoch 9, batch 177, loss = 0.004735500086098909\n",
      "epoch 9, batch 178, loss = 0.002165040001273155\n",
      "epoch 9, batch 179, loss = 0.018076356500387192\n",
      "epoch 9, batch 180, loss = 0.004272324498742819\n",
      "epoch 9, batch 181, loss = 0.002995668910443783\n",
      "epoch 9, batch 182, loss = 0.001356522087007761\n",
      "epoch 9, batch 183, loss = 0.003266775980591774\n",
      "epoch 9, batch 184, loss = 0.0014505167491734028\n",
      "epoch 9, batch 185, loss = 0.012252523563802242\n",
      "epoch 9, batch 186, loss = 0.01155287865549326\n",
      "epoch 9, batch 187, loss = 0.01546715758740902\n",
      "epoch 9, batch 188, loss = 0.0035835301969200373\n",
      "epoch 9, batch 189, loss = 0.016686270013451576\n",
      "epoch 9, batch 190, loss = 0.0028675857465714216\n",
      "epoch 9, batch 191, loss = 0.0029253046959638596\n",
      "epoch 9, batch 192, loss = 0.010896529071033001\n",
      "epoch 9, batch 193, loss = 0.006479440722614527\n",
      "epoch 9, batch 194, loss = 0.02268499881029129\n",
      "epoch 9, batch 195, loss = 0.0012353453785181046\n",
      "epoch 9, batch 196, loss = 0.0015848043840378523\n",
      "epoch 9, batch 197, loss = 0.008367118425667286\n",
      "epoch 9, batch 198, loss = 0.0024164877831935883\n",
      "epoch 9, batch 199, loss = 0.00325126014649868\n"
     ]
    }
   ],
   "source": [
    "BATCH_SIZE = 200\n",
    "EPOCH      = 10\n",
    "LR         = 0.001\n",
    "\n",
    "model  = MyModel()\n",
    "loader = DataLoader(mnist, batch_size=BATCH_SIZE, shuffle=True)\n",
    "opt    = torch.optim.Adam(model.parameters(), lr=0.001)\n",
    "lossfn = torch.nn.NLLLoss()\n",
    "for i in range(EPOCH):\n",
    "    j = 0\n",
    "    for x, y in loader:\n",
    "        pred = model(x)\n",
    "        loss = lossfn(torch.log(pred), y)\n",
    "        opt.zero_grad()\n",
    "        loss.backward()\n",
    "        opt.step()\n",
    "        j += 1\n",
    "        if (j // BATCH_SIZE) % 10 == 0:\n",
    "            print(f\"epoch {i+1}, batch {j+1}, loss = {loss.item()}\")"
   ]
  },
  {
   "cell_type": "markdown",
   "metadata": {},
   "source": [
    "为了验证模型的效果，我们对前10个观测（即之前生成的 `smallx` 和 `smally`）进行预测。"
   ]
  },
  {
   "cell_type": "code",
   "execution_count": 64,
   "metadata": {},
   "outputs": [
    {
     "name": "stdout",
     "output_type": "stream",
     "text": [
      "[[0.    0.    0.    0.    0.    0.    0.    1.    0.    0.   ]\n",
      " [0.    0.    0.    0.    1.    0.    0.    0.    0.    0.   ]\n",
      " [0.    0.    0.    0.    0.    1.    0.    0.    0.    0.   ]\n",
      " [0.    0.    0.    0.    1.    0.    0.    0.    0.    0.   ]\n",
      " [1.    0.    0.    0.    0.    0.    0.    0.    0.    0.   ]\n",
      " [0.    0.    0.    0.    0.    0.    0.    0.999 0.    0.   ]\n",
      " [0.    1.    0.    0.    0.    0.    0.    0.    0.    0.   ]\n",
      " [1.    0.    0.    0.    0.    0.    0.    0.    0.    0.   ]\n",
      " [0.    0.    0.    0.    0.    0.    0.    1.    0.    0.   ]\n",
      " [0.    0.    0.    0.    1.    0.    0.    0.    0.    0.   ]]\n",
      "tensor([7, 4, 5, 4, 0, 7, 1, 0, 7, 4])\n"
     ]
    }
   ],
   "source": [
    "ypred = model(smallx)\n",
    "print(np.round(ypred.detach().cpu().numpy(), 3))\n",
    "print(smally)"
   ]
  },
  {
   "cell_type": "markdown",
   "metadata": {},
   "source": [
    "如果模型搭建和训练都正常，那么每一行中概率最大的取值所在的位置应该正好对应真实的标签。"
   ]
  },
  {
   "cell_type": "markdown",
   "metadata": {},
   "source": [
    "最后，我们用模型对一些真实的手写数字图片进行预测。请你利用绘图软件（如 Windows 自带的绘图，或 Photoshop 等）准备10张正方形黑色底色的图片，每张用鼠标绘制一个数字（请使用较粗的笔划），从0到9，然后以0.png，1.png等文件名存储下来，放到当前目录一个名为 digits 的文件夹中。以下是几个例子：\n",
    "![](digits/sample0.png) ![](digits/sample5.png) ![](digits/sample8.png)"
   ]
  },
  {
   "cell_type": "markdown",
   "metadata": {},
   "source": [
    "接下来利用 Pillow 软件包读取图片："
   ]
  },
  {
   "cell_type": "code",
   "execution_count": 65,
   "metadata": {
    "scrolled": true
   },
   "outputs": [
    {
     "data": {
      "image/png": "[encoded data removed]",
      "text/plain": [
       "<PIL.PngImagePlugin.PngImageFile image mode=RGB size=261x261 at 0x1F3A1C9C580>"
      ]
     },
     "execution_count": 65,
     "metadata": {},
     "output_type": "execute_result"
    }
   ],
   "source": [
    "from PIL import Image\n",
    "im = Image.open(\"digits/sample0.png\")\n",
    "im"
   ]
  },
  {
   "cell_type": "markdown",
   "metadata": {},
   "source": [
    "此时如果直接将其转为 Numpy 数组会得到三个通道："
   ]
  },
  {
   "cell_type": "code",
   "execution_count": 66,
   "metadata": {},
   "outputs": [
    {
     "name": "stdout",
     "output_type": "stream",
     "text": [
      "(261, 261, 3)\n"
     ]
    }
   ],
   "source": [
    "im_arr = np.array(im)\n",
    "print(im_arr.shape)"
   ]
  },
  {
   "cell_type": "markdown",
   "metadata": {},
   "source": [
    "因此，我们先强制转换为灰度图片（单通道），再缩放至模型的图片大小 28 x 28："
   ]
  },
  {
   "cell_type": "code",
   "execution_count": 67,
   "metadata": {},
   "outputs": [
    {
     "name": "stdout",
     "output_type": "stream",
     "text": [
      "(28, 28)\n"
     ]
    },
    {
     "data": {
      "image/png": "[encoded data removed]",
      "text/plain": [
       "<PIL.Image.Image image mode=L size=28x28 at 0x1F39F5BCC70>"
      ]
     },
     "execution_count": 67,
     "metadata": {},
     "output_type": "execute_result"
    }
   ],
   "source": [
    "im = im.convert(\"L\")\n",
    "im.thumbnail((28, 28))\n",
    "im_arr = np.array(im)\n",
    "print(im_arr.shape)\n",
    "im"
   ]
  },
  {
   "cell_type": "markdown",
   "metadata": {},
   "source": [
    "为了传递给模型对象，还需要先将数值归一化到 [0,1] 区间，转换为 PyTorch 的 Tensor 类型，并增加一个批次和一个通道的维度："
   ]
  },
  {
   "cell_type": "code",
   "execution_count": 68,
   "metadata": {},
   "outputs": [
    {
     "name": "stdout",
     "output_type": "stream",
     "text": [
      "torch.Size([1, 1, 28, 28])\n"
     ]
    }
   ],
   "source": [
    "test0 = torch.tensor(im_arr / 255.0, dtype=torch.float32).view(1, 1, 28, 28)\n",
    "print(test0.shape)"
   ]
  },
  {
   "cell_type": "markdown",
   "metadata": {},
   "source": [
    "最后对图片标签进行预测："
   ]
  },
  {
   "cell_type": "code",
   "execution_count": 69,
   "metadata": {},
   "outputs": [
    {
     "name": "stdout",
     "output_type": "stream",
     "text": [
      "[[0.048 0.    0.    0.    0.    0.    0.    0.    0.006 0.945]]\n"
     ]
    }
   ],
   "source": [
    "pred0 = model(test0)\n",
    "print(np.round(pred0.detach().cpu().numpy(), 3))"
   ]
  },
  {
   "cell_type": "markdown",
   "metadata": {},
   "source": [
    "预测结果是否符合真实情形？请对你自己绘制出的10张图片进行类似的预测操作，并评价其效果。"
   ]
  },
  {
   "cell_type": "code",
   "execution_count": 70,
   "metadata": {},
   "outputs": [
    {
     "name": "stdout",
     "output_type": "stream",
     "text": [
      "[[0. 0. 0. 0. 0. 1. 0. 0. 0. 0.]]\n"
     ]
    }
   ],
   "source": [
    "im = Image.open(\"digits/sample5.png\")\n",
    "im_arr = np.array(im)\n",
    "im = im.convert(\"L\")\n",
    "im.thumbnail((28, 28))\n",
    "im_arr = np.array(im)\n",
    "test5 = torch.tensor(im_arr / 255.0, dtype=torch.float32).view(1, 1, 28, 28)\n",
    "pred5 = model(test5)\n",
    "print(np.round(pred5.detach().cpu().numpy(), 3))"
   ]
  },
  {
   "cell_type": "code",
   "execution_count": 71,
   "metadata": {},
   "outputs": [
    {
     "name": "stdout",
     "output_type": "stream",
     "text": [
      "[[0. 0. 0. 0. 0. 0. 0. 0. 1. 0.]]\n"
     ]
    }
   ],
   "source": [
    "im = Image.open(\"digits/sample8.png\")\n",
    "im_arr = np.array(im)\n",
    "im = im.convert(\"L\")\n",
    "im.thumbnail((28, 28))\n",
    "im_arr = np.array(im)\n",
    "test8 = torch.tensor(im_arr / 255.0, dtype=torch.float32).view(1, 1, 28, 28)\n",
    "pred8 = model(test8)\n",
    "print(np.round(pred8.detach().cpu().numpy(), 3))"
   ]
  },
  {
   "cell_type": "markdown",
   "metadata": {},
   "source": [
    "### 第2题"
   ]
  },
  {
   "cell_type": "markdown",
   "metadata": {},
   "source": [
    "1. 目标：通过对英文名数据进行训练，构建一个 RNN 模型，实现英文名的自动生成。"
   ]
  },
  {
   "cell_type": "markdown",
   "metadata": {},
   "source": [
    "2. 主要步骤：获取和整理数据，对字符串进行 one-hot 编码，创建模型结构，定义损失函数，编写训练循环，最后生成人名字符串。"
   ]
  },
  {
   "cell_type": "markdown",
   "metadata": {},
   "source": [
    "3. 获取和整理数据。数据文件已存为 `data/names.txt`，先将其读取为字符串列表："
   ]
  },
  {
   "cell_type": "code",
   "execution_count": 15,
   "metadata": {},
   "outputs": [
    {
     "name": "stdout",
     "output_type": "stream",
     "text": [
      "3668\n",
      "['Abbas', 'Abbey', 'Abbott', 'Abdi', 'Abel']\n"
     ]
    }
   ],
   "source": [
    "import io\n",
    "lines = io.open(\"data/names.txt\").read().strip().split('\\n')\n",
    "print(len(lines))\n",
    "print(lines[0:5])"
   ]
  },
  {
   "cell_type": "markdown",
   "metadata": {},
   "source": [
    "可以看出，共读取了3668个名字。为了简单起见，我们将所有的大写字母转换为小写。"
   ]
  },
  {
   "cell_type": "code",
   "execution_count": 16,
   "metadata": {},
   "outputs": [
    {
     "name": "stdout",
     "output_type": "stream",
     "text": [
      "['abbas', 'abbey', 'abbott', 'abdi', 'abel']\n"
     ]
    }
   ],
   "source": [
    "names = [s.lower() for s in lines]\n",
    "print(names[0:5])"
   ]
  },
  {
   "cell_type": "markdown",
   "metadata": {},
   "source": [
    "接下来我们需要构建一个字符的字典。对于英文名来说很简单，即26个字母。我们可以通过下面的代码直接得到。"
   ]
  },
  {
   "cell_type": "code",
   "execution_count": 17,
   "metadata": {},
   "outputs": [
    {
     "data": {
      "text/plain": [
       "'abcdefghijklmnopqrstuvwxyz'"
      ]
     },
     "execution_count": 17,
     "metadata": {},
     "output_type": "execute_result"
    }
   ],
   "source": [
    "import string\n",
    "char_dict = string.ascii_lowercase\n",
    "char_dict"
   ]
  },
  {
   "cell_type": "markdown",
   "metadata": {},
   "source": [
    "4. 下面准备好 one-hot 编码所需的函数。编写函数 `char2index(char)`，将一个字母转换为其所在字典的位置。例如 `char2index(\"a\")` 要返回0，`char2index(\"z\")` 要返回25，等等。提示：使用字符串的 `.find()` 函数。"
   ]
  },
  {
   "cell_type": "code",
   "execution_count": 28,
   "metadata": {},
   "outputs": [
    {
     "name": "stdout",
     "output_type": "stream",
     "text": [
      "True\n"
     ]
    }
   ],
   "source": [
    "def char2index(char):\n",
    "    if char in char_dict:\n",
    "        return char_dict.find(char)\n",
    "    else:\n",
    "        return 26\n",
    "\n",
    "print(char2index(\"z\") == 25)"
   ]
  },
  {
   "cell_type": "markdown",
   "metadata": {},
   "source": [
    "编写 `char2tensor(char)` 函数，将一个字母转换为 one-hot 向量，即该向量中第 i 个元素为1，其余为0，其中 i 表示该字母在字典中的位置。\n",
    "\n",
    "**注意，该向量的长度应为27，因为我们要预留终止符，用 `[0.0, 0.0, ..., 1.0]` 表示**。\n",
    "\n",
    "`char2tensor(\"a\")` 应返回 `torch.tensor([1.0, 0.0, ...])`，`char2tensor(\"z\")` 应返回 `torch.tensor([0.0, ..., 1.0, 0.0])`。"
   ]
  },
  {
   "cell_type": "code",
   "execution_count": 19,
   "metadata": {},
   "outputs": [],
   "source": [
    "c = torch.zeros(27)"
   ]
  },
  {
   "cell_type": "code",
   "execution_count": 20,
   "metadata": {},
   "outputs": [
    {
     "data": {
      "text/plain": [
       "tensor(1)"
      ]
     },
     "execution_count": 20,
     "metadata": {},
     "output_type": "execute_result"
    }
   ],
   "source": [
    "torch.tensor(1)"
   ]
  },
  {
   "cell_type": "code",
   "execution_count": 21,
   "metadata": {},
   "outputs": [
    {
     "name": "stdout",
     "output_type": "stream",
     "text": [
      "tensor([1., 0., 0., 0., 0., 0., 0., 0., 0., 0., 0., 0., 0., 0., 0., 0., 0., 0.,\n",
      "        0., 0., 0., 0., 0., 0., 0., 0., 0.])\n",
      "tensor([0., 0., 0., 0., 0., 0., 0., 0., 0., 0., 0., 0., 0., 0., 0., 0., 0., 0.,\n",
      "        0., 0., 0., 0., 0., 0., 0., 1., 0.])\n",
      "True\n"
     ]
    }
   ],
   "source": [
    "def char2tensor(char):\n",
    "    coding = torch.zeros(27)\n",
    "    coding[char2index(char)] = torch.tensor(1.0)\n",
    "    return coding\n",
    "\n",
    "print(char2tensor(\"a\"))\n",
    "print(char2tensor(\"z\"))\n",
    "print(char2tensor(\"z\").shape[0] == 27)"
   ]
  },
  {
   "cell_type": "markdown",
   "metadata": {},
   "source": [
    "5. 构建模型。我们使用最简单的 RNN 结构，即隐藏单元是输入和上一期隐藏单元的线性变换加上 Tanh 激活函数，输出单元是隐藏单元的线性变换加上 Softmax 激活函数。输出的结果代表下一个字符的概率分布。"
   ]
  },
  {
   "cell_type": "code",
   "execution_count": 22,
   "metadata": {},
   "outputs": [],
   "source": [
    "class RNN(torch.nn.Module):\n",
    "    def __init__(self, input_size, hidden_size):\n",
    "        super(RNN, self).__init__()\n",
    "        self.input_size = input_size\n",
    "        self.hidden_size = hidden_size\n",
    "        self.i2h = torch.nn.Linear(input_size+hidden_size, hidden_size)\n",
    "        self.h2o = torch.nn.Linear(hidden_size, 27)\n",
    "\n",
    "    def forward(self, input, hidden):\n",
    "        combined = torch.cat((input, hidden), dim=1)\n",
    "        hidden = torch.tanh(self.i2h(combined))\n",
    "        output = torch.nn.functional.softmax(self.h2o(hidden), dim=1)\n",
    "        return output, hidden\n",
    "\n",
    "    def init_hidden(self):\n",
    "        return torch.zeros(1, self.hidden_size)"
   ]
  },
  {
   "cell_type": "markdown",
   "metadata": {},
   "source": [
    "我们做一个简单的测试。请在下面的代码中加入适当的语句，使得每次运行的结果不变。根据其输出结果，请问当前模型预测字符a的下一个字符是什么？为什么？"
   ]
  },
  {
   "cell_type": "code",
   "execution_count": 23,
   "metadata": {},
   "outputs": [
    {
     "name": "stdout",
     "output_type": "stream",
     "text": [
      "tensor([[0.0304, 0.0364, 0.0491, 0.0442, 0.0371, 0.0395, 0.0339, 0.0299, 0.0321,\n",
      "         0.0324, 0.0487, 0.0523, 0.0299, 0.0342, 0.0407, 0.0314, 0.0277, 0.0337,\n",
      "         0.0446, 0.0299, 0.0310, 0.0293, 0.0383, 0.0450, 0.0426, 0.0398, 0.0361]],\n",
      "       grad_fn=<SoftmaxBackward>)\n"
     ]
    }
   ],
   "source": [
    "rnn = RNN(input_size=27, hidden_size=10)\n",
    "input = char2tensor(\"a\")\n",
    "hidden = rnn.init_hidden()\n",
    "output, hidden = rnn(input.view(1, 27), hidden)\n",
    "print(output)"
   ]
  },
  {
   "cell_type": "markdown",
   "metadata": {},
   "source": [
    "6. 接下来我们定义好损失函数。与第1题中类似，预测值是一个概率分布，而真实的标签是0到26中的一个整数，代表真实的下一个字符在字典中的位置。假设当前处理的名字为\"abel\"，那么字符a的输出结果对应的标签是什么？请完成下面的代码。"
   ]
  },
  {
   "cell_type": "code",
   "execution_count": 33,
   "metadata": {
    "scrolled": true
   },
   "outputs": [
    {
     "name": "stdout",
     "output_type": "stream",
     "text": [
      "tensor(5.9882, grad_fn=<NllLossBackward>)\n"
     ]
    }
   ],
   "source": [
    "target = char2index('b')\n",
    "\n",
    "lossfn = torch.nn.NLLLoss()\n",
    "loss = lossfn(torch.log(output), torch.tensor([target]))\n",
    "print(loss)"
   ]
  },
  {
   "cell_type": "markdown",
   "metadata": {},
   "source": [
    "7. 明确单个字符的损失函数的计算方法后，请在下面计算出\"abel\"这个观测整体的损失函数值。"
   ]
  },
  {
   "cell_type": "code",
   "execution_count": 35,
   "metadata": {},
   "outputs": [
    {
     "name": "stdout",
     "output_type": "stream",
     "text": [
      "tensor(3.3341, grad_fn=<DivBackward0>)\n"
     ]
    }
   ],
   "source": [
    "name = 'abel'\n",
    "rnn = RNN(input_size=27, hidden_size=10)\n",
    "hidden = rnn.init_hidden()\n",
    "lossfn = torch.nn.NLLLoss()\n",
    "loss = 0\n",
    "\n",
    "for i in range(len(name)):\n",
    "    input = char2tensor(name[i])\n",
    "    output, hidden = rnn(input.view(1,27), hidden)\n",
    "\n",
    "    if i == len(name) - 1:\n",
    "        target = 26\n",
    "    else:\n",
    "        target = char2index(name[i + 1])\n",
    "\n",
    "    loss = loss + lossfn(torch.log(output), torch.tensor([target]))\n",
    "\n",
    "loss = loss / len(name)\n",
    "print(loss)"
   ]
  },
  {
   "cell_type": "markdown",
   "metadata": {},
   "source": [
    "8. 将上述过程在数据上进行反复迭代，训练模型。"
   ]
  },
  {
   "cell_type": "code",
   "execution_count": 31,
   "metadata": {
    "scrolled": true
   },
   "outputs": [
    {
     "name": "stdout",
     "output_type": "stream",
     "text": [
      "epoch 0, obs 0, loss = 3.3991856575012207\n",
      "epoch 0, obs 1000, loss = 2.918344020843506\n",
      "epoch 0, obs 2000, loss = 2.6398532390594482\n",
      "epoch 0, obs 3000, loss = 3.1096529960632324\n",
      "epoch 1, obs 0, loss = 2.776276111602783\n",
      "epoch 1, obs 1000, loss = 2.5617995262145996\n",
      "epoch 1, obs 2000, loss = 2.415987014770508\n",
      "epoch 1, obs 3000, loss = 2.4527029991149902\n",
      "epoch 2, obs 0, loss = 2.5975751876831055\n",
      "epoch 2, obs 1000, loss = 2.585355520248413\n",
      "epoch 2, obs 2000, loss = 2.5821340084075928\n",
      "epoch 2, obs 3000, loss = 2.7673685550689697\n",
      "epoch 3, obs 0, loss = 2.584155559539795\n",
      "epoch 3, obs 1000, loss = 2.1915831565856934\n",
      "epoch 3, obs 2000, loss = 2.4389891624450684\n",
      "epoch 3, obs 3000, loss = 2.0150928497314453\n",
      "epoch 4, obs 0, loss = 2.4576306343078613\n",
      "epoch 4, obs 1000, loss = 2.9122250080108643\n",
      "epoch 4, obs 2000, loss = 2.5470449924468994\n",
      "epoch 4, obs 3000, loss = 2.1251466274261475\n",
      "epoch 5, obs 0, loss = 2.283302068710327\n",
      "epoch 5, obs 1000, loss = 2.564319133758545\n",
      "epoch 5, obs 2000, loss = 2.1136810779571533\n",
      "epoch 5, obs 3000, loss = 2.19895601272583\n",
      "epoch 6, obs 0, loss = 2.385223388671875\n",
      "epoch 6, obs 1000, loss = 2.7023868560791016\n",
      "epoch 6, obs 2000, loss = 2.240619659423828\n",
      "epoch 6, obs 3000, loss = 2.557904005050659\n",
      "epoch 7, obs 0, loss = 1.9776948690414429\n",
      "epoch 7, obs 1000, loss = 1.7167218923568726\n",
      "epoch 7, obs 2000, loss = 1.6471465826034546\n",
      "epoch 7, obs 3000, loss = 1.972745418548584\n",
      "epoch 8, obs 0, loss = 2.3119893074035645\n",
      "epoch 8, obs 1000, loss = 2.0465922355651855\n",
      "epoch 8, obs 2000, loss = 2.7650790214538574\n",
      "epoch 8, obs 3000, loss = 1.8902024030685425\n",
      "epoch 9, obs 0, loss = 2.1596932411193848\n",
      "epoch 9, obs 1000, loss = 2.3838236331939697\n",
      "epoch 9, obs 2000, loss = 2.1008870601654053\n",
      "epoch 9, obs 3000, loss = 3.150839328765869\n"
     ]
    }
   ],
   "source": [
    "np.random.seed(123)\n",
    "torch.random.manual_seed(123)\n",
    "\n",
    "n = len(names)\n",
    "n_hidden = 16\n",
    "n_input = 27\n",
    "nepoch = 10\n",
    "\n",
    "rnn = RNN(n_input, n_hidden)\n",
    "opt = torch.optim.Adam(rnn.parameters(), lr=0.0001)\n",
    "train_ind = np.arange(n)\n",
    "losses = []\n",
    "\n",
    "lossfn = torch.nn.NLLLoss()\n",
    "\n",
    "# Loop over epochs\n",
    "for k in range(nepoch):\n",
    "    # Shuffle the data\n",
    "    np.random.shuffle(train_ind)\n",
    "    # Loop over observations. Each observation is a name\n",
    "    for i in range(n):\n",
    "        name = names[train_ind[i]]\n",
    "        nchar = len(name)\n",
    "        # Loop over the characters in the name\n",
    "        # Each input character has a target, which is the index of the next character in the dictionary\n",
    "        # For the last character in the name, the target is the end-of-sequence symbol, which has index 26\n",
    "        loss = 0.0\n",
    "        hidden = rnn.init_hidden()\n",
    "        for j in range(nchar):\n",
    "            input = char2tensor(name[j])\n",
    "            output, hidden = rnn(input.view(1, n_input), hidden)\n",
    "\n",
    "            if j == nchar - 1:\n",
    "                target = 26\n",
    "            else:\n",
    "                target = char2index(name[j + 1])\n",
    "\n",
    "            loss = loss + lossfn(torch.log(output), torch.tensor([target]))\n",
    "    \n",
    "        loss = loss / nchar\n",
    "\n",
    "        opt.zero_grad()\n",
    "        loss.backward()\n",
    "        opt.step()\n",
    "\n",
    "        losses.append(loss.item())\n",
    "        if i % 1000 == 0:\n",
    "            print(f\"epoch {k}, obs {i}, loss = {loss.item()}\")"
   ]
  },
  {
   "cell_type": "code",
   "execution_count": 32,
   "metadata": {},
   "outputs": [
    {
     "data": {
      "text/plain": [
       "[<matplotlib.lines.Line2D at 0x1ee540edb80>]"
      ]
     },
     "execution_count": 32,
     "metadata": {},
     "output_type": "execute_result"
    },
    {
     "data": {
      "image/png": "[encoded data removed]",
      "text/plain": [
       "<Figure size 432x288 with 1 Axes>"
      ]
     },
     "metadata": {
      "needs_background": "light"
     },
     "output_type": "display_data"
    }
   ],
   "source": [
    "import matplotlib.pyplot as plt\n",
    "plt.plot(losses)"
   ]
  },
  {
   "cell_type": "markdown",
   "metadata": {},
   "source": [
    "9. 编写一个函数 `random_first_letter()`，它随机返回字典中的一个字符，我们将利用它来随机生成第一个字符。"
   ]
  },
  {
   "cell_type": "code",
   "execution_count": 38,
   "metadata": {},
   "outputs": [
    {
     "name": "stdout",
     "output_type": "stream",
     "text": [
      "v\n",
      "c\n",
      "a\n"
     ]
    }
   ],
   "source": [
    "def random_first_letter():\n",
    "    idx = np.random.randint(0, 25)\n",
    "    return char_dict[idx]\n",
    "\n",
    "print(random_first_letter())\n",
    "print(random_first_letter())\n",
    "print(random_first_letter())"
   ]
  },
  {
   "cell_type": "markdown",
   "metadata": {},
   "source": [
    "请简要说明如下的代码的含义（可以在代码中加入注释），然后利用它随机生成10个名字。评价生成的结果，并简要说明可以如何改进模型的效果？"
   ]
  },
  {
   "cell_type": "code",
   "execution_count": 42,
   "metadata": {},
   "outputs": [],
   "source": [
    "def random_name(max_len=20):\n",
    "    rnn.eval()\n",
    "    first_letter = random_first_letter()\n",
    "    char_ind = [char2index(first_letter)]\n",
    "    input = char2tensor(first_letter)\n",
    "    hidden = rnn.init_hidden()\n",
    "    for i in range(max_len - 1):\n",
    "        output, hidden = rnn(input.view(1, n_input), hidden)\n",
    "        ind = torch.argmax(output).item()\n",
    "        if ind == 26:\n",
    "            break\n",
    "        char_ind.append(ind)\n",
    "        input.zero_()\n",
    "        input[ind] = 1.0\n",
    "    return \"\".join([char_dict[i] for i in char_ind])"
   ]
  },
  {
   "cell_type": "code",
   "execution_count": 47,
   "metadata": {},
   "outputs": [
    {
     "name": "stdout",
     "output_type": "stream",
     "text": [
      "hololololo\n",
      "alolololol\n",
      "sololololo\n",
      "rololololo\n",
      "idpppppppp\n",
      "bdolololol\n",
      "mololololo\n",
      "tdpppppppp\n",
      "jlolololol\n",
      "hololololo\n"
     ]
    }
   ],
   "source": [
    "for _ in range(10):\n",
    "    print(random_name(max_len=10))"
   ]
  },
  {
   "cell_type": "markdown",
   "metadata": {},
   "source": [
    "### 第3题"
   ]
  },
  {
   "cell_type": "markdown",
   "metadata": {},
   "source": [
    "利用卷积函数实现任意大整数的乘法。给定两个整数，如 183612 和 23333，用两个列表表达它们的序列："
   ]
  },
  {
   "cell_type": "code",
   "execution_count": 49,
   "metadata": {},
   "outputs": [],
   "source": [
    "n1 = [1, 8, 3, 6, 1, 2]\n",
    "n2 = [2, 3, 3, 3, 3]"
   ]
  },
  {
   "cell_type": "markdown",
   "metadata": {},
   "source": [
    "请编写一个函数 `integer_mult(n1, n2)`，返回 `n1 * n2` 对应的整数序列。注意不要直接调用乘法表达式（设想有两个非常大的整数，直接相乘可能会导致数值溢出）。"
   ]
  },
  {
   "cell_type": "code",
   "execution_count": 65,
   "metadata": {},
   "outputs": [
    {
     "name": "stdout",
     "output_type": "stream",
     "text": [
      "[4, 2, 8, 4, 2, 1, 8, 7, 9, 6]\n",
      "True\n"
     ]
    }
   ],
   "source": [
    "def integer_mult(n1, n2):\n",
    "    poly_multi_result = np.convolve(n1, n2)\n",
    "    to_next = 0\n",
    "    params = []\n",
    "    for j in poly_multi_result[::-1]:\n",
    "        params.append((j + to_next) % 10)\n",
    "        to_next = (j + to_next) // 10\n",
    "    while to_next:\n",
    "        params.append(to_next % 10)\n",
    "        to_next = to_next // 10  \n",
    "    return params[::-1]\n",
    "\n",
    "res = integer_mult(n1, n2)\n",
    "print(res)\n",
    "print(res == [4, 2, 8, 4, 2, 1, 8, 7, 9, 6])"
   ]
  },
  {
   "cell_type": "markdown",
   "metadata": {},
   "source": [
    "思路："
   ]
  },
  {
   "cell_type": "markdown",
   "metadata": {},
   "source": [
    "1. 先实现多项式的乘法。例如，给定 $p(x)=1+2x+x^4$ 和 $q(x)=x+3x^2+5x^3$，计算 $r(x)=p(x)q(x)$。我们将 $p(x)$ 编码为 `p = [1, 2, 0, 0, 1]`，$q(x)$ 编码为 `q = [0, 1, 3, 5]`，请编写函数 `poly_mult(p, q)`，使得 `poly_mult(p, q) == [0, 1, 5, 11, 10, 1, 3, 5]`。"
   ]
  },
  {
   "cell_type": "code",
   "execution_count": 52,
   "metadata": {},
   "outputs": [
    {
     "name": "stdout",
     "output_type": "stream",
     "text": [
      "[ True  True  True  True  True  True  True  True]\n"
     ]
    }
   ],
   "source": [
    "p = [1, 2, 0, 0, 1]\n",
    "q = [0, 1, 3, 5]\n",
    "\n",
    "def poly_mult(p, q):\n",
    "    return np.convolve(p, q)\n",
    "\n",
    "print(poly_mult(p, q) == [0, 1, 5, 11, 10,  1, 3, 5])"
   ]
  },
  {
   "cell_type": "markdown",
   "metadata": {},
   "source": [
    "2. 对于任意的一个整数，将其看成是某个多项式在 $x=10$ 处的取值，如 $123 = p_1(10)$，$p_1(x)=3+2x+x^2$，$5310 = p_2(10)$，$p_2(x)=x+3x^2+5x^3$，注意需要适当将序列反序。因此，要计算 $123\\times 5310$，相当于计算 $r(10)$ 的值，但为了避免直接进行乘法运算（防止溢出），可以先计算 $r(x)$ 的表达式（等价于其系数向量），然后建立起 $r(x)$ 的系数与 $r(10)$ 之间的联系（见如下第3点）。"
   ]
  },
  {
   "cell_type": "markdown",
   "metadata": {},
   "source": [
    "3. 如果一个多项式 $r(x)$ 所有的系数都是0到9之间的整数，那么 $r(x)$ 和 $r(10)$ 的关系非常直接，比如若 $r(x)=1+2x+5x^2+3x^3$，则 $r(10)=3521$。但如果有系数超过10，就需要考虑进位的影响，比如 $r(x)=1+11x+2x^2$，$r(10)=311$。此时可以从 $r(x)$ 的第一项开始逐项进位，构造一个新的多项式 $r'(x)=1+x+3x^2$，满足 $r'(10)=r(10)$，且 $r'(x)$ 所有的系数都不超过10。 "
   ]
  },
  {
   "cell_type": "markdown",
   "metadata": {},
   "source": [
    "4. 综合利用以上信息，完成本题的算法编写。并测试 23742389754298365 * 809723950 的结果。"
   ]
  },
  {
   "cell_type": "code",
   "execution_count": 91,
   "metadata": {},
   "outputs": [],
   "source": [
    "def integer_mult(n1, n2):\n",
    "    poly_multi_result = np.convolve(n1, n2)\n",
    "    to_next = 0\n",
    "    params = []\n",
    "    for j in poly_multi_result[::-1]:\n",
    "        params.append((j + to_next) % 10)\n",
    "        to_next = (j + to_next) // 10\n",
    "    while to_next:\n",
    "        params.append(to_next % 10)\n",
    "        to_next = to_next // 10  \n",
    "    return params[::-1]\n",
    "\n",
    "def big_number_multi(params):\n",
    "    result = 0\n",
    "    for i, j in enumerate(params[::-1]):\n",
    "        result = result + (10**i)*j\n",
    "    return result"
   ]
  },
  {
   "cell_type": "markdown",
   "metadata": {},
   "source": [
    "将两个数字表示成列表表达形式"
   ]
  },
  {
   "cell_type": "code",
   "execution_count": 85,
   "metadata": {},
   "outputs": [],
   "source": [
    "n1 = [2,3,7,4,2,3,8,9,7,5,4,2,9,8,3,6,5]\n",
    "n2 = [8,0,9,7,2,3,9,5,0]"
   ]
  },
  {
   "cell_type": "markdown",
   "metadata": {},
   "source": [
    "计算乘积多项式系数"
   ]
  },
  {
   "cell_type": "code",
   "execution_count": 87,
   "metadata": {},
   "outputs": [
    {
     "name": "stdout",
     "output_type": "stream",
     "text": [
      "[1, 9, 2, 2, 4, 7, 8, 1, 6, 1, 4, 2, 9, 0, 0, 0, 1, 5, 8, 6, 3, 4, 1, 7, 5, 0]\n"
     ]
    }
   ],
   "source": [
    "poly_params = integer_mult(n1, n2)\n",
    "print(poly_params)"
   ]
  },
  {
   "cell_type": "markdown",
   "metadata": {},
   "source": [
    "将$x=10$带入多项式中进行计算，得到乘积"
   ]
  },
  {
   "cell_type": "code",
   "execution_count": 92,
   "metadata": {},
   "outputs": [
    {
     "data": {
      "text/plain": [
       "1.9224781614290002e+25"
      ]
     },
     "execution_count": 92,
     "metadata": {},
     "output_type": "execute_result"
    }
   ],
   "source": [
    "big_number_multi(poly_params)"
   ]
  }
 ],
 "metadata": {
  "kernelspec": {
   "display_name": "Python 3",
   "language": "python",
   "name": "python3"
  },
  "language_info": {
   "codemirror_mode": {
    "name": "ipython",
    "version": 3
   },
   "file_extension": ".py",
   "mimetype": "text/x-python",
   "name": "python",
   "nbconvert_exporter": "python",
   "pygments_lexer": "ipython3",
   "version": "3.8.5"
  }
 },
 "nbformat": 4,
 "nbformat_minor": 5
}
