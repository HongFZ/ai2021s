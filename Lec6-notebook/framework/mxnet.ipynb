{
 "cells": [
  {
   "cell_type": "code",
   "execution_count": null,
   "id": "63b65949",
   "metadata": {},
   "outputs": [],
   "source": [
    "import numpy as np\n",
    "import mxnet as mx\n",
    "from mxnet import nd\n",
    "from mxnet import gluon\n",
    "from mxnet import autograd\n",
    "from mxnet.gluon import nn"
   ]
  },
  {
   "cell_type": "code",
   "execution_count": null,
   "id": "2b269485",
   "metadata": {},
   "outputs": [],
   "source": [
    "# Basic use of Blocks\n",
    "# 1. Define a class that encapsulates the parameters and the forward pass\n",
    "# 2. Define an optimizer\n",
    "# 3. Compute the loss function value\n",
    "# 4. Use auto differentiation to compute gradients\n",
    "# 5. Update parameters\n",
    "x = nd.array([[0.0, 0.0],\n",
    "              [0.0, 1.0],\n",
    "              [1.0, 0.0],\n",
    "              [1.0, 1.0]])\n",
    "y = nd.array([[0.0],\n",
    "              [1.0],\n",
    "              [1.0],\n",
    "              [0.0]])\n",
    "\n",
    "n = x.shape[0]\n",
    "p = x.shape[1]\n",
    "d = y.shape[1]\n",
    "r = 10\n",
    "\n",
    "class MyModel(nn.Block):\n",
    "    def __init__(self, in_dim, out_dim, hidden_dim):\n",
    "        super(MyModel, self).__init__()\n",
    "        self.fc1 = nn.Dense(hidden_dim, in_units=in_dim)\n",
    "        self.fc2 = nn.Dense(out_dim, in_units=hidden_dim)\n",
    "\n",
    "    def forward(self, x):\n",
    "        z1 = self.fc1(x)\n",
    "        a1 = nd.Activation(z1, \"softrelu\")\n",
    "        z2 = self.fc2(a1)\n",
    "        phat = nd.sigmoid(z2)\n",
    "        return phat\n",
    "\n",
    "np.random.seed(123)\n",
    "mx.random.seed(123)\n",
    "\n",
    "model = MyModel(in_dim=p, out_dim=d, hidden_dim=r)\n",
    "model.initialize(mx.init.Normal(sigma=0.1))\n",
    "print(model, \"\\n\")\n",
    "print(model.collect_params())"
   ]
  },
  {
   "cell_type": "code",
   "execution_count": null,
   "id": "545bbade",
   "metadata": {},
   "outputs": [],
   "source": [
    "nepoch = 3000\n",
    "learning_rate = 0.2\n",
    "opt = gluon.Trainer(model.collect_params(), \"sgd\", {\"learning_rate\": learning_rate})\n",
    "\n",
    "for i in range(nepoch):\n",
    "    with autograd.record():\n",
    "        phat = model(x)\n",
    "        loss = nd.mean(-y * nd.log(phat) - (1.0 - y) * nd.log(1.0 - phat))\n",
    "\n",
    "    loss.backward()\n",
    "    opt.step(1)\n",
    "    \n",
    "    if i % 100 == 0:\n",
    "        print(f\"iteration {i}, loss = {loss.asscalar()}, prediction = {phat.asnumpy().squeeze()}\")"
   ]
  }
 ],
 "metadata": {
  "kernelspec": {
   "display_name": "Python 3",
   "language": "python",
   "name": "python3"
  },
  "language_info": {
   "codemirror_mode": {
    "name": "ipython",
    "version": 3
   },
   "file_extension": ".py",
   "mimetype": "text/x-python",
   "name": "python",
   "nbconvert_exporter": "python",
   "pygments_lexer": "ipython3",
   "version": "3.8.8"
  }
 },
 "nbformat": 4,
 "nbformat_minor": 5
}
