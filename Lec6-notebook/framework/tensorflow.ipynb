{
 "cells": [
  {
   "cell_type": "code",
   "execution_count": null,
   "metadata": {},
   "outputs": [],
   "source": [
    "import numpy as np\n",
    "import tensorflow as tf"
   ]
  },
  {
   "cell_type": "code",
   "execution_count": null,
   "metadata": {},
   "outputs": [],
   "source": [
    "# Basic use of Models\n",
    "# 1. Define a class that encapsulates the parameters and the forward pass\n",
    "# 2. Define an optimizer\n",
    "# 3. Compute the loss function value\n",
    "# 4. Use auto differentiation to compute gradients\n",
    "# 5. Update parameters\n",
    "x = tf.constant([[0.0, 0.0],\n",
    "                 [0.0, 1.0],\n",
    "                 [1.0, 0.0],\n",
    "                 [1.0, 1.0]])\n",
    "y = tf.constant([[0.0],\n",
    "                 [1.0],\n",
    "                 [1.0],\n",
    "                 [0.0]])\n",
    "\n",
    "n = x.shape[0]\n",
    "p = x.shape[1]\n",
    "d = y.shape[1]\n",
    "r = 10\n",
    "\n",
    "class MyModel(tf.keras.Model):\n",
    "    def __init__(self, in_dim, out_dim, hidden_dim):\n",
    "        super(MyModel, self).__init__()\n",
    "        self.fc1 = tf.keras.layers.Dense(hidden_dim)\n",
    "        self.fc2 = tf.keras.layers.Dense(out_dim)\n",
    "\n",
    "    def call(self, x):\n",
    "        z1 = self.fc1(x)\n",
    "        a1 = tf.math.softplus(z1)\n",
    "        z2 = self.fc2(a1)\n",
    "        phat = tf.math.sigmoid(z2)\n",
    "        return phat\n",
    "\n",
    "np.random.seed(123)\n",
    "tf.random.set_seed(123)\n",
    "\n",
    "model = MyModel(in_dim=p, out_dim=d, hidden_dim=r)\n",
    "\n",
    "nepoch = 2000\n",
    "learning_rate = 0.1\n",
    "\n",
    "opt = tf.keras.optimizers.SGD(learning_rate=learning_rate)\n",
    "\n",
    "for i in range(nepoch):\n",
    "    with tf.GradientTape() as tape:\n",
    "        phat = model(x)\n",
    "        loss = tf.reduce_mean(-y * tf.math.log(phat) - (1.0 - y) * tf.math.log(1.0 - phat))\n",
    "\n",
    "    if i % 100 == 0:\n",
    "        print(f\"iteration {i}, loss = {loss.numpy()}, prediction = {phat.numpy().squeeze()}\")\n",
    "\n",
    "    grad = tape.gradient(loss, model.trainable_variables)\n",
    "    opt.apply_gradients(zip(grad, model.trainable_variables))"
   ]
  }
 ],
 "metadata": {
  "kernelspec": {
   "display_name": "Python 3",
   "language": "python",
   "name": "python3"
  },
  "language_info": {
   "codemirror_mode": {
    "name": "ipython",
    "version": 3
   },
   "file_extension": ".py",
   "mimetype": "text/x-python",
   "name": "python",
   "nbconvert_exporter": "python",
   "pygments_lexer": "ipython3",
   "version": "3.8.5"
  }
 },
 "nbformat": 4,
 "nbformat_minor": 5
}
