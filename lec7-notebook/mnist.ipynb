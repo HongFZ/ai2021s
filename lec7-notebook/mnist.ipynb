{
 "cells": [
  {
   "cell_type": "code",
   "execution_count": null,
   "metadata": {
    "id": "XMMLU0DHZJPM"
   },
   "outputs": [],
   "source": [
    "!nvidia-smi"
   ]
  },
  {
   "cell_type": "code",
   "execution_count": null,
   "metadata": {
    "colab": {
     "base_uri": "https://localhost:8080/"
    },
    "id": "WaJ2Ggx6fwts",
    "outputId": "cf893946-115e-4cf2-9e19-36b663e490dd"
   },
   "outputs": [],
   "source": [
    "import math\n",
    "import time\n",
    "import numpy as np\n",
    "import torch\n",
    "import torch.nn as nn\n",
    "import torch.nn.functional as F\n",
    "\n",
    "from torchvision import datasets\n",
    "from torchvision.utils import make_grid\n",
    "from torchvision.transforms import ToTensor\n",
    "from torch.utils.data import DataLoader\n",
    "\n",
    "import matplotlib.pyplot as plt\n",
    "\n",
    "\n",
    "cuda = torch.device(\"cuda\")\n",
    "cpu = torch.device(\"cpu\")\n",
    "device = cuda if torch.cuda.is_available() else cpu\n",
    "print(device)"
   ]
  },
  {
   "cell_type": "code",
   "execution_count": null,
   "metadata": {
    "colab": {
     "base_uri": "https://localhost:8080/",
     "height": 1000
    },
    "id": "FoEm68XegvIY",
    "outputId": "07659d72-8e11-48fd-fd58-e14f715a7bfc"
   },
   "outputs": [],
   "source": [
    "np.random.seed(123)\n",
    "torch.manual_seed(123)\n",
    "\n",
    "mnist = datasets.MNIST(\n",
    "    root=\"data\",\n",
    "    train=True,\n",
    "    download=True,\n",
    "    transform=ToTensor()\n",
    ")\n",
    "loader = DataLoader(mnist, batch_size=20000, shuffle=True)\n",
    "\n",
    "x, y = next(iter(loader))\n",
    "x = x.to(device=device)\n",
    "y = y.to(device=device)\n",
    "\n",
    "print(x.size())\n",
    "img = x[0].squeeze().cpu().numpy()\n",
    "img\n",
    "plt.imshow(img, cmap=\"gray\")\n",
    "plt.show()\n",
    "\n",
    "img = x[99].squeeze().cpu().numpy()\n",
    "img\n",
    "plt.imshow(img, cmap=\"gray\")\n",
    "plt.show()\n",
    "\n",
    "img = x[999].squeeze().cpu().numpy()\n",
    "img\n",
    "plt.imshow(img, cmap=\"gray\")\n",
    "plt.show()\n",
    "\n",
    "img = x[9999].squeeze().cpu().numpy()\n",
    "img\n",
    "plt.imshow(img, cmap=\"gray\")\n",
    "plt.show()"
   ]
  },
  {
   "cell_type": "code",
   "execution_count": null,
   "metadata": {
    "colab": {
     "base_uri": "https://localhost:8080/"
    },
    "id": "roALY-RrTjyw",
    "outputId": "2a233fe5-f9f1-44f5-e289-943e11ec3f3a"
   },
   "outputs": [],
   "source": [
    "x[0:5].shape"
   ]
  },
  {
   "cell_type": "code",
   "execution_count": null,
   "metadata": {
    "id": "-2M1JZ1AhDEI"
   },
   "outputs": [],
   "source": [
    "class MNISTModel(nn.Module):\n",
    "    def __init__(self):\n",
    "        super().__init__()\n",
    "        self.conv1 = nn.Conv2d(in_channels=1, out_channels=16, kernel_size=5)\n",
    "        self.conv2 = nn.Conv2d(in_channels=16, out_channels=16, kernel_size=5)\n",
    "        self.fc1 = nn.Linear(in_features=256, out_features=512)\n",
    "        self.fc2 = nn.Linear(in_features=512, out_features=10)\n",
    "\n",
    "    def forward(self, x):\n",
    "        x = x.view(-1, 1, 28, 28)\n",
    "        x = F.relu(self.conv1(x))            # 16 x 24 x 24\n",
    "        x = F.max_pool2d(x, kernel_size=2)   # 16 x 12 x 12\n",
    "        x = F.relu(self.conv2(x))            # 16 x 8 x 8\n",
    "        x = F.max_pool2d(x, kernel_size=2)   # 16 x 4 x 4\n",
    "        x = x.view(-1, 256)\n",
    "        x = F.relu(self.fc1(x))\n",
    "        x = self.fc2(x)\n",
    "        return x"
   ]
  },
  {
   "cell_type": "code",
   "execution_count": null,
   "metadata": {
    "colab": {
     "base_uri": "https://localhost:8080/"
    },
    "id": "gFBI80Qzj7Xw",
    "outputId": "cf3aa3fb-ed74-43a3-e067-f557d6dab684"
   },
   "outputs": [],
   "source": [
    "np.random.seed(123)\n",
    "torch.manual_seed(123)\n",
    "model = MNISTModel()\n",
    "model = model.to(device=device)\n",
    "print(model)"
   ]
  },
  {
   "cell_type": "code",
   "execution_count": null,
   "metadata": {
    "colab": {
     "base_uri": "https://localhost:8080/"
    },
    "id": "TmDtVnJalrSu",
    "outputId": "3f191967-8d1f-4219-b8e9-9ac2afb03235"
   },
   "outputs": [],
   "source": [
    "nepoch = 10\n",
    "batch_size = 256\n",
    "\n",
    "opt = torch.optim.Adam(model.parameters(), lr=0.001)\n",
    "\n",
    "n = x.shape[0]\n",
    "obs_id = np.arange(n)  # [0, 1, ..., n-1]\n",
    "# Run the whole data set `nepoch` times\n",
    "for i in range(nepoch):\n",
    "    # Shuffle observation IDs\n",
    "    np.random.shuffle(obs_id)\n",
    "\n",
    "    # Update on mini-batches\n",
    "    for j in range(0, n, batch_size):\n",
    "        # Create mini-batch\n",
    "        x_mini_batch = x[obs_id[j:(j + batch_size)]]\n",
    "        y_mini_batch = y[obs_id[j:(j + batch_size)]]\n",
    "        # Compute loss\n",
    "        pred = model(x_mini_batch)\n",
    "        lossfn = nn.CrossEntropyLoss()\n",
    "        loss = lossfn(pred, y_mini_batch)\n",
    "        # Compute gradient and update parameters\n",
    "        opt.zero_grad()\n",
    "        loss.backward()\n",
    "        opt.step()\n",
    "\n",
    "        if (j // batch_size) % 10 == 0:\n",
    "            print(f\"epoch {i}, batch {j // batch_size}, loss = {loss.item()}\")"
   ]
  },
  {
   "cell_type": "code",
   "execution_count": null,
   "metadata": {
    "colab": {
     "base_uri": "https://localhost:8080/"
    },
    "id": "GwtZNpxJnL0j",
    "outputId": "523e3f4d-8d09-4be3-c4f0-7502b8af16cf"
   },
   "outputs": [],
   "source": [
    "pred = F.softmax(model(x[0].view(-1, 1, 28, 28)))\n",
    "print(np.round(pred.detach().cpu().numpy(), 3))\n",
    "\n",
    "pred = F.softmax(model(x[99].view(-1, 1, 28, 28)))\n",
    "print(np.round(pred.detach().cpu().numpy(), 3))\n",
    "\n",
    "pred = F.softmax(model(x[999].view(-1, 1, 28, 28)))\n",
    "print(np.round(pred.detach().cpu().numpy(), 3))\n",
    "\n",
    "pred = F.softmax(model(x[9999].view(-1, 1, 28, 28)))\n",
    "print(np.round(pred.detach().cpu().numpy(), 3))"
   ]
  }
 ],
 "metadata": {
  "colab": {
   "collapsed_sections": [],
   "name": "mnist.ipynb",
   "provenance": []
  },
  "kernelspec": {
   "display_name": "Python 3",
   "language": "python",
   "name": "python3"
  },
  "language_info": {
   "codemirror_mode": {
    "name": "ipython",
    "version": 3
   },
   "file_extension": ".py",
   "mimetype": "text/x-python",
   "name": "python",
   "nbconvert_exporter": "python",
   "pygments_lexer": "ipython3",
   "version": "3.8.5"
  }
 },
 "nbformat": 4,
 "nbformat_minor": 1
}
