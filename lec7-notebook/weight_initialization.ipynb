{
 "cells": [
  {
   "cell_type": "code",
   "execution_count": 1,
   "id": "f4afcb96",
   "metadata": {},
   "outputs": [
    {
     "data": {
      "text/plain": [
       "<torch._C.Generator at 0x2632f20e1b0>"
      ]
     },
     "execution_count": 1,
     "metadata": {},
     "output_type": "execute_result"
    }
   ],
   "source": [
    "import math\n",
    "import numpy as np\n",
    "import torch\n",
    "import torch.nn as nn\n",
    "import matplotlib.pyplot as plt\n",
    "\n",
    "np.random.seed(123)\n",
    "torch.random.manual_seed(123)"
   ]
  },
  {
   "cell_type": "code",
   "execution_count": 2,
   "id": "1e5cd319",
   "metadata": {},
   "outputs": [
    {
     "name": "stdout",
     "output_type": "stream",
     "text": [
      "[Linear(in_features=1000, out_features=1000, bias=False), Linear(in_features=1000, out_features=1000, bias=False), Linear(in_features=1000, out_features=1000, bias=False), Linear(in_features=1000, out_features=1000, bias=False), Linear(in_features=1000, out_features=1000, bias=False)]\n"
     ]
    }
   ],
   "source": [
    "n = 10\n",
    "p = 1000\n",
    "x = torch.randn(n, p)\n",
    "fcs = [nn.Linear(p, p, bias=False) for i in range(5)]\n",
    "print(fcs)"
   ]
  },
  {
   "cell_type": "markdown",
   "id": "d1c0b14e",
   "metadata": {},
   "source": [
    "# Constant-variance Initialization"
   ]
  },
  {
   "cell_type": "code",
   "execution_count": 3,
   "id": "95f9f890",
   "metadata": {},
   "outputs": [
    {
     "data": {
      "text/plain": [
       "(-1.0, 1.0)"
      ]
     },
     "execution_count": 3,
     "metadata": {},
     "output_type": "execute_result"
    },
    {
     "data": {
      "image/png": "[encoded data removed]",
      "text/plain": [
       "<Figure size 432x288 with 1 Axes>"
      ]
     },
     "metadata": {
      "needs_background": "light"
     },
     "output_type": "display_data"
    }
   ],
   "source": [
    "sigma = 0.02\n",
    "# sigma = 0.1\n",
    "nn.init.normal_(fcs[0].weight, mean=0.0, std=sigma)\n",
    "a1 = torch.tanh(fcs[0](x))\n",
    "plt.hist(a1.detach().numpy().reshape(-1), bins=50, density=True)\n",
    "plt.xlim(-1, 1)"
   ]
  },
  {
   "cell_type": "code",
   "execution_count": 4,
   "id": "157928da",
   "metadata": {},
   "outputs": [
    {
     "data": {
      "text/plain": [
       "(-1.0, 1.0)"
      ]
     },
     "execution_count": 4,
     "metadata": {},
     "output_type": "execute_result"
    },
    {
     "data": {
      "image/png": "[encoded data removed]",
      "text/plain": [
       "<Figure size 432x288 with 1 Axes>"
      ]
     },
     "metadata": {
      "needs_background": "light"
     },
     "output_type": "display_data"
    }
   ],
   "source": [
    "nn.init.normal_(fcs[1].weight, mean=0.0, std=sigma)\n",
    "a2 = torch.tanh(fcs[1](a1))\n",
    "plt.hist(a2.detach().numpy().reshape(-1), bins=50, density=True)\n",
    "plt.xlim(-1, 1)"
   ]
  },
  {
   "cell_type": "code",
   "execution_count": 5,
   "id": "c9bd1114",
   "metadata": {},
   "outputs": [
    {
     "data": {
      "text/plain": [
       "(-1.0, 1.0)"
      ]
     },
     "execution_count": 5,
     "metadata": {},
     "output_type": "execute_result"
    },
    {
     "data": {
      "image/png": "[encoded data removed]",
      "text/plain": [
       "<Figure size 432x288 with 1 Axes>"
      ]
     },
     "metadata": {
      "needs_background": "light"
     },
     "output_type": "display_data"
    }
   ],
   "source": [
    "nn.init.normal_(fcs[2].weight, mean=0.0, std=sigma)\n",
    "a3 = torch.tanh(fcs[2](a2))\n",
    "plt.hist(a3.detach().numpy().reshape(-1), bins=50, density=True)\n",
    "plt.xlim(-1, 1)"
   ]
  },
  {
   "cell_type": "code",
   "execution_count": 6,
   "id": "094f3566",
   "metadata": {},
   "outputs": [
    {
     "data": {
      "text/plain": [
       "(-1.0, 1.0)"
      ]
     },
     "execution_count": 6,
     "metadata": {},
     "output_type": "execute_result"
    },
    {
     "data": {
      "image/png": "[encoded data removed]",
      "text/plain": [
       "<Figure size 432x288 with 1 Axes>"
      ]
     },
     "metadata": {
      "needs_background": "light"
     },
     "output_type": "display_data"
    }
   ],
   "source": [
    "nn.init.normal_(fcs[3].weight, mean=0.0, std=sigma)\n",
    "a4 = torch.tanh(fcs[3](a3))\n",
    "plt.hist(a4.detach().numpy().reshape(-1), bins=50, density=True)\n",
    "plt.xlim(-1, 1)"
   ]
  },
  {
   "cell_type": "code",
   "execution_count": 7,
   "id": "5f22b11c",
   "metadata": {},
   "outputs": [
    {
     "data": {
      "text/plain": [
       "(-1.0, 1.0)"
      ]
     },
     "execution_count": 7,
     "metadata": {},
     "output_type": "execute_result"
    },
    {
     "data": {
      "image/png": "[encoded data removed]",
      "text/plain": [
       "<Figure size 432x288 with 1 Axes>"
      ]
     },
     "metadata": {
      "needs_background": "light"
     },
     "output_type": "display_data"
    }
   ],
   "source": [
    "nn.init.normal_(fcs[4].weight, mean=0.0, std=sigma)\n",
    "a5 = torch.tanh(fcs[4](a4))\n",
    "plt.hist(a5.detach().numpy().reshape(-1), bins=50, density=True)\n",
    "plt.xlim(-1, 1)"
   ]
  },
  {
   "cell_type": "markdown",
   "id": "3c577e52",
   "metadata": {},
   "source": [
    "# Xavier Initialization"
   ]
  },
  {
   "cell_type": "code",
   "execution_count": 8,
   "id": "f3fa7d12",
   "metadata": {},
   "outputs": [
    {
     "data": {
      "text/plain": [
       "(-1.0, 1.0)"
      ]
     },
     "execution_count": 8,
     "metadata": {},
     "output_type": "execute_result"
    },
    {
     "data": {
      "image/png": "[encoded data removed]",
      "text/plain": [
       "<Figure size 432x288 with 1 Axes>"
      ]
     },
     "metadata": {
      "needs_background": "light"
     },
     "output_type": "display_data"
    }
   ],
   "source": [
    "np.random.seed(123)\n",
    "torch.random.manual_seed(123)\n",
    "\n",
    "in_dim = fcs[0].weight.shape[1]\n",
    "nn.init.normal_(fcs[0].weight, mean=0.0, std=1.0 / math.sqrt(in_dim))\n",
    "a1 = torch.tanh(fcs[0](x))\n",
    "plt.hist(a1.detach().numpy().reshape(-1), bins=50, density=True)\n",
    "plt.xlim(-1, 1)"
   ]
  },
  {
   "cell_type": "code",
   "execution_count": 9,
   "id": "88665d79",
   "metadata": {},
   "outputs": [
    {
     "data": {
      "text/plain": [
       "(-1.0, 1.0)"
      ]
     },
     "execution_count": 9,
     "metadata": {},
     "output_type": "execute_result"
    },
    {
     "data": {
      "image/png": "[encoded data removed]",
      "text/plain": [
       "<Figure size 432x288 with 1 Axes>"
      ]
     },
     "metadata": {
      "needs_background": "light"
     },
     "output_type": "display_data"
    }
   ],
   "source": [
    "in_dim = fcs[1].weight.shape[1]\n",
    "nn.init.normal_(fcs[1].weight, mean=0.0, std=1.0 / math.sqrt(in_dim))\n",
    "a2 = torch.tanh(fcs[1](a1))\n",
    "plt.hist(a2.detach().numpy().reshape(-1), bins=50, density=True)\n",
    "plt.xlim(-1, 1)"
   ]
  },
  {
   "cell_type": "code",
   "execution_count": 10,
   "id": "6c9c88e5",
   "metadata": {},
   "outputs": [
    {
     "data": {
      "text/plain": [
       "(-1.0, 1.0)"
      ]
     },
     "execution_count": 10,
     "metadata": {},
     "output_type": "execute_result"
    },
    {
     "data": {
      "image/png": "[encoded data removed]",
      "text/plain": [
       "<Figure size 432x288 with 1 Axes>"
      ]
     },
     "metadata": {
      "needs_background": "light"
     },
     "output_type": "display_data"
    }
   ],
   "source": [
    "in_dim = fcs[2].weight.shape[1]\n",
    "nn.init.normal_(fcs[2].weight, mean=0.0, std=1.0 / math.sqrt(in_dim))\n",
    "a3 = torch.tanh(fcs[2](a2))\n",
    "plt.hist(a3.detach().numpy().reshape(-1), bins=50, density=True)\n",
    "plt.xlim(-1, 1)"
   ]
  },
  {
   "cell_type": "code",
   "execution_count": 11,
   "id": "e18e9ab7",
   "metadata": {},
   "outputs": [
    {
     "data": {
      "text/plain": [
       "(-1.0, 1.0)"
      ]
     },
     "execution_count": 11,
     "metadata": {},
     "output_type": "execute_result"
    },
    {
     "data": {
      "image/png": "[encoded data removed]",
      "text/plain": [
       "<Figure size 432x288 with 1 Axes>"
      ]
     },
     "metadata": {
      "needs_background": "light"
     },
     "output_type": "display_data"
    }
   ],
   "source": [
    "in_dim = fcs[3].weight.shape[1]\n",
    "nn.init.normal_(fcs[3].weight, mean=0.0, std=1.0 / math.sqrt(in_dim))\n",
    "a4 = torch.tanh(fcs[3](a3))\n",
    "plt.hist(a4.detach().numpy().reshape(-1), bins=50, density=True)\n",
    "plt.xlim(-1, 1)"
   ]
  },
  {
   "cell_type": "code",
   "execution_count": 12,
   "id": "0ea2e930",
   "metadata": {
    "scrolled": true
   },
   "outputs": [
    {
     "data": {
      "text/plain": [
       "(-1.0, 1.0)"
      ]
     },
     "execution_count": 12,
     "metadata": {},
     "output_type": "execute_result"
    },
    {
     "data": {
      "image/png": "[encoded data removed]",
      "text/plain": [
       "<Figure size 432x288 with 1 Axes>"
      ]
     },
     "metadata": {
      "needs_background": "light"
     },
     "output_type": "display_data"
    }
   ],
   "source": [
    "in_dim = fcs[4].weight.shape[1]\n",
    "nn.init.normal_(fcs[4].weight, mean=0.0, std=1.0 / math.sqrt(in_dim))\n",
    "a5 = torch.tanh(fcs[4](a4))\n",
    "plt.hist(a5.detach().numpy().reshape(-1), bins=50, density=True)\n",
    "plt.xlim(-1, 1)"
   ]
  },
  {
   "cell_type": "markdown",
   "id": "edc26b3d",
   "metadata": {},
   "source": [
    "# Xavier Initialization on ReLU"
   ]
  },
  {
   "cell_type": "code",
   "execution_count": 13,
   "id": "d70b2c2e",
   "metadata": {},
   "outputs": [
    {
     "data": {
      "text/plain": [
       "(-1.0, 10.0)"
      ]
     },
     "execution_count": 13,
     "metadata": {},
     "output_type": "execute_result"
    },
    {
     "data": {
      "image/png": "[encoded data removed]",
      "text/plain": [
       "<Figure size 432x288 with 1 Axes>"
      ]
     },
     "metadata": {
      "needs_background": "light"
     },
     "output_type": "display_data"
    }
   ],
   "source": [
    "np.random.seed(123)\n",
    "torch.random.manual_seed(123)\n",
    "\n",
    "in_dim = fcs[0].weight.shape[1]\n",
    "nn.init.normal_(fcs[0].weight, mean=0.0, std=1.0 / math.sqrt(in_dim))\n",
    "a1 = torch.relu(fcs[0](x))\n",
    "plt.hist(a1.detach().numpy().reshape(-1), bins=50, density=True)\n",
    "plt.xlim(-1, 10)"
   ]
  },
  {
   "cell_type": "code",
   "execution_count": 14,
   "id": "9c4aab5c",
   "metadata": {},
   "outputs": [
    {
     "data": {
      "text/plain": [
       "(-1.0, 10.0)"
      ]
     },
     "execution_count": 14,
     "metadata": {},
     "output_type": "execute_result"
    },
    {
     "data": {
      "image/png": "[encoded data removed]",
      "text/plain": [
       "<Figure size 432x288 with 1 Axes>"
      ]
     },
     "metadata": {
      "needs_background": "light"
     },
     "output_type": "display_data"
    }
   ],
   "source": [
    "in_dim = fcs[1].weight.shape[1]\n",
    "nn.init.normal_(fcs[1].weight, mean=0.0, std=1.0 / math.sqrt(in_dim))\n",
    "a2 = torch.relu(fcs[1](a1))\n",
    "plt.hist(a2.detach().numpy().reshape(-1), bins=50, density=True)\n",
    "plt.xlim(-1, 10)"
   ]
  },
  {
   "cell_type": "code",
   "execution_count": 15,
   "id": "7f02581b",
   "metadata": {},
   "outputs": [
    {
     "data": {
      "text/plain": [
       "(-1.0, 10.0)"
      ]
     },
     "execution_count": 15,
     "metadata": {},
     "output_type": "execute_result"
    },
    {
     "data": {
      "image/png": "[encoded data removed]",
      "text/plain": [
       "<Figure size 432x288 with 1 Axes>"
      ]
     },
     "metadata": {
      "needs_background": "light"
     },
     "output_type": "display_data"
    }
   ],
   "source": [
    "in_dim = fcs[2].weight.shape[1]\n",
    "nn.init.normal_(fcs[2].weight, mean=0.0, std=1.0 / math.sqrt(in_dim))\n",
    "a3 = torch.relu(fcs[2](a2))\n",
    "plt.hist(a3.detach().numpy().reshape(-1), bins=50, density=True)\n",
    "plt.xlim(-1, 10)"
   ]
  },
  {
   "cell_type": "code",
   "execution_count": 16,
   "id": "38a6b3fc",
   "metadata": {},
   "outputs": [
    {
     "data": {
      "text/plain": [
       "(-1.0, 10.0)"
      ]
     },
     "execution_count": 16,
     "metadata": {},
     "output_type": "execute_result"
    },
    {
     "data": {
      "image/png": "[encoded data removed]",
      "text/plain": [
       "<Figure size 432x288 with 1 Axes>"
      ]
     },
     "metadata": {
      "needs_background": "light"
     },
     "output_type": "display_data"
    }
   ],
   "source": [
    "in_dim = fcs[3].weight.shape[1]\n",
    "nn.init.normal_(fcs[3].weight, mean=0.0, std=1.0 / math.sqrt(in_dim))\n",
    "a4 = torch.relu(fcs[3](a3))\n",
    "plt.hist(a4.detach().numpy().reshape(-1), bins=50, density=True)\n",
    "plt.xlim(-1, 10)"
   ]
  },
  {
   "cell_type": "code",
   "execution_count": 17,
   "id": "1a4e8806",
   "metadata": {},
   "outputs": [
    {
     "data": {
      "text/plain": [
       "(-1.0, 10.0)"
      ]
     },
     "execution_count": 17,
     "metadata": {},
     "output_type": "execute_result"
    },
    {
     "data": {
      "image/png": "[encoded data removed]",
      "text/plain": [
       "<Figure size 432x288 with 1 Axes>"
      ]
     },
     "metadata": {
      "needs_background": "light"
     },
     "output_type": "display_data"
    }
   ],
   "source": [
    "in_dim = fcs[4].weight.shape[1]\n",
    "nn.init.normal_(fcs[4].weight, mean=0.0, std=1.0 / math.sqrt(in_dim))\n",
    "a5 = torch.relu(fcs[4](a4))\n",
    "plt.hist(a5.detach().numpy().reshape(-1), bins=50, density=True)\n",
    "plt.xlim(-1, 10)"
   ]
  },
  {
   "cell_type": "markdown",
   "id": "71585436",
   "metadata": {},
   "source": [
    "# Kaiming Initialization"
   ]
  },
  {
   "cell_type": "code",
   "execution_count": 18,
   "id": "e5646d82",
   "metadata": {},
   "outputs": [
    {
     "data": {
      "text/plain": [
       "(-1.0, 10.0)"
      ]
     },
     "execution_count": 18,
     "metadata": {},
     "output_type": "execute_result"
    },
    {
     "data": {
      "image/png": "[encoded data removed]",
      "text/plain": [
       "<Figure size 432x288 with 1 Axes>"
      ]
     },
     "metadata": {
      "needs_background": "light"
     },
     "output_type": "display_data"
    }
   ],
   "source": [
    "np.random.seed(123)\n",
    "torch.random.manual_seed(123)\n",
    "\n",
    "in_dim = fcs[0].weight.shape[1]\n",
    "nn.init.normal_(fcs[0].weight, mean=0.0, std=2.0 / math.sqrt(in_dim))\n",
    "a1 = torch.relu(fcs[0](x))\n",
    "plt.hist(a1.detach().numpy().reshape(-1), bins=50, density=True)\n",
    "plt.xlim(-1, 10)"
   ]
  },
  {
   "cell_type": "code",
   "execution_count": 19,
   "id": "7c37147d",
   "metadata": {},
   "outputs": [
    {
     "data": {
      "text/plain": [
       "(-1.0, 10.0)"
      ]
     },
     "execution_count": 19,
     "metadata": {},
     "output_type": "execute_result"
    },
    {
     "data": {
      "image/png": "[encoded data removed]",
      "text/plain": [
       "<Figure size 432x288 with 1 Axes>"
      ]
     },
     "metadata": {
      "needs_background": "light"
     },
     "output_type": "display_data"
    }
   ],
   "source": [
    "in_dim = fcs[1].weight.shape[1]\n",
    "nn.init.normal_(fcs[1].weight, mean=0.0, std=2.0 / math.sqrt(in_dim))\n",
    "a2 = torch.relu(fcs[1](a1))\n",
    "plt.hist(a2.detach().numpy().reshape(-1), bins=50, density=True)\n",
    "plt.xlim(-1, 10)"
   ]
  },
  {
   "cell_type": "code",
   "execution_count": 20,
   "id": "e087958e",
   "metadata": {},
   "outputs": [
    {
     "data": {
      "text/plain": [
       "(-1.0, 10.0)"
      ]
     },
     "execution_count": 20,
     "metadata": {},
     "output_type": "execute_result"
    },
    {
     "data": {
      "image/png": "[encoded data removed]",
      "text/plain": [
       "<Figure size 432x288 with 1 Axes>"
      ]
     },
     "metadata": {
      "needs_background": "light"
     },
     "output_type": "display_data"
    }
   ],
   "source": [
    "in_dim = fcs[2].weight.shape[1]\n",
    "nn.init.normal_(fcs[2].weight, mean=0.0, std=2.0 / math.sqrt(in_dim))\n",
    "a3 = torch.relu(fcs[2](a2))\n",
    "plt.hist(a3.detach().numpy().reshape(-1), bins=50, density=True)\n",
    "plt.xlim(-1, 10)"
   ]
  },
  {
   "cell_type": "code",
   "execution_count": 21,
   "id": "c05ec3e1",
   "metadata": {},
   "outputs": [
    {
     "data": {
      "text/plain": [
       "(-1.0, 10.0)"
      ]
     },
     "execution_count": 21,
     "metadata": {},
     "output_type": "execute_result"
    },
    {
     "data": {
      "image/png": "[encoded data removed]",
      "text/plain": [
       "<Figure size 432x288 with 1 Axes>"
      ]
     },
     "metadata": {
      "needs_background": "light"
     },
     "output_type": "display_data"
    }
   ],
   "source": [
    "in_dim = fcs[3].weight.shape[1]\n",
    "nn.init.normal_(fcs[3].weight, mean=0.0, std=2.0 / math.sqrt(in_dim))\n",
    "a4 = torch.relu(fcs[3](a3))\n",
    "plt.hist(a4.detach().numpy().reshape(-1), bins=50, density=True)\n",
    "plt.xlim(-1, 10)"
   ]
  },
  {
   "cell_type": "code",
   "execution_count": 22,
   "id": "b0ef11c6",
   "metadata": {},
   "outputs": [
    {
     "data": {
      "text/plain": [
       "(-1.0, 10.0)"
      ]
     },
     "execution_count": 22,
     "metadata": {},
     "output_type": "execute_result"
    },
    {
     "data": {
      "image/png": "[encoded data removed]",
      "text/plain": [
       "<Figure size 432x288 with 1 Axes>"
      ]
     },
     "metadata": {
      "needs_background": "light"
     },
     "output_type": "display_data"
    }
   ],
   "source": [
    "in_dim = fcs[4].weight.shape[1]\n",
    "nn.init.normal_(fcs[4].weight, mean=0.0, std=2.0 / math.sqrt(in_dim))\n",
    "a5 = torch.relu(fcs[4](a4))\n",
    "plt.hist(a5.detach().numpy().reshape(-1), bins=50, density=True)\n",
    "plt.xlim(-1, 10)"
   ]
  }
 ],
 "metadata": {
  "kernelspec": {
   "display_name": "Python 3",
   "language": "python",
   "name": "python3"
  },
  "language_info": {
   "codemirror_mode": {
    "name": "ipython",
    "version": 3
   },
   "file_extension": ".py",
   "mimetype": "text/x-python",
   "name": "python",
   "nbconvert_exporter": "python",
   "pygments_lexer": "ipython3",
   "version": "3.8.8"
  }
 },
 "nbformat": 4,
 "nbformat_minor": 5
}
